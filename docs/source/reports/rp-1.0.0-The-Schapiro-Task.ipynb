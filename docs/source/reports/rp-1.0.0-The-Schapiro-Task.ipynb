{
 "cells": [
  {
   "cell_type": "markdown",
   "metadata": {},
   "source": [
    "# 1.0.0 The Schapiro Task\n",
    "\n",
    "This notebook summarizes all the components of this repo that implements what I've been calling Schapiro task as seen in her paper titled, \"[Neural representations of events arise from temporal community structure](https://www.nature.com/articles/nn.3331)\"."
   ]
  },
  {
   "cell_type": "markdown",
   "metadata": {},
   "source": [
    "## Environment\n",
    "\n",
    "These next few sections summarize the environment necessary. Skip if needed."
   ]
  },
  {
   "cell_type": "markdown",
   "metadata": {},
   "source": [
    "### Jupyter Extensions"
   ]
  },
  {
   "cell_type": "markdown",
   "metadata": {},
   "source": [
    "Load [watermark](https://github.com/rasbt/watermark) to see the state of the machine and environment that's running the notebook. To make sense of the options, take a look at the [usage](https://github.com/rasbt/watermark#usage) section of the readme."
   ]
  },
  {
   "cell_type": "code",
   "execution_count": 1,
   "metadata": {},
   "outputs": [
    {
     "name": "stdout",
     "output_type": "stream",
     "text": [
      "Compiler    : GCC 9.3.0\n",
      "OS          : Linux\n",
      "Release     : 5.4.0-58-generic\n",
      "Machine     : x86_64\n",
      "Processor   : x86_64\n",
      "CPU cores   : 4\n",
      "Architecture: 64bit\n",
      "\n",
      "Hostname: apra-x3\n",
      "\n",
      "Git hash: 1c0ef667d5e3b71d00623151556df26a75fd9806\n",
      "\n",
      "Git branch: master\n",
      "\n"
     ]
    }
   ],
   "source": [
    "# Load `watermark` extension\n",
    "%load_ext watermark\n",
    "# Display the status of the machine and other non-code related info\n",
    "%watermark -n -m -g -b -t -h"
   ]
  },
  {
   "cell_type": "markdown",
   "metadata": {},
   "source": [
    "Load [autoreload](https://ipython.org/ipython-doc/3/config/extensions/autoreload.html) which will always reload modules marked with `%aimport`.\n",
    "\n",
    "This behavior can be inverted by running `autoreload 2` which will set everything to be auto-reloaded *except* for modules marked with `%aimport`."
   ]
  },
  {
   "cell_type": "code",
   "execution_count": 2,
   "metadata": {},
   "outputs": [],
   "source": [
    "# Load `autoreload` extension\n",
    "%load_ext autoreload\n",
    "# Set autoreload behavior\n",
    "%autoreload 1"
   ]
  },
  {
   "cell_type": "markdown",
   "metadata": {},
   "source": [
    "Load `matplotlib` in one of the more `jupyter`-friendly [rich-output modes](https://ipython.readthedocs.io/en/stable/interactive/plotting.html). Some options (that may or may not have worked) are `inline`, `notebook`, and `gtk`."
   ]
  },
  {
   "cell_type": "code",
   "execution_count": 3,
   "metadata": {},
   "outputs": [],
   "source": [
    "# Set the matplotlib mode\n",
    "%matplotlib inline"
   ]
  },
  {
   "cell_type": "markdown",
   "metadata": {},
   "source": [
    "### Imports"
   ]
  },
  {
   "cell_type": "code",
   "execution_count": 4,
   "metadata": {},
   "outputs": [
    {
     "name": "stdout",
     "output_type": "stream",
     "text": [
      "Python implementation: CPython\n",
      "Python version       : 3.8.6\n",
      "IPython version      : 7.18.1\n",
      "\n",
      "networkx: 2.5\n",
      "PIL     : 8.1.0\n",
      "numpy   : 1.19.2\n",
      "torch   : 1.7.1\n",
      "\n"
     ]
    }
   ],
   "source": [
    "from collections.abc import Iterable\n",
    "\n",
    "import networkx as nx\n",
    "import numpy as np\n",
    "import torch\n",
    "from PIL import Image, ImageOps\n",
    "from torch.utils.data import DataLoader, IterableDataset\n",
    "\n",
    "# Keep track of versions of everything\n",
    "%watermark -v -iv"
   ]
  },
  {
   "cell_type": "markdown",
   "metadata": {},
   "source": [
    "## The Schapiro Graph\n",
    "\n",
    "Recall the graph we want to create has the following structure:\n",
    "    \n",
    "<img src=\"https://media.springernature.com/full/springer-static/image/art%3A10.1038%2Fnn.3331/MediaObjects/41593_2013_Article_BFnn3331_Fig1_HTML.jpg?as=webp\">\n",
    "\n",
    "Where `Fig A` is the graph, and `Fig B` & `Fig C` are two different sets of elements that you sample from."
   ]
  },
  {
   "cell_type": "markdown",
   "metadata": {},
   "source": [
    "## Networkx Graph Structures\n",
    "\n",
    "The underlying datastructure being used is the `networkx` `Graph` class. Below is a function to generate one pentagon of the overall graph."
   ]
  },
  {
   "cell_type": "code",
   "execution_count": 5,
   "metadata": {},
   "outputs": [],
   "source": [
    "def schapiro_pentagon(offset=0, weight=1):\n",
    "    \"\"\"Creates a pentagon of nodes and edges like in the paper.\n",
    "\n",
    "    Nodes are numbered from ``offset*5`` to ``offset*5 + 5``.\n",
    "    \n",
    "    Parameters\n",
    "    ----------\n",
    "    offset : int (optional)\n",
    "    \tOffset to start the numbering of the nodes\n",
    "\n",
    "    weight : int (optional)\n",
    "    \tWeight of edges.\n",
    "\n",
    "    Returns\n",
    "    -------\n",
    "    G : nx.Graph\n",
    "    \tGraph that contains the nodes and edges for the pentagon\n",
    "    \"\"\"\n",
    "    G = nx.Graph()\n",
    "    G.add_nodes_from(range(offset, offset+5))\n",
    "\n",
    "    nodes_list = list(G.nodes)\n",
    "    border_nodes = [nodes_list[0], nodes_list[-1]]\n",
    "    for i, node_1 in enumerate(nodes_list[:-1]):\n",
    "        for node_2 in nodes_list[i+1:]:\n",
    "            if node_1 in border_nodes and node_2 in border_nodes:\n",
    "                continue\n",
    "            G.add_edge(node_1, node_2, weight=weight)\n",
    "    return G\n",
    "\n",
    "G = schapiro_pentagon()"
   ]
  },
  {
   "cell_type": "markdown",
   "metadata": {},
   "source": [
    "To visualize graphs, use the various `networkx` draw functions:"
   ]
  },
  {
   "cell_type": "code",
   "execution_count": 6,
   "metadata": {},
   "outputs": [
    {
     "data": {
      "image/png": "[encoded data removed]",
      "text/plain": [
       "<Figure size 432x288 with 1 Axes>"
      ]
     },
     "metadata": {},
     "output_type": "display_data"
    }
   ],
   "source": [
    "nx.draw(G, with_labels=True, font_weight='bold')"
   ]
  },
  {
   "cell_type": "markdown",
   "metadata": {},
   "source": [
    "To put together multiple pentagons, the following function is used:"
   ]
  },
  {
   "cell_type": "code",
   "execution_count": 7,
   "metadata": {},
   "outputs": [],
   "source": [
    "def schapiro_graph(n_pentagons=3, weight=1):\n",
    "    \"\"\"Creates the full schapiro graph that is a collection of pentagon nodes.\n",
    "\n",
    "    Nodes are numberd in groups of five from ``0`` to ``n_pentagons * 5``.\n",
    "\n",
    "    Parameters\n",
    "    ----------\n",
    "    n_pentagons : int (optional)\n",
    "    \tNumber of pentagons to include in the graph\n",
    "\n",
    "    weight : int (optional)\n",
    "    \tWeight of edges.\n",
    "\n",
    "    Returns\n",
    "    -------\n",
    "    G : nx.Graph\n",
    "    \tGraph that contains the nodes and edges for the full schapiro graph\n",
    "    \"\"\"    \n",
    "    G = nx.Graph()\n",
    "\n",
    "    # Add each community to the full graph\n",
    "    pents = [schapiro_pentagon(offset=i*5) for i in range(n_pentagons)]\n",
    "    [G.add_edges_from(pent.edges, weight=weight) for pent in pents]\n",
    "\n",
    "    # Connect each community together\n",
    "    for i in range(n_pentagons-1):\n",
    "        G.add_edge(list(pents[i])[0], list(pents[i-1])[-1], weight=weight)\n",
    "        G.add_edge(list(pents[i])[4], list(pents[i+1])[0], weight=weight)\n",
    "\n",
    "    return G"
   ]
  },
  {
   "cell_type": "code",
   "execution_count": 8,
   "metadata": {},
   "outputs": [
    {
     "data": {
      "image/png": "[encoded data removed]",
      "text/plain": [
       "<Figure size 432x288 with 1 Axes>"
      ]
     },
     "metadata": {},
     "output_type": "display_data"
    }
   ],
   "source": [
    "G = schapiro_graph()\n",
    "nx.draw(G, with_labels=True, font_weight='bold')"
   ]
  },
  {
   "cell_type": "markdown",
   "metadata": {},
   "source": [
    "Note that each node is numbered, as a way to index them. Additionally, you can create graphs with an arbitrary number of pentagons (communities)."
   ]
  },
  {
   "cell_type": "code",
   "execution_count": 9,
   "metadata": {},
   "outputs": [
    {
     "data": {
      "image/png": "[encoded data removed]",
      "text/plain": [
       "<Figure size 432x288 with 1 Axes>"
      ]
     },
     "metadata": {},
     "output_type": "display_data"
    }
   ],
   "source": [
    "G = schapiro_graph(n_pentagons=5)\n",
    "nx.draw(G, with_labels=True, font_weight='bold')"
   ]
  },
  {
   "cell_type": "markdown",
   "metadata": {},
   "source": [
    "## Graph Walks\n",
    "\n",
    "Sampling from the graph amounts to performing various walks on it. The two that will be used is the random walk, and the Eulerian walk."
   ]
  },
  {
   "cell_type": "markdown",
   "metadata": {},
   "source": [
    "### Random Walk\n",
    "\n",
    "Below is the code for performing a random walk:"
   ]
  },
  {
   "cell_type": "code",
   "execution_count": 10,
   "metadata": {},
   "outputs": [],
   "source": [
    "@nx.utils.py_random_state(1)\n",
    "def weighted_sample(node, seed=None):\n",
    "    \"\"\"Slightly modified version of ``nx.utils.weighted_choice`` to handle views\n",
    "\n",
    "    Parameters\n",
    "    ----------\n",
    "    node : AtlasView\n",
    "        A view of a node, containing all its neighbors\n",
    "        \n",
    "    Returns\n",
    "    -------\n",
    "    step : tuple\n",
    "        Identifier for the sampled node\n",
    "    \"\"\"\n",
    "    # use roulette method\n",
    "    rnd = seed.random() * sum([n['weight'] for n in node.values()])\n",
    "    for k, w in node.items():\n",
    "        rnd -= w['weight']\n",
    "        if rnd < 0:\n",
    "            return k\n",
    "\n",
    "def walk_random(G, source=None, steps=None):\n",
    "    \"\"\"Iterator that yields the start and final position after each step\n",
    "\n",
    "    Parameters\n",
    "    ----------\n",
    "    G : nx.Graph\n",
    "    \tGraph to be walked through\n",
    "\n",
    "    source : hashable (optional)\n",
    "    \tHashable type that identifies the start node to use in G. Randomly\n",
    "    \tchooses a node if None\n",
    "\n",
    "    steps : int or None (optional)\n",
    "    \tNumber of steps to take before terminating. Yields indefinitely if None\n",
    "\n",
    "    Yields\n",
    "    ------\n",
    "    (source, position) : (hashable, hashable)\n",
    "    \tThe start and end node identifiers after each step\n",
    "    \"\"\"\n",
    "    # Choose a start position\n",
    "    source = source or list(G.nodes)[np.random.choice(len(G.nodes))]\n",
    "    assert source in list(G.nodes)\n",
    "\n",
    "    # Keep taking steps indefinitely or until steps reaches zero\n",
    "    while steps != 0:\n",
    "        position = weighted_sample(G[source])\n",
    "        yield source, position\n",
    "        source = position\n",
    "        if isinstance(steps, (int, float)):\n",
    "            steps -= 1"
   ]
  },
  {
   "cell_type": "markdown",
   "metadata": {},
   "source": [
    "### Walk Generator\n",
    "\n",
    "Below is an example of the random walk:"
   ]
  },
  {
   "cell_type": "code",
   "execution_count": 11,
   "metadata": {},
   "outputs": [
    {
     "name": "stdout",
     "output_type": "stream",
     "text": [
      "(4, 2)\n",
      "(2, 3)\n",
      "(3, 2)\n",
      "(2, 0)\n",
      "(0, 3)\n"
     ]
    }
   ],
   "source": [
    "G = schapiro_graph()\n",
    "walk = walk_random(G)\n",
    "\n",
    "for i in range(5):\n",
    "    print(next(walk))"
   ]
  },
  {
   "cell_type": "markdown",
   "metadata": {},
   "source": [
    "Note that `walk_random` is a generator function, which outputs a generator `walk` which can be iterated through. If not reinstatiated, the generator resumes from the previous location, rather than starting again."
   ]
  },
  {
   "cell_type": "code",
   "execution_count": 12,
   "metadata": {},
   "outputs": [
    {
     "name": "stdout",
     "output_type": "stream",
     "text": [
      "(3, 4)\n",
      "(4, 3)\n",
      "(3, 0)\n",
      "(0, 1)\n",
      "(1, 4)\n"
     ]
    }
   ],
   "source": [
    "for i in range(5):\n",
    "    print(next(walk))"
   ]
  },
  {
   "cell_type": "markdown",
   "metadata": {},
   "source": [
    "### Starting (Source) Position\n",
    "\n",
    "Passing in `source` selects the starting position of the walk:"
   ]
  },
  {
   "cell_type": "code",
   "execution_count": 13,
   "metadata": {},
   "outputs": [
    {
     "name": "stdout",
     "output_type": "stream",
     "text": [
      "(5, 7)\n",
      "(7, 9)\n",
      "(9, 10)\n",
      "(10, 13)\n",
      "(13, 12)\n"
     ]
    }
   ],
   "source": [
    "walk = walk_random(G, source=5)\n",
    "\n",
    "for i in range(5):\n",
    "    print(next(walk))"
   ]
  },
  {
   "cell_type": "markdown",
   "metadata": {},
   "source": [
    "### Number of Steps\n",
    "\n",
    "Previous examples would iterate indefinitely hence the need for explicitly setting the number of steps in the for loop. The generator can be set to end iterating after `steps` number of steps, which means it can be iterated through more directly:"
   ]
  },
  {
   "cell_type": "code",
   "execution_count": 14,
   "metadata": {},
   "outputs": [
    {
     "name": "stdout",
     "output_type": "stream",
     "text": [
      "(14, 12)\n",
      "(12, 14)\n",
      "(14, 11)\n",
      "(11, 13)\n",
      "(13, 12)\n"
     ]
    }
   ],
   "source": [
    "walk = walk_random(G, steps=5)\n",
    "\n",
    "for step in walk:\n",
    "    print(step)"
   ]
  },
  {
   "cell_type": "markdown",
   "metadata": {},
   "source": [
    "### Eulerian Walk\n",
    "\n",
    "In the paper, the participants were tested on Hamiltonian walks (visits every node once). However being able to evaluate every transition of the graph would be more informative, so I implement a bidirectional eulerian walk, which visits every edge twice; once in each direction. This allows for every pair of representations to be compared in each direction. Below is the code for this walk:"
   ]
  },
  {
   "cell_type": "code",
   "execution_count": 15,
   "metadata": {},
   "outputs": [],
   "source": [
    "def walk_eulerian(G, source=None):\n",
    "    \"\"\"Iterator that yields the start and final position after each step on a\n",
    "    eulerian walk (visit every edge once).\n",
    "\n",
    "    Parameters\n",
    "    ----------\n",
    "    G : nx.Graph\n",
    "    \tGraph to be walked through\n",
    "\n",
    "    source : hashable (optional)\n",
    "    \tHashable type that identifies the start node to use in G. Randomly\n",
    "    \tchooses a node if None\n",
    "\n",
    "    Yields\n",
    "    ------\n",
    "    (source, position) : (hashable, hashable)\n",
    "    \tThe start and end node identifiers after each step\n",
    "    \"\"\"    \n",
    "    source = source or list(G.nodes)[np.random.choice(len(G.nodes))]\n",
    "    assert source in list(G.nodes)\n",
    "    \n",
    "    return nx.algorithms.euler.eulerian_path(G, source=source)\n",
    "\n",
    "def walk_bi_eulerian(G, source=None):\n",
    "    \"\"\"Iterator that yields the start and final position after each step on a\n",
    "    bidirectional eulerian walk (visit every edge twice; once in each \n",
    "    direction).\n",
    "\n",
    "    Parameters\n",
    "    ----------\n",
    "    G : nx.Graph\n",
    "    \tGraph to be walked through\n",
    "\n",
    "    source : hashable (optional)\n",
    "    \tHashable type that identifies the start node to use in G. Randomly\n",
    "    \tchooses a node if None\n",
    "\n",
    "    Yields\n",
    "    ------\n",
    "    (source, position) : (hashable, hashable)\n",
    "    \tThe start and end node identifiers after each step\n",
    "    \"\"\"    \n",
    "    walk = walk_eulerian(G, source=source)\n",
    "    reverse_walk = []\n",
    "    # Forward\n",
    "    for step in walk:\n",
    "        yield step\n",
    "        reverse_walk.append(step)\n",
    "    # Reverse\n",
    "    for step in reversed(reverse_walk):\n",
    "        yield tuple(reversed(step))"
   ]
  },
  {
   "cell_type": "code",
   "execution_count": 16,
   "metadata": {},
   "outputs": [
    {
     "name": "stdout",
     "output_type": "stream",
     "text": [
      "(13, 14) \n",
      "(14, 12) \n",
      "(12, 13) \n",
      "(13, 11) \n",
      "(11, 12) \n",
      "(12, 10) \n",
      "(10, 11) \n",
      "(11, 14) \n",
      "(14, 0) \n",
      "(0, 3) \n",
      "(3, 4) \n",
      "(4, 2) \n",
      "(2, 3) \n",
      "(3, 1) \n",
      "(1, 2) \n",
      "(2, 0) \n",
      "(0, 1) \n",
      "(1, 4) \n",
      "(4, 5) \n",
      "(5, 8) \n",
      "(8, 9) \n",
      "(9, 7) \n",
      "(7, 8) \n",
      "(8, 6) \n",
      "(6, 7) \n",
      "(7, 5) \n",
      "(5, 6) \n",
      "(6, 9) \n",
      "(9, 10) \n",
      "(10, 13) \n",
      "(13, 10) <- Reversal\n",
      "(10, 9) \n",
      "(9, 6) \n",
      "(6, 5) \n",
      "(5, 7) \n",
      "(7, 6) \n",
      "(6, 8) \n",
      "(8, 7) \n",
      "(7, 9) \n",
      "(9, 8) \n",
      "(8, 5) \n",
      "(5, 4) \n",
      "(4, 1) \n",
      "(1, 0) \n",
      "(0, 2) \n",
      "(2, 1) \n",
      "(1, 3) \n",
      "(3, 2) \n",
      "(2, 4) \n",
      "(4, 3) \n",
      "(3, 0) \n",
      "(0, 14) \n",
      "(14, 11) \n",
      "(11, 10) \n",
      "(10, 12) \n",
      "(12, 11) \n",
      "(11, 13) \n",
      "(13, 12) \n",
      "(12, 14) \n",
      "(14, 13) \n"
     ]
    }
   ],
   "source": [
    "walk = walk_bi_eulerian(G)\n",
    "\n",
    "for i, step in enumerate(walk):\n",
    "    print(step, '<- Reversal' if i==30 else '')"
   ]
  },
  {
   "cell_type": "markdown",
   "metadata": {},
   "source": [
    "## Pytorch Datastructures\n",
    "\n",
    "The code above is brought together to create `pytorch` datasets for training. Below is the code that has it all together:"
   ]
  },
  {
   "cell_type": "code",
   "execution_count": 17,
   "metadata": {},
   "outputs": [],
   "source": [
    "class SchapiroFractalsDataset(IterableDataset):\n",
    "    modes = set(('random', 'eulerian', 'bi_eulerian' 'custom'))\n",
    "    def __init__(self, batch_size=128, n_pentagons=3, max_steps=256, n_paths=1,\n",
    "                 mapping=None, mode='random', custom_path=None, debug=False, \n",
    "                 dir_data=None, verbose=False):\n",
    "        \"\"\"IterableDataset class that returns batches of steps through a\n",
    "        defined Schapiro graph.\n",
    "\n",
    "        Parameters\n",
    "        ----------\n",
    "        batch_size : int (optional)\n",
    "            Batch size to be returned\n",
    "            \n",
    "        n_pentagons : int (optional)\n",
    "            Number of pentagons to include in the graph\n",
    "            \n",
    "        max_steps : int (optional)\n",
    "            Max number of steps per walk before resampling the start position\n",
    "            \n",
    "        n_paths : int (optional)\n",
    "            Number of independent paths per sequence of inputs. Setting\n",
    "        \t`n_paths=2` and `max_steps=3` for example, creates a full\n",
    "        \tdatasequence of length `6`, where the starting position of the walk\n",
    "        \tis resampled at element `3`. If `dir_data` is `None`, this  is the \n",
    "            number of independent paths per sequence of inputs per `epoch` of\n",
    "            data\n",
    "            \n",
    "        mapping : dict or None (optional)\n",
    "            Mapping from nodes to base elements. If this is `None` and\n",
    "        \t`data_dir` is a valid directory, then a random assignment is created\n",
    "        \tbetween nodes and files in the directory. If they are both `None`,\n",
    "        \tthen the mapping is kept at `None`\n",
    "            \n",
    "        mode : str (optional)\n",
    "            Mode for walking through the graph. Valid modes are set in the\n",
    "        \t`modes` class argument\n",
    "            \n",
    "        custom_path : Iterable (optional)\n",
    "            An iterable containing the desired path to iterate through. Returns\n",
    "            mapped elements of the path. Requires `mode == 'custom'` and\n",
    "            `mapping != None`\n",
    "            \n",
    "        debug : bool (optional)\n",
    "            Returns the node elements instead of the mapped elements as a\n",
    "        \tdebugging tool\n",
    "            \n",
    "        dir_data : pathlib.Path or None (optional)\n",
    "            Directory where the desired mapped data is\n",
    "            \n",
    "        verbose : bool (optional)    \n",
    "            Increase verbosity\n",
    "        \"\"\"\n",
    "        super().__init__()\n",
    "        self.batch_size = batch_size\n",
    "        self.n_pentagons = n_pentagons\n",
    "        self.max_steps = max_steps\n",
    "        self.n_paths = n_paths\n",
    "        self.mode = mode\n",
    "        self.custom_path = custom_path\n",
    "        self.debug = debug\n",
    "        self.verbose = True if self.debug else verbose\n",
    "\n",
    "        self.dir_data = dir_data\n",
    "        if self.dir_data is not None:\n",
    "            assert self.dir_data.exists()        \n",
    "\n",
    "        assert self.mode in self.modes\n",
    "        if self.mode == 'custom':\n",
    "            assert self.custom_path is not None and self.isiterable(\n",
    "                self.custom_path)\n",
    "            assert mapping is not None # Mapping the input\n",
    "            self.batch_size = 1\n",
    "            self.n_paths = 1\n",
    "            self.max_steps = len(self.custom_path)\n",
    "\n",
    "        self.G = schapiro_graph(n_pentagons=n_pentagons)            \n",
    "\n",
    "        self.mapping = mapping or self.random_mapping(self.dir_data,\n",
    "                                                      self.n_pentagons,\n",
    "                                                      self.G)\n",
    "        if self.mapping and self.verbose:\n",
    "            print(f'Created mapping as follows:\\n{self.mapping}')\n",
    "        \n",
    "        self.array_data = self.load_node_stimuli()\n",
    "        \n",
    "        if not self.array_data or self.debug:\n",
    "            self.sample_transform = lambda sample : sample\n",
    "        else:\n",
    "            self.sample_transform = lambda sample : self.array_data[sample]\n",
    "        \n",
    "    def load_node_stimuli(self, suffix=None):\n",
    "        if self.mapping:\n",
    "            suffix = suffix or '.tiff'\n",
    "            # Load the fractal images into memory            \n",
    "            return {node : ImageOps.grayscale(Image.open(\n",
    "                str(self.dir_data/(name + suffix))))\n",
    "                    for node, name in self.mapping.items()\n",
    "            }\n",
    "        else:\n",
    "            return None\n",
    "        \n",
    "    def iter_single_sample(self):\n",
    "        \"\"\"Creates a single walk generator and returns each element\"\"\"\n",
    "        if self.mode == 'random':\n",
    "            iter_walk = walk_random(self.G, steps=self.max_steps)\n",
    "        elif self.mode == 'eulerian':\n",
    "            iter_walk = walk_eulerian(self.G)\n",
    "        elif self.mode == 'bi_eulerian':\n",
    "            iter_walk = walk_bi_eulerian(self.G)\n",
    "        elif self.mode == 'custom':\n",
    "            iter_walk = [[s] for s in self.custom_path]\n",
    "\n",
    "        for sample in iter_walk:\n",
    "            yield self.sample_transform(sample[0]), sample[0]\n",
    "        \n",
    "    def iter_batch_sample(self):\n",
    "        \"\"\"Creates a batch of walk generators, and returns each element \n",
    "        in a batch\"\"\"\n",
    "        iter_batch = zip(*[self.iter_single_sample()\n",
    "                           for _ in range(self.batch_size)])\n",
    "        for batch in iter_batch:\n",
    "            data, nodes = zip(*batch)\n",
    "            yield data, nodes\n",
    "        \n",
    "    def iter_batch_dataset(self):\n",
    "        \"\"\"Creates a full dataset of walk generators, and returns each \n",
    "        batch\"\"\"\n",
    "        for _ in range(self.n_paths):\n",
    "            data, nodes = zip(*list(self.iter_batch_sample()))\n",
    "            yield np.moveaxis(np.array(data), 0, 1), nodes\n",
    "        \n",
    "    def __iter__(self):\n",
    "        return self.iter_batch_dataset()\n",
    "\n",
    "    @staticmethod\n",
    "    def random_mapping(dir_data, n_pentagons=3, G=None):\n",
    "        if dir_data is not None:\n",
    "            dir_data = Path(dir_data)\n",
    "            paths_all_data = list(dir_data.iterdir())\n",
    "            np.random.shuffle(paths_all_data)\n",
    "            paths_mapping_data = paths_all_data[:5*n_pentagons]\n",
    "\n",
    "            if not G:\n",
    "                G = graph.schapiro_graph(n_pentagons=n_pentagons)\n",
    "\n",
    "            return {node : path.stem\n",
    "                    for node, path in zip(range(len(G.nodes)),\n",
    "                                          paths_mapping_data)}\n",
    "        else:\n",
    "            return None\n",
    "\n",
    "    @staticmethod\n",
    "    def isiterable(obj):\n",
    "        \"\"\"Method that determines if an object is an iterable, not including \n",
    "        str.\n",
    "\n",
    "        Parameters\n",
    "        ----------\n",
    "        obj : object\n",
    "            Object to test if it is an iterable.\n",
    "\n",
    "        Returns\n",
    "        -------\n",
    "        bool : bool\n",
    "            True if the obj is an iterable, False if not.\n",
    "        \"\"\"\n",
    "        if isinstance(obj, str):\n",
    "            return False\n",
    "        else:\n",
    "            return isinstance(obj, Iterable)"
   ]
  },
  {
   "cell_type": "markdown",
   "metadata": {},
   "source": [
    "Which can be used as follows:"
   ]
  },
  {
   "cell_type": "code",
   "execution_count": 18,
   "metadata": {},
   "outputs": [
    {
     "name": "stdout",
     "output_type": "stream",
     "text": [
      "Epoch: 0\n",
      "Batch: 0\n",
      "tensor([[ 7,  5,  4,  2,  3],\n",
      "        [14, 12, 13, 11, 13],\n",
      "        [10, 12, 10, 13, 12],\n",
      "        [ 1,  0,  2,  1,  3]])\n",
      "Batch: 1\n",
      "tensor([[10, 13, 10, 11, 13],\n",
      "        [12, 13, 10, 13, 12],\n",
      "        [ 0,  3,  0, 14,  0],\n",
      "        [10, 11, 13, 11, 10]])\n",
      "Epoch: 1\n",
      "Batch: 0\n",
      "tensor([[ 2,  0,  1,  2,  3],\n",
      "        [ 4,  2,  0,  1,  2],\n",
      "        [11, 13, 12, 10, 11],\n",
      "        [ 9,  8,  5,  6,  9]])\n",
      "Batch: 1\n",
      "tensor([[ 7,  9, 10, 12, 11],\n",
      "        [ 5,  8,  9, 10, 13],\n",
      "        [ 1,  3,  0,  3,  4],\n",
      "        [ 9,  7,  8,  9, 10]])\n"
     ]
    }
   ],
   "source": [
    "epochs = 2\n",
    "batch_size = 4\n",
    "max_steps = 5\n",
    "n_paths = 2\n",
    "verbose = True\n",
    "\n",
    "iter_ds = SchapiroFractalsDataset(\n",
    "    batch_size=batch_size,\n",
    "    max_steps=max_steps,\n",
    "    n_paths=n_paths,\n",
    "    verbose=verbose,\n",
    ")\n",
    "loader = DataLoader(iter_ds, batch_size=None)\n",
    "# Note batch_size is set to None bc we are handling it in the dataset\n",
    "\n",
    "for e in range(epochs):\n",
    "    print(f'Epoch: {e}')\n",
    "    for i, (sample, node) in enumerate(loader):\n",
    "        print(f'Batch: {i}')\n",
    "        print(sample)"
   ]
  },
  {
   "cell_type": "markdown",
   "metadata": {},
   "source": [
    "In this example, each batch is of dimension `[batch_size x max_steps]`, where there are `n_paths` batches. However in the case where the data is not a scalar, the dimensions of each batch will be `[batch_size x input_dim]`, where there are `max_steps*n_paths` batches in the epoch. See this example from a previous notebook:\n",
    "\n",
    "```\n",
    "Input[0]:\n",
    "\n",
    "    epochs = 2\n",
    "    batch_size = 2\n",
    "    max_steps = 3\n",
    "    n_paths = 2\n",
    "\n",
    "    iter_ds = schapiro.ShapiroResnetEmbeddingDataset(\n",
    "        batch_size=batch_size,\n",
    "        max_steps=max_steps,\n",
    "        n_paths=n_paths,\n",
    "    )\n",
    "    loader = DataLoader(iter_ds, batch_size=None)\n",
    "\n",
    "    epochs = 2\n",
    "    for e in range(epochs):\n",
    "        print(f'Epoch: {e}')\n",
    "        for i, (sample, node) in enumerate(loader):\n",
    "            print(f'Batch: {i}')\n",
    "            print(sample.shape)\n",
    "        \n",
    "Output[0]:\n",
    "\n",
    "    Epoch: 0\n",
    "    Batch: 0\n",
    "    torch.Size([2, 2048])\n",
    "    Batch: 1\n",
    "    torch.Size([2, 2048])\n",
    "    Batch: 2 \n",
    "    torch.Size([2, 2048])\n",
    "    Batch: 3\n",
    "    torch.Size([2, 2048])\n",
    "    Batch: 4\n",
    "    torch.Size([2, 2048])\n",
    "    Batch: 5 \n",
    "    torch.Size([2, 2048])\n",
    "    Epoch: 1\n",
    "    Batch: 0\n",
    "    torch.Size([2, 2048])\n",
    "    Batch: 1\n",
    "    torch.Size([2, 2048])\n",
    "    Batch: 2 \n",
    "    torch.Size([2, 2048])\n",
    "    Batch: 3\n",
    "    torch.Size([2, 2048])\n",
    "    Batch: 4\n",
    "    torch.Size([2, 2048])\n",
    "    Batch: 5 \n",
    "    torch.Size([2, 2048])\n",
    "```"
   ]
  },
  {
   "cell_type": "markdown",
   "metadata": {},
   "source": [
    "Depending on your data, may want to change the way the dimensions are handled. Changes likely need to be made here:\n",
    "\n",
    "```\n",
    "    def iter_batch_dataset(self):\n",
    "        \"\"\"Creates a full dataset of walk generators, and returns each \n",
    "        batch\"\"\"\n",
    "        for _ in range(self.n_paths):\n",
    "            data, nodes = zip(*list(self.iter_batch_sample()))\n",
    "            yield np.moveaxis(np.array(data), 0, 1), nodes\n",
    "```"
   ]
  },
  {
   "cell_type": "markdown",
   "metadata": {},
   "source": [
    "### Pytorch-Lightning\n",
    "\n",
    "The following methods can be added to make the dataset `pytorch-lightning` compatible:"
   ]
  },
  {
   "cell_type": "code",
   "execution_count": 19,
   "metadata": {},
   "outputs": [],
   "source": [
    "class LitSchapiroFractalsDataset(SchapiroFractalsDataset):\n",
    "    @classmethod\n",
    "    def prepare_data(cls, datamodule, val=False):\n",
    "        pass\n",
    "    \n",
    "    @classmethod\n",
    "    def setup_data(cls, hparams, datamodule, val=False):\n",
    "        datamodule.ds = datamodule.ds or cls(\n",
    "            batch_size=hparams.batch_size,\n",
    "            n_pentagons=hparams.n_pentagons, \n",
    "            max_steps=hparams.max_steps, \n",
    "            n_paths=hparams.n_paths,\n",
    "            mapping=eval(hparams.mapping), # This is a str in hparams\n",
    "        )\n",
    "        datamodule.ds_val = datamodule.ds_val or cls(\n",
    "            n_pentagons=hparams.n_pentagons,\n",
    "            batch_size=hparams.batch_size, \n",
    "            n_paths=hparams.n_val,\n",
    "            max_steps=hparams.max_steps, \n",
    "            mapping=eval(hparams.mapping),\n",
    "            mode='custom' if hparams.val_path else 'euclidean',\n",
    "            custom_path=eval(hparams.val_path),\n",
    "        )\n",
    "\n",
    "    @staticmethod\n",
    "    def train_dataloader(hparams, datamodule, ds):\n",
    "        return DataLoader(ds, \n",
    "                          batch_size=None,\n",
    "                          num_workers=hparams.n_workers)\n",
    "    \n",
    "    @staticmethod\n",
    "    def val_dataloader(hparams, datamodule, ds_val):\n",
    "        return DataLoader(ds_val, \n",
    "                          batch_size=None,\n",
    "                          num_workers=hparams.n_workers)"
   ]
  }
 ],
 "metadata": {
  "anaconda-cloud": {},
  "kernelspec": {
   "display_name": "Python 3",
   "language": "python",
   "name": "python3"
  },
  "language_info": {
   "codemirror_mode": {
    "name": "ipython",
    "version": 3
   },
   "file_extension": ".py",
   "mimetype": "text/x-python",
   "name": "python",
   "nbconvert_exporter": "python",
   "pygments_lexer": "ipython3",
   "version": "3.8.6"
  }
 },
 "nbformat": 4,
 "nbformat_minor": 4
}
