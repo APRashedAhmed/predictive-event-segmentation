{
 "cells": [
  {
   "cell_type": "markdown",
   "metadata": {},
   "source": [
    "# 4.0.3 Sampling Around Event Boundaries\n",
    "\n",
    "An approach to handling the variability in videos lengths is to sample clips around event boundaries and show the events there."
   ]
  },
  {
   "cell_type": "markdown",
   "metadata": {},
   "source": [
    "## Jupyter Extensions"
   ]
  },
  {
   "cell_type": "markdown",
   "metadata": {},
   "source": [
    "Load [watermark](https://github.com/rasbt/watermark) to see the state of the machine and environment that's running the notebook. To make sense of the options, take a look at the [usage](https://github.com/rasbt/watermark#usage) section of the readme."
   ]
  },
  {
   "cell_type": "code",
   "execution_count": 1,
   "metadata": {},
   "outputs": [
    {
     "name": "stdout",
     "output_type": "stream",
     "text": [
      "Mon Feb 24 2020 10:46:45 \n",
      "\n",
      "CPython 3.6.10\n",
      "IPython 7.12.0\n",
      "\n",
      "torch 1.2.0\n",
      "torchvision 0.1.8\n",
      "cv2 3.4.2\n",
      "h5py 2.8.0\n",
      "pandas 1.0.1\n",
      "matplotlib 3.1.3\n",
      "seaborn 0.10.0\n",
      "jupyterlab 1.2.6\n",
      "lab 0+untagged.21.g9d80dae.dirty\n",
      "\n",
      "compiler   : GCC 7.3.0\n",
      "system     : Linux\n",
      "release    : 4.4.0-173-generic\n",
      "machine    : x86_64\n",
      "processor  : x86_64\n",
      "CPU cores  : 16\n",
      "interpreter: 64bit\n",
      "Git hash   : 9d80daec6156826fef6a7472507201013d8c7801\n",
      "Git branch : master\n"
     ]
    }
   ],
   "source": [
    "# Load `watermark` extension\n",
    "%load_ext watermark\n",
    "# Display the status of the machine and packages. Add more as necessary.\n",
    "%watermark -v -n -m -g -b -t -p torch,torchvision,cv2,h5py,pandas,matplotlib,seaborn,jupyterlab,lab"
   ]
  },
  {
   "cell_type": "markdown",
   "metadata": {},
   "source": [
    "Load [autoreload](https://ipython.org/ipython-doc/3/config/extensions/autoreload.html) which will always reload modules marked with `%aimport`.\n",
    "\n",
    "This behavior can be inverted by running `autoreload 2` which will set everything to be auto-reloaded *except* for modules marked with `%aimport`."
   ]
  },
  {
   "cell_type": "code",
   "execution_count": 2,
   "metadata": {},
   "outputs": [],
   "source": [
    "# Load `autoreload` extension\n",
    "%load_ext autoreload\n",
    "# Set autoreload behavior\n",
    "%autoreload 1"
   ]
  },
  {
   "cell_type": "markdown",
   "metadata": {},
   "source": [
    "Load `matplotlib` in one of the more `jupyter`-friendly [rich-output modes](https://ipython.readthedocs.io/en/stable/interactive/plotting.html). Some options (that may or may not have worked) are `inline`, `notebook`, and `gtk`."
   ]
  },
  {
   "cell_type": "code",
   "execution_count": 3,
   "metadata": {},
   "outputs": [],
   "source": [
    "# Set the matplotlib mode\n",
    "%matplotlib inline"
   ]
  },
  {
   "cell_type": "markdown",
   "metadata": {},
   "source": [
    "## Set the GPU\n",
    "\n",
    "Make sure we aren't greedy."
   ]
  },
  {
   "cell_type": "code",
   "execution_count": 4,
   "metadata": {},
   "outputs": [
    {
     "name": "stdout",
     "output_type": "stream",
     "text": [
      "Mon Feb 24 10:47:04 2020       \n",
      "+-----------------------------------------------------------------------------+\n",
      "| NVIDIA-SMI 418.67       Driver Version: 418.67       CUDA Version: 10.1     |\n",
      "|-------------------------------+----------------------+----------------------+\n",
      "| GPU  Name        Persistence-M| Bus-Id        Disp.A | Volatile Uncorr. ECC |\n",
      "| Fan  Temp  Perf  Pwr:Usage/Cap|         Memory-Usage | GPU-Util  Compute M. |\n",
      "|===============================+======================+======================|\n",
      "|   0  TITAN X (Pascal)    Off  | 00000000:04:00.0 Off |                  N/A |\n",
      "| 23%   22C    P8     7W / 250W |      0MiB / 12196MiB |      0%      Default |\n",
      "+-------------------------------+----------------------+----------------------+\n",
      "|   1  TITAN X (Pascal)    Off  | 00000000:05:00.0 Off |                  N/A |\n",
      "| 29%   50C    P2    58W / 250W |   2885MiB / 12196MiB |      0%      Default |\n",
      "+-------------------------------+----------------------+----------------------+\n",
      "|   2  TITAN X (Pascal)    Off  | 00000000:08:00.0 Off |                  N/A |\n",
      "| 32%   56C    P2    59W / 250W |   2005MiB / 12196MiB |      4%      Default |\n",
      "+-------------------------------+----------------------+----------------------+\n",
      "|   3  TITAN X (Pascal)    Off  | 00000000:09:00.0 Off |                  N/A |\n",
      "| 54%   83C    P2   197W / 250W |  10485MiB / 12196MiB |     82%      Default |\n",
      "+-------------------------------+----------------------+----------------------+\n",
      "|   4  TITAN X (Pascal)    Off  | 00000000:84:00.0 Off |                  N/A |\n",
      "| 62%   86C    P2   245W / 250W |  10443MiB / 12196MiB |     98%      Default |\n",
      "+-------------------------------+----------------------+----------------------+\n",
      "|   5  TITAN X (Pascal)    Off  | 00000000:85:00.0 Off |                  N/A |\n",
      "| 50%   82C    P2   150W / 250W |  10157MiB / 12196MiB |    100%      Default |\n",
      "+-------------------------------+----------------------+----------------------+\n",
      "|   6  TITAN X (Pascal)    Off  | 00000000:88:00.0 Off |                  N/A |\n",
      "| 50%   83C    P2   113W / 250W |   9921MiB / 12196MiB |     99%      Default |\n",
      "+-------------------------------+----------------------+----------------------+\n",
      "|   7  TITAN X (Pascal)    Off  | 00000000:89:00.0 Off |                  N/A |\n",
      "| 30%   52C    P2    61W / 250W |   1743MiB / 12196MiB |      3%      Default |\n",
      "+-------------------------------+----------------------+----------------------+\n",
      "                                                                               \n",
      "+-----------------------------------------------------------------------------+\n",
      "| Processes:                                                       GPU Memory |\n",
      "|  GPU       PID   Type   Process name                             Usage      |\n",
      "|=============================================================================|\n",
      "|    1     18085      C   python                                      2875MiB |\n",
      "|    2      8742      C   python                                      1995MiB |\n",
      "|    3     19363      C   python                                     10475MiB |\n",
      "|    4     30662      C   python                                     10433MiB |\n",
      "|    5     19363      C   python                                     10147MiB |\n",
      "|    6     30662      C   python                                      9911MiB |\n",
      "|    7     14368      C   python                                      1733MiB |\n",
      "+-----------------------------------------------------------------------------+\n"
     ]
    }
   ],
   "source": [
    "!nvidia-smi"
   ]
  },
  {
   "cell_type": "code",
   "execution_count": 5,
   "metadata": {},
   "outputs": [
    {
     "name": "stdout",
     "output_type": "stream",
     "text": [
      "env: CUDA_VISIBLE_DEVICES=0\n"
     ]
    }
   ],
   "source": [
    "%env CUDA_VISIBLE_DEVICES=0"
   ]
  },
  {
   "cell_type": "markdown",
   "metadata": {},
   "source": [
    "## Imports"
   ]
  },
  {
   "cell_type": "code",
   "execution_count": 6,
   "metadata": {},
   "outputs": [],
   "source": [
    "from pathlib import Path\n",
    "\n",
    "import cv2\n",
    "import numpy as np\n",
    "import pandas as pd\n",
    "import seaborn as sns\n",
    "import pickle\n",
    "import matplotlib.pyplot as plt\n",
    "from tqdm import tqdm"
   ]
  },
  {
   "cell_type": "markdown",
   "metadata": {},
   "source": [
    "Local imports that may or may not be autoreloaded. This section contains things that will likely have to be re-imported multiple times, and have additions or subtractions made throughout the project."
   ]
  },
  {
   "cell_type": "code",
   "execution_count": 7,
   "metadata": {},
   "outputs": [],
   "source": [
    "# Constants to be used throughout the package\n",
    "%aimport lab.index\n",
    "from lab.index import DIR_DATA_INT, DIR_DATA_RAW\n",
    "%aimport lab.breakfast.constants\n",
    "from lab.breakfast.constants import SEED\n",
    "# Import the data subdirectories\n",
    "%aimport lab.breakfast.index\n",
    "from lab.breakfast.index import (DIR_BREAKFAST, \n",
    "                                 DIR_BREAKFAST_DATA, \n",
    "                                 DIR_COARSE_SEG, \n",
    "                                 DIR_FINE_SEG,\n",
    "                                )"
   ]
  },
  {
   "cell_type": "markdown",
   "metadata": {},
   "source": [
    "## Initial Setup"
   ]
  },
  {
   "cell_type": "markdown",
   "metadata": {},
   "source": [
    "Set [seaborn defaults](https://seaborn.pydata.org/generated/seaborn.set.html) for matplotlib."
   ]
  },
  {
   "cell_type": "code",
   "execution_count": 8,
   "metadata": {},
   "outputs": [],
   "source": [
    "sns.set()"
   ]
  },
  {
   "cell_type": "markdown",
   "metadata": {},
   "source": [
    "## Rerunning the Same Code Blocks"
   ]
  },
  {
   "cell_type": "markdown",
   "metadata": {},
   "source": [
    "### Getting Start Frames and Number of Segments"
   ]
  },
  {
   "cell_type": "code",
   "execution_count": 9,
   "metadata": {},
   "outputs": [],
   "source": [
    "df = pd.read_csv(str(DIR_BREAKFAST / 'video_lengths.csv'),\n",
    "                 index_col=0,\n",
    "                 header=0)"
   ]
  },
  {
   "cell_type": "code",
   "execution_count": 10,
   "metadata": {},
   "outputs": [
    {
     "data": {
      "text/html": [
       "<div>\n",
       "<style scoped>\n",
       "    .dataframe tbody tr th:only-of-type {\n",
       "        vertical-align: middle;\n",
       "    }\n",
       "\n",
       "    .dataframe tbody tr th {\n",
       "        vertical-align: top;\n",
       "    }\n",
       "\n",
       "    .dataframe thead th {\n",
       "        text-align: right;\n",
       "    }\n",
       "</style>\n",
       "<table border=\"1\" class=\"dataframe\">\n",
       "  <thead>\n",
       "    <tr style=\"text-align: right;\">\n",
       "      <th></th>\n",
       "      <th>Name</th>\n",
       "      <th>Length</th>\n",
       "    </tr>\n",
       "  </thead>\n",
       "  <tbody>\n",
       "    <tr>\n",
       "      <th>0</th>\n",
       "      <td>P27_cam01_P27_scrambledegg</td>\n",
       "      <td>3561</td>\n",
       "    </tr>\n",
       "    <tr>\n",
       "      <th>1</th>\n",
       "      <td>P11_cam01_P11_scrambledegg</td>\n",
       "      <td>2649</td>\n",
       "    </tr>\n",
       "    <tr>\n",
       "      <th>2</th>\n",
       "      <td>P27_stereo01_P27_scrambledegg</td>\n",
       "      <td>3560</td>\n",
       "    </tr>\n",
       "    <tr>\n",
       "      <th>3</th>\n",
       "      <td>P21_cam01_P21_scrambledegg</td>\n",
       "      <td>5281</td>\n",
       "    </tr>\n",
       "    <tr>\n",
       "      <th>4</th>\n",
       "      <td>P46_cam02_P46_scrambledegg</td>\n",
       "      <td>3135</td>\n",
       "    </tr>\n",
       "  </tbody>\n",
       "</table>\n",
       "</div>"
      ],
      "text/plain": [
       "                            Name  Length\n",
       "0     P27_cam01_P27_scrambledegg    3561\n",
       "1     P11_cam01_P11_scrambledegg    2649\n",
       "2  P27_stereo01_P27_scrambledegg    3560\n",
       "3     P21_cam01_P21_scrambledegg    5281\n",
       "4     P46_cam02_P46_scrambledegg    3135"
      ]
     },
     "execution_count": 10,
     "metadata": {},
     "output_type": "execute_result"
    }
   ],
   "source": [
    "df.head()"
   ]
  },
  {
   "cell_type": "code",
   "execution_count": 11,
   "metadata": {},
   "outputs": [
    {
     "name": "stdout",
     "output_type": "stream",
     "text": [
      "1-1 SIL  \n",
      "\n",
      "2-302 spoon_flour  \n",
      "\n",
      "303-501 crack_egg  \n",
      "\n",
      "502-727 pour_milk  \n",
      "\n",
      "728-1077 butter_pan  \n",
      "\n",
      "1078-1844 stir_dough  \n",
      "\n",
      "1845-1948 pour_dough2pan  \n",
      "\n",
      "1949-3649 fry_pancake  \n",
      "\n",
      "3650-3736 take_plate  \n",
      "\n",
      "3737-3826 put_pancake2plate  \n",
      "\n",
      "3827-3874 SIL  \n",
      "\n"
     ]
    }
   ],
   "source": [
    "with open(str(DIR_COARSE_SEG / 'pancake/P53_webcam01_P53_pancake.txt'), 'r') as f:\n",
    "    for l in f:\n",
    "        print(l)"
   ]
  },
  {
   "cell_type": "code",
   "execution_count": 12,
   "metadata": {},
   "outputs": [
    {
     "name": "stdout",
     "output_type": "stream",
     "text": [
      "['2', '303', '502', '728', '1078', '1845', '1949', '3650', '3737', '3827']\n"
     ]
    }
   ],
   "source": [
    "with open(str(DIR_COARSE_SEG / 'pancake/P53_webcam01_P53_pancake.txt'), 'r') as f:\n",
    "    starts = [line.split('-')[0] for line in f][1:]\n",
    "    print(starts)"
   ]
  },
  {
   "cell_type": "code",
   "execution_count": 13,
   "metadata": {},
   "outputs": [],
   "source": [
    "n_coarse_segments, coarse_segment_starts = [], []\n",
    "\n",
    "for name in df.Name:\n",
    "    action = name.split('_')[-1]\n",
    "    path = DIR_COARSE_SEG / f'{action}/{name}.txt'\n",
    "    \n",
    "    with open(str(path), 'r') as file:\n",
    "        coarse_segment_starts.append([int(line.split('-')[0]) for line in file][1:])\n",
    "        n_coarse_segments.append(len(coarse_segment_starts[-1]))"
   ]
  },
  {
   "cell_type": "code",
   "execution_count": 14,
   "metadata": {},
   "outputs": [],
   "source": [
    "df['n_coarse_segments'] = n_coarse_segments\n",
    "df['coarse_segment_starts'] = coarse_segment_starts"
   ]
  },
  {
   "cell_type": "code",
   "execution_count": 15,
   "metadata": {},
   "outputs": [
    {
     "data": {
      "text/html": [
       "<div>\n",
       "<style scoped>\n",
       "    .dataframe tbody tr th:only-of-type {\n",
       "        vertical-align: middle;\n",
       "    }\n",
       "\n",
       "    .dataframe tbody tr th {\n",
       "        vertical-align: top;\n",
       "    }\n",
       "\n",
       "    .dataframe thead th {\n",
       "        text-align: right;\n",
       "    }\n",
       "</style>\n",
       "<table border=\"1\" class=\"dataframe\">\n",
       "  <thead>\n",
       "    <tr style=\"text-align: right;\">\n",
       "      <th></th>\n",
       "      <th>Name</th>\n",
       "      <th>Length</th>\n",
       "      <th>n_coarse_segments</th>\n",
       "      <th>coarse_segment_starts</th>\n",
       "    </tr>\n",
       "  </thead>\n",
       "  <tbody>\n",
       "    <tr>\n",
       "      <th>0</th>\n",
       "      <td>P27_cam01_P27_scrambledegg</td>\n",
       "      <td>3561</td>\n",
       "      <td>9</td>\n",
       "      <td>[12, 185, 444, 1031, 1310, 1923, 2880, 2987, 3...</td>\n",
       "    </tr>\n",
       "    <tr>\n",
       "      <th>1</th>\n",
       "      <td>P11_cam01_P11_scrambledegg</td>\n",
       "      <td>2649</td>\n",
       "      <td>6</td>\n",
       "      <td>[39, 293, 897, 1928, 2410, 2620]</td>\n",
       "    </tr>\n",
       "    <tr>\n",
       "      <th>2</th>\n",
       "      <td>P27_stereo01_P27_scrambledegg</td>\n",
       "      <td>3560</td>\n",
       "      <td>9</td>\n",
       "      <td>[12, 185, 444, 1031, 1310, 1923, 2880, 2987, 3...</td>\n",
       "    </tr>\n",
       "    <tr>\n",
       "      <th>3</th>\n",
       "      <td>P21_cam01_P21_scrambledegg</td>\n",
       "      <td>5281</td>\n",
       "      <td>9</td>\n",
       "      <td>[234, 624, 1120, 1408, 1577, 1975, 4189, 4451,...</td>\n",
       "    </tr>\n",
       "    <tr>\n",
       "      <th>4</th>\n",
       "      <td>P46_cam02_P46_scrambledegg</td>\n",
       "      <td>3135</td>\n",
       "      <td>7</td>\n",
       "      <td>[2, 272, 754, 1226, 1421, 2617, 2682]</td>\n",
       "    </tr>\n",
       "  </tbody>\n",
       "</table>\n",
       "</div>"
      ],
      "text/plain": [
       "                            Name  Length  n_coarse_segments  \\\n",
       "0     P27_cam01_P27_scrambledegg    3561                  9   \n",
       "1     P11_cam01_P11_scrambledegg    2649                  6   \n",
       "2  P27_stereo01_P27_scrambledegg    3560                  9   \n",
       "3     P21_cam01_P21_scrambledegg    5281                  9   \n",
       "4     P46_cam02_P46_scrambledegg    3135                  7   \n",
       "\n",
       "                               coarse_segment_starts  \n",
       "0  [12, 185, 444, 1031, 1310, 1923, 2880, 2987, 3...  \n",
       "1                   [39, 293, 897, 1928, 2410, 2620]  \n",
       "2  [12, 185, 444, 1031, 1310, 1923, 2880, 2987, 3...  \n",
       "3  [234, 624, 1120, 1408, 1577, 1975, 4189, 4451,...  \n",
       "4              [2, 272, 754, 1226, 1421, 2617, 2682]  "
      ]
     },
     "execution_count": 15,
     "metadata": {},
     "output_type": "execute_result"
    }
   ],
   "source": [
    "df.head()"
   ]
  },
  {
   "cell_type": "code",
   "execution_count": 16,
   "metadata": {},
   "outputs": [
    {
     "data": {
      "text/html": [
       "<div>\n",
       "<style scoped>\n",
       "    .dataframe tbody tr th:only-of-type {\n",
       "        vertical-align: middle;\n",
       "    }\n",
       "\n",
       "    .dataframe tbody tr th {\n",
       "        vertical-align: top;\n",
       "    }\n",
       "\n",
       "    .dataframe thead th {\n",
       "        text-align: right;\n",
       "    }\n",
       "</style>\n",
       "<table border=\"1\" class=\"dataframe\">\n",
       "  <thead>\n",
       "    <tr style=\"text-align: right;\">\n",
       "      <th></th>\n",
       "      <th>Name</th>\n",
       "      <th>Length</th>\n",
       "      <th>n_coarse_segments</th>\n",
       "      <th>coarse_segment_starts</th>\n",
       "      <th>n_fine_segments</th>\n",
       "      <th>fine_segment_starts</th>\n",
       "    </tr>\n",
       "  </thead>\n",
       "  <tbody>\n",
       "    <tr>\n",
       "      <th>1024</th>\n",
       "      <td>P36_webcam02_P36_pancake</td>\n",
       "      <td>7049</td>\n",
       "      <td>8</td>\n",
       "      <td>[2, 279, 548, 1044, 1958, 2243, 2844, 6903]</td>\n",
       "      <td>NaN</td>\n",
       "      <td>None</td>\n",
       "    </tr>\n",
       "    <tr>\n",
       "      <th>1025</th>\n",
       "      <td>P54_stereo01_P54_pancake</td>\n",
       "      <td>3340</td>\n",
       "      <td>11</td>\n",
       "      <td>[2, 225, 506, 692, 1018, 1336, 1709, 1837, 206...</td>\n",
       "      <td>66.0</td>\n",
       "      <td>[11, 27, 55, 77, 115, 132, 191, 223, 235, 251,...</td>\n",
       "    </tr>\n",
       "    <tr>\n",
       "      <th>1026</th>\n",
       "      <td>P13_cam01_P13_pancake</td>\n",
       "      <td>4436</td>\n",
       "      <td>12</td>\n",
       "      <td>[31, 611, 717, 907, 1036, 1316, 1443, 1493, 17...</td>\n",
       "      <td>111.0</td>\n",
       "      <td>[32, 47, 93, 138, 212, 318, 333, 348, 377, 467...</td>\n",
       "    </tr>\n",
       "    <tr>\n",
       "      <th>1027</th>\n",
       "      <td>P21_cam01_P21_pancake</td>\n",
       "      <td>5841</td>\n",
       "      <td>10</td>\n",
       "      <td>[95, 415, 699, 960, 1634, 2125, 2437, 5367, 54...</td>\n",
       "      <td>NaN</td>\n",
       "      <td>None</td>\n",
       "    </tr>\n",
       "    <tr>\n",
       "      <th>1028</th>\n",
       "      <td>P12_webcam01_P12_pancake</td>\n",
       "      <td>2870</td>\n",
       "      <td>8</td>\n",
       "      <td>[2, 136, 324, 446, 603, 744, 2680, 2805]</td>\n",
       "      <td>54.0</td>\n",
       "      <td>[32, 47, 62, 76, 77, 122, 123, 152, 213, 287, ...</td>\n",
       "    </tr>\n",
       "  </tbody>\n",
       "</table>\n",
       "</div>"
      ],
      "text/plain": [
       "                          Name  Length  n_coarse_segments  \\\n",
       "1024  P36_webcam02_P36_pancake    7049                  8   \n",
       "1025  P54_stereo01_P54_pancake    3340                 11   \n",
       "1026     P13_cam01_P13_pancake    4436                 12   \n",
       "1027     P21_cam01_P21_pancake    5841                 10   \n",
       "1028  P12_webcam01_P12_pancake    2870                  8   \n",
       "\n",
       "                                  coarse_segment_starts  n_fine_segments  \\\n",
       "1024        [2, 279, 548, 1044, 1958, 2243, 2844, 6903]              NaN   \n",
       "1025  [2, 225, 506, 692, 1018, 1336, 1709, 1837, 206...             66.0   \n",
       "1026  [31, 611, 717, 907, 1036, 1316, 1443, 1493, 17...            111.0   \n",
       "1027  [95, 415, 699, 960, 1634, 2125, 2437, 5367, 54...              NaN   \n",
       "1028           [2, 136, 324, 446, 603, 744, 2680, 2805]             54.0   \n",
       "\n",
       "                                    fine_segment_starts  \n",
       "1024                                               None  \n",
       "1025  [11, 27, 55, 77, 115, 132, 191, 223, 235, 251,...  \n",
       "1026  [32, 47, 93, 138, 212, 318, 333, 348, 377, 467...  \n",
       "1027                                               None  \n",
       "1028  [32, 47, 62, 76, 77, 122, 123, 152, 213, 287, ...  "
      ]
     },
     "execution_count": 16,
     "metadata": {},
     "output_type": "execute_result"
    }
   ],
   "source": [
    "n_fine_segments, fine_segment_starts = [], []\n",
    "\n",
    "for name in df.Name:\n",
    "    action = name.split('_')[-1]\n",
    "    path = DIR_FINE_SEG / f'{action}/{name}.txt'\n",
    "    \n",
    "    try:\n",
    "        with open(str(path), 'r') as file:\n",
    "            fine_segment_starts.append([int(line.split('-')[0]) for line in file][1:-1])\n",
    "            n_fine_segments.append(len(fine_segment_starts[-1]))\n",
    "    except FileNotFoundError:\n",
    "        fine_segment_starts.append(None)\n",
    "        n_fine_segments.append(None)\n",
    "        \n",
    "df['n_fine_segments'] = n_fine_segments\n",
    "df['fine_segment_starts'] = fine_segment_starts\n",
    "\n",
    "df.tail()"
   ]
  },
  {
   "cell_type": "code",
   "execution_count": 17,
   "metadata": {},
   "outputs": [
    {
     "data": {
      "text/plain": [
       "505"
      ]
     },
     "execution_count": 17,
     "metadata": {},
     "output_type": "execute_result"
    }
   ],
   "source": [
    "len([n for n in n_fine_segments if n is None])"
   ]
  },
  {
   "cell_type": "code",
   "execution_count": 18,
   "metadata": {},
   "outputs": [
    {
     "data": {
      "text/plain": [
       "1029"
      ]
     },
     "execution_count": 18,
     "metadata": {},
     "output_type": "execute_result"
    }
   ],
   "source": [
    "len(n_fine_segments)"
   ]
  },
  {
   "cell_type": "markdown",
   "metadata": {},
   "source": [
    "### Counting Actions"
   ]
  },
  {
   "cell_type": "code",
   "execution_count": 19,
   "metadata": {},
   "outputs": [],
   "source": [
    "actions = []\n",
    "for name in df.Name:\n",
    "    actions.append(name.split('_')[-1])\n",
    "df['actions'] = actions"
   ]
  },
  {
   "cell_type": "code",
   "execution_count": 20,
   "metadata": {},
   "outputs": [
    {
     "data": {
      "text/html": [
       "<div>\n",
       "<style scoped>\n",
       "    .dataframe tbody tr th:only-of-type {\n",
       "        vertical-align: middle;\n",
       "    }\n",
       "\n",
       "    .dataframe tbody tr th {\n",
       "        vertical-align: top;\n",
       "    }\n",
       "\n",
       "    .dataframe thead th {\n",
       "        text-align: right;\n",
       "    }\n",
       "</style>\n",
       "<table border=\"1\" class=\"dataframe\">\n",
       "  <thead>\n",
       "    <tr style=\"text-align: right;\">\n",
       "      <th></th>\n",
       "      <th>Name</th>\n",
       "      <th>Length</th>\n",
       "      <th>n_coarse_segments</th>\n",
       "      <th>coarse_segment_starts</th>\n",
       "      <th>n_fine_segments</th>\n",
       "      <th>fine_segment_starts</th>\n",
       "      <th>actions</th>\n",
       "    </tr>\n",
       "  </thead>\n",
       "  <tbody>\n",
       "    <tr>\n",
       "      <th>0</th>\n",
       "      <td>P27_cam01_P27_scrambledegg</td>\n",
       "      <td>3561</td>\n",
       "      <td>9</td>\n",
       "      <td>[12, 185, 444, 1031, 1310, 1923, 2880, 2987, 3...</td>\n",
       "      <td>71.0</td>\n",
       "      <td>[38, 73, 83, 150, 183, 213, 259, 308, 314, 337...</td>\n",
       "      <td>scrambledegg</td>\n",
       "    </tr>\n",
       "    <tr>\n",
       "      <th>1</th>\n",
       "      <td>P11_cam01_P11_scrambledegg</td>\n",
       "      <td>2649</td>\n",
       "      <td>6</td>\n",
       "      <td>[39, 293, 897, 1928, 2410, 2620]</td>\n",
       "      <td>74.0</td>\n",
       "      <td>[23, 34, 56, 67, 87, 107, 116, 122, 128, 132, ...</td>\n",
       "      <td>scrambledegg</td>\n",
       "    </tr>\n",
       "    <tr>\n",
       "      <th>2</th>\n",
       "      <td>P27_stereo01_P27_scrambledegg</td>\n",
       "      <td>3560</td>\n",
       "      <td>9</td>\n",
       "      <td>[12, 185, 444, 1031, 1310, 1923, 2880, 2987, 3...</td>\n",
       "      <td>71.0</td>\n",
       "      <td>[38, 73, 83, 150, 183, 213, 259, 308, 314, 337...</td>\n",
       "      <td>scrambledegg</td>\n",
       "    </tr>\n",
       "    <tr>\n",
       "      <th>3</th>\n",
       "      <td>P21_cam01_P21_scrambledegg</td>\n",
       "      <td>5281</td>\n",
       "      <td>9</td>\n",
       "      <td>[234, 624, 1120, 1408, 1577, 1975, 4189, 4451,...</td>\n",
       "      <td>NaN</td>\n",
       "      <td>None</td>\n",
       "      <td>scrambledegg</td>\n",
       "    </tr>\n",
       "    <tr>\n",
       "      <th>4</th>\n",
       "      <td>P46_cam02_P46_scrambledegg</td>\n",
       "      <td>3135</td>\n",
       "      <td>7</td>\n",
       "      <td>[2, 272, 754, 1226, 1421, 2617, 2682]</td>\n",
       "      <td>NaN</td>\n",
       "      <td>None</td>\n",
       "      <td>scrambledegg</td>\n",
       "    </tr>\n",
       "  </tbody>\n",
       "</table>\n",
       "</div>"
      ],
      "text/plain": [
       "                            Name  Length  n_coarse_segments  \\\n",
       "0     P27_cam01_P27_scrambledegg    3561                  9   \n",
       "1     P11_cam01_P11_scrambledegg    2649                  6   \n",
       "2  P27_stereo01_P27_scrambledegg    3560                  9   \n",
       "3     P21_cam01_P21_scrambledegg    5281                  9   \n",
       "4     P46_cam02_P46_scrambledegg    3135                  7   \n",
       "\n",
       "                               coarse_segment_starts  n_fine_segments  \\\n",
       "0  [12, 185, 444, 1031, 1310, 1923, 2880, 2987, 3...             71.0   \n",
       "1                   [39, 293, 897, 1928, 2410, 2620]             74.0   \n",
       "2  [12, 185, 444, 1031, 1310, 1923, 2880, 2987, 3...             71.0   \n",
       "3  [234, 624, 1120, 1408, 1577, 1975, 4189, 4451,...              NaN   \n",
       "4              [2, 272, 754, 1226, 1421, 2617, 2682]              NaN   \n",
       "\n",
       "                                 fine_segment_starts       actions  \n",
       "0  [38, 73, 83, 150, 183, 213, 259, 308, 314, 337...  scrambledegg  \n",
       "1  [23, 34, 56, 67, 87, 107, 116, 122, 128, 132, ...  scrambledegg  \n",
       "2  [38, 73, 83, 150, 183, 213, 259, 308, 314, 337...  scrambledegg  \n",
       "3                                               None  scrambledegg  \n",
       "4                                               None  scrambledegg  "
      ]
     },
     "execution_count": 20,
     "metadata": {},
     "output_type": "execute_result"
    }
   ],
   "source": [
    "df.head()"
   ]
  },
  {
   "cell_type": "code",
   "execution_count": 21,
   "metadata": {},
   "outputs": [
    {
     "data": {
      "text/plain": [
       "(array(['coffee', 'friedegg', 'juice', 'milk', 'pancake', 'sandwich',\n",
       "        'scrambledegg'], dtype=object),\n",
       " array([167, 173, 162, 187, 157, 169,  14]))"
      ]
     },
     "execution_count": 21,
     "metadata": {},
     "output_type": "execute_result"
    }
   ],
   "source": [
    "np.unique(df.actions, return_counts=True)"
   ]
  },
  {
   "cell_type": "code",
   "execution_count": 22,
   "metadata": {},
   "outputs": [
    {
     "data": {
      "text/html": [
       "<div>\n",
       "<style scoped>\n",
       "    .dataframe tbody tr th:only-of-type {\n",
       "        vertical-align: middle;\n",
       "    }\n",
       "\n",
       "    .dataframe tbody tr th {\n",
       "        vertical-align: top;\n",
       "    }\n",
       "\n",
       "    .dataframe thead th {\n",
       "        text-align: right;\n",
       "    }\n",
       "</style>\n",
       "<table border=\"1\" class=\"dataframe\">\n",
       "  <thead>\n",
       "    <tr style=\"text-align: right;\">\n",
       "      <th></th>\n",
       "      <th>Name</th>\n",
       "      <th>Length</th>\n",
       "      <th>n_coarse_segments</th>\n",
       "      <th>coarse_segment_starts</th>\n",
       "      <th>n_fine_segments</th>\n",
       "      <th>fine_segment_starts</th>\n",
       "      <th>actions</th>\n",
       "    </tr>\n",
       "  </thead>\n",
       "  <tbody>\n",
       "    <tr>\n",
       "      <th>1024</th>\n",
       "      <td>P36_webcam02_P36_pancake</td>\n",
       "      <td>7049</td>\n",
       "      <td>8</td>\n",
       "      <td>[2, 279, 548, 1044, 1958, 2243, 2844, 6903]</td>\n",
       "      <td>NaN</td>\n",
       "      <td>None</td>\n",
       "      <td>pancake</td>\n",
       "    </tr>\n",
       "    <tr>\n",
       "      <th>1025</th>\n",
       "      <td>P54_stereo01_P54_pancake</td>\n",
       "      <td>3340</td>\n",
       "      <td>11</td>\n",
       "      <td>[2, 225, 506, 692, 1018, 1336, 1709, 1837, 206...</td>\n",
       "      <td>66.0</td>\n",
       "      <td>[11, 27, 55, 77, 115, 132, 191, 223, 235, 251,...</td>\n",
       "      <td>pancake</td>\n",
       "    </tr>\n",
       "    <tr>\n",
       "      <th>1026</th>\n",
       "      <td>P13_cam01_P13_pancake</td>\n",
       "      <td>4436</td>\n",
       "      <td>12</td>\n",
       "      <td>[31, 611, 717, 907, 1036, 1316, 1443, 1493, 17...</td>\n",
       "      <td>111.0</td>\n",
       "      <td>[32, 47, 93, 138, 212, 318, 333, 348, 377, 467...</td>\n",
       "      <td>pancake</td>\n",
       "    </tr>\n",
       "    <tr>\n",
       "      <th>1027</th>\n",
       "      <td>P21_cam01_P21_pancake</td>\n",
       "      <td>5841</td>\n",
       "      <td>10</td>\n",
       "      <td>[95, 415, 699, 960, 1634, 2125, 2437, 5367, 54...</td>\n",
       "      <td>NaN</td>\n",
       "      <td>None</td>\n",
       "      <td>pancake</td>\n",
       "    </tr>\n",
       "    <tr>\n",
       "      <th>1028</th>\n",
       "      <td>P12_webcam01_P12_pancake</td>\n",
       "      <td>2870</td>\n",
       "      <td>8</td>\n",
       "      <td>[2, 136, 324, 446, 603, 744, 2680, 2805]</td>\n",
       "      <td>54.0</td>\n",
       "      <td>[32, 47, 62, 76, 77, 122, 123, 152, 213, 287, ...</td>\n",
       "      <td>pancake</td>\n",
       "    </tr>\n",
       "  </tbody>\n",
       "</table>\n",
       "</div>"
      ],
      "text/plain": [
       "                          Name  Length  n_coarse_segments  \\\n",
       "1024  P36_webcam02_P36_pancake    7049                  8   \n",
       "1025  P54_stereo01_P54_pancake    3340                 11   \n",
       "1026     P13_cam01_P13_pancake    4436                 12   \n",
       "1027     P21_cam01_P21_pancake    5841                 10   \n",
       "1028  P12_webcam01_P12_pancake    2870                  8   \n",
       "\n",
       "                                  coarse_segment_starts  n_fine_segments  \\\n",
       "1024        [2, 279, 548, 1044, 1958, 2243, 2844, 6903]              NaN   \n",
       "1025  [2, 225, 506, 692, 1018, 1336, 1709, 1837, 206...             66.0   \n",
       "1026  [31, 611, 717, 907, 1036, 1316, 1443, 1493, 17...            111.0   \n",
       "1027  [95, 415, 699, 960, 1634, 2125, 2437, 5367, 54...              NaN   \n",
       "1028           [2, 136, 324, 446, 603, 744, 2680, 2805]             54.0   \n",
       "\n",
       "                                    fine_segment_starts  actions  \n",
       "1024                                               None  pancake  \n",
       "1025  [11, 27, 55, 77, 115, 132, 191, 223, 235, 251,...  pancake  \n",
       "1026  [32, 47, 93, 138, 212, 318, 333, 348, 377, 467...  pancake  \n",
       "1027                                               None  pancake  \n",
       "1028  [32, 47, 62, 76, 77, 122, 123, 152, 213, 287, ...  pancake  "
      ]
     },
     "execution_count": 22,
     "metadata": {},
     "output_type": "execute_result"
    }
   ],
   "source": [
    "df.tail()"
   ]
  },
  {
   "cell_type": "markdown",
   "metadata": {},
   "source": [
    "### Finding Good First Frames"
   ]
  },
  {
   "cell_type": "code",
   "execution_count": 23,
   "metadata": {},
   "outputs": [],
   "source": [
    "# Select this number of frames\n",
    "n_frames = 64"
   ]
  },
  {
   "cell_type": "code",
   "execution_count": 24,
   "metadata": {},
   "outputs": [
    {
     "data": {
      "text/plain": [
       "(array([ 2,  3,  4,  5,  6,  7,  8,  9, 10, 11, 12, 13, 15, 17]),\n",
       " array([ 41,  71, 225, 243, 151,  88,  48,  33,  50,  50,  17,   6,   2,\n",
       "          4]))"
      ]
     },
     "execution_count": 24,
     "metadata": {},
     "output_type": "execute_result"
    }
   ],
   "source": [
    "np.unique(n_coarse_segments, return_counts=True)"
   ]
  },
  {
   "cell_type": "code",
   "execution_count": 25,
   "metadata": {},
   "outputs": [],
   "source": [
    "starting_segments = [coarse_segment_starts[i][0]\n",
    "                     for i, n in enumerate(n_coarse_segments)\n",
    "                     if n < 3]"
   ]
  },
  {
   "cell_type": "code",
   "execution_count": 26,
   "metadata": {},
   "outputs": [
    {
     "data": {
      "text/plain": [
       "(array([ 2, 25, 38, 47, 60, 72]), array([20,  5,  5,  3,  4,  4]))"
      ]
     },
     "execution_count": 26,
     "metadata": {},
     "output_type": "execute_result"
    }
   ],
   "source": [
    "np.unique(starting_segments, return_counts=True)"
   ]
  },
  {
   "cell_type": "markdown",
   "metadata": {},
   "source": [
    "Should ignore indices that start with 2"
   ]
  },
  {
   "cell_type": "markdown",
   "metadata": {},
   "source": [
    "## Making the List of Indices\n",
    "\n",
    "Each element of the list corresponds to a row in the dataframe."
   ]
  },
  {
   "cell_type": "code",
   "execution_count": 79,
   "metadata": {},
   "outputs": [
    {
     "name": "stdout",
     "output_type": "stream",
     "text": [
      "64 15\n",
      "1029\n",
      "1029\n"
     ]
    }
   ],
   "source": [
    "np.random.seed(SEED)\n",
    "\n",
    "all_clip_ranges = []\n",
    "all_clip_diffs = []\n",
    "start_clip_idcs = []\n",
    "\n",
    "buffer = 15 # Assume people correctly label within a second of event\n",
    "\n",
    "for n, starts, length in zip(df.n_coarse_segments, df.coarse_segment_starts, df.Length):\n",
    "    # Ignore last segment which is start of SIL\n",
    "    idcs_to_use = starts[:-1]\n",
    "    # 2 Shows up disproportionally more than others. Ignore it\n",
    "    if 2 in idcs_to_use:\n",
    "        idcs_to_use = idcs_to_use[1:]\n",
    "        \n",
    "    # Move on if there are no events left to use\n",
    "    if not idcs_to_use:\n",
    "        all_clip_ranges.append([])\n",
    "        event_clip_idcs.append(np.array([]))\n",
    "        start_clip_idcs.append([])\n",
    "        continue \n",
    "    \n",
    "    clip_starts, clip_ranges = [], []\n",
    "    \n",
    "    # Calculate differences between each of the start points\n",
    "    diffs = np.diff(idcs_to_use)\n",
    "    for i, diff in enumerate(diffs):\n",
    "        # If the value is greater than n_frames + 2*buffer,\n",
    "        if diff > n_frames + 2*buffer:\n",
    "            # Decide how many clips to create based on how many times larger\n",
    "            n_clips = (diff - 2*buffer) // n_frames\n",
    "            \n",
    "            # use that starting point + buffer\n",
    "            diff_clip_starts = [idcs_to_use[i] + 2*buffer + clip*n_frames\n",
    "                                for clip in range(n_clips)]\n",
    "            # Build the ranges\n",
    "            clip_ranges += [np.arange(start, start+n_frames)\n",
    "                            for start in diff_clip_starts]\n",
    "            clip_starts += diff_clip_starts\n",
    "    \n",
    "    # List of the full 64 frame clip indices\n",
    "    all_clip_ranges.append(clip_ranges)\n",
    "    # And the starting idx of the clip\n",
    "    start_clip_idcs.append(clip_starts)\n",
    "    # All the diffs\n",
    "    all_clip_diffs.append(diffs)\n",
    "    \n",
    "print(n_frames, buffer)\n",
    "# print(idcs_to_use)\n",
    "# print(diffs)\n",
    "# print(n_clips)\n",
    "# print(len(clip_starts))\n",
    "# print(len(clip_ranges))\n",
    "print(len(all_clip_ranges))\n",
    "print(len(start_clip_idcs))"
   ]
  },
  {
   "cell_type": "markdown",
   "metadata": {},
   "source": [
    "### Saving the Interim Data"
   ]
  },
  {
   "cell_type": "code",
   "execution_count": 54,
   "metadata": {},
   "outputs": [],
   "source": [
    "path_interim_data = DIR_DATA_INT / 'breakfast/video_clips/nonevent_clips'\n",
    "if not path_interim_data.exists():\n",
    "    path_interim_data.mkdir(parents=True)\n",
    "    \n",
    "with open(str(path_interim_data / f'nonevent_clip_indices_seed_{SEED}.pkl'), 'wb') as filehandle:\n",
    "    pickle.dump(event_clip_idcs, filehandle)"
   ]
  },
  {
   "cell_type": "code",
   "execution_count": 55,
   "metadata": {},
   "outputs": [],
   "source": [
    "with open(str(path_interim_data / f'nonevent_clip_ranges_seed_{SEED}.pkl'), 'wb') as filehandle:\n",
    "    pickle.dump(all_clip_ranges, filehandle)"
   ]
  },
  {
   "cell_type": "code",
   "execution_count": 56,
   "metadata": {},
   "outputs": [],
   "source": [
    "with open(str(path_interim_data / f'nonevent_clip_starts_seed_{SEED}.pkl'), 'wb') as filehandle:\n",
    "    pickle.dump(start_clip_idcs, filehandle)"
   ]
  },
  {
   "cell_type": "markdown",
   "metadata": {},
   "source": [
    "## Creating the 64 Dim FV Clips"
   ]
  },
  {
   "cell_type": "code",
   "execution_count": 57,
   "metadata": {},
   "outputs": [],
   "source": [
    "path_clips = path_interim_data / '64dim_fv_clips'\n",
    "if not path_clips.exists():\n",
    "    path_clips.mkdir(parents=True)"
   ]
  },
  {
   "cell_type": "code",
   "execution_count": 60,
   "metadata": {},
   "outputs": [
    {
     "ename": "IndexError",
     "evalue": "index 1186 is out of bounds for axis 0 with size 1186",
     "output_type": "error",
     "traceback": [
      "\u001b[0;31m---------------------------------------------------------------------------\u001b[0m",
      "\u001b[0;31mIndexError\u001b[0m                                Traceback (most recent call last)",
      "\u001b[0;32m<ipython-input-60-558e655d6737>\u001b[0m in \u001b[0;36m<module>\u001b[0;34m\u001b[0m\n\u001b[1;32m     12\u001b[0m     \u001b[0;32mfor\u001b[0m \u001b[0mclip_range\u001b[0m\u001b[0;34m,\u001b[0m \u001b[0mstart\u001b[0m \u001b[0;32min\u001b[0m \u001b[0mzip\u001b[0m\u001b[0;34m(\u001b[0m\u001b[0mclip_ranges\u001b[0m\u001b[0;34m,\u001b[0m \u001b[0mstarts\u001b[0m\u001b[0;34m)\u001b[0m\u001b[0;34m:\u001b[0m\u001b[0;34m\u001b[0m\u001b[0;34m\u001b[0m\u001b[0m\n\u001b[1;32m     13\u001b[0m         \u001b[0mpath_out\u001b[0m \u001b[0;34m=\u001b[0m \u001b[0mpath_clips\u001b[0m \u001b[0;34m/\u001b[0m \u001b[0;34mf'{name}_start_{start}_seed_{SEED}.npy'\u001b[0m\u001b[0;34m\u001b[0m\u001b[0;34m\u001b[0m\u001b[0m\n\u001b[0;32m---> 14\u001b[0;31m         \u001b[0mnp\u001b[0m\u001b[0;34m.\u001b[0m\u001b[0msave\u001b[0m\u001b[0;34m(\u001b[0m\u001b[0mstr\u001b[0m\u001b[0;34m(\u001b[0m\u001b[0mpath_out\u001b[0m\u001b[0;34m)\u001b[0m\u001b[0;34m,\u001b[0m \u001b[0mfile_array\u001b[0m\u001b[0;34m[\u001b[0m\u001b[0mclip_range\u001b[0m\u001b[0;34m,\u001b[0m \u001b[0;34m:\u001b[0m\u001b[0;34m]\u001b[0m\u001b[0;34m)\u001b[0m\u001b[0;34m\u001b[0m\u001b[0;34m\u001b[0m\u001b[0m\n\u001b[0m",
      "\u001b[0;31mIndexError\u001b[0m: index 1186 is out of bounds for axis 0 with size 1186"
     ]
    }
   ],
   "source": [
    "for name, action, clip_ranges, starts, length in zip(df.Name, \n",
    "                                                     df.actions,\n",
    "                                                     all_clip_ranges,\n",
    "                                                     start_clip_idcs,\n",
    "                                                     df.Length):\n",
    "    path_file = DIR_BREAKFAST_DATA / f'{action}/{name}.txt'\n",
    "    assert path_file.exists(), path_file\n",
    "    \n",
    "    file_array = pd.read_table(str(path_file), index_col=0, header=0).to_numpy()\n",
    "    assert file_array.shape[0] == length\n",
    "    \n",
    "    for clip_range, start in zip(clip_ranges, starts):\n",
    "        path_out = path_clips / f'{name}_start_{start}_seed_{SEED}.npy'\n",
    "        np.save(str(path_out), file_array[clip_range, :])"
   ]
  },
  {
   "cell_type": "code",
   "execution_count": 62,
   "metadata": {},
   "outputs": [
    {
     "data": {
      "text/plain": [
       "array([1156, 1157, 1158, 1159, 1160, 1161, 1162, 1163, 1164, 1165, 1166,\n",
       "       1167, 1168, 1169, 1170, 1171, 1172, 1173, 1174, 1175, 1176, 1177,\n",
       "       1178, 1179, 1180, 1181, 1182, 1183, 1184, 1185, 1186, 1187, 1188,\n",
       "       1189, 1190, 1191, 1192, 1193, 1194, 1195, 1196, 1197, 1198, 1199,\n",
       "       1200, 1201, 1202, 1203, 1204, 1205, 1206, 1207, 1208, 1209, 1210,\n",
       "       1211, 1212, 1213, 1214, 1215, 1216, 1217, 1218, 1219])"
      ]
     },
     "execution_count": 62,
     "metadata": {},
     "output_type": "execute_result"
    }
   ],
   "source": [
    "clip_range"
   ]
  },
  {
   "cell_type": "code",
   "execution_count": 63,
   "metadata": {},
   "outputs": [
    {
     "data": {
      "text/plain": [
       "1186"
      ]
     },
     "execution_count": 63,
     "metadata": {},
     "output_type": "execute_result"
    }
   ],
   "source": [
    "length"
   ]
  },
  {
   "cell_type": "code",
   "execution_count": 68,
   "metadata": {},
   "outputs": [
    {
     "data": {
      "text/plain": [
       "259"
      ]
     },
     "execution_count": 68,
     "metadata": {},
     "output_type": "execute_result"
    }
   ],
   "source": [
    "idx = int(df.index[df.Name == name].values)\n",
    "idx"
   ]
  },
  {
   "cell_type": "code",
   "execution_count": 80,
   "metadata": {},
   "outputs": [
    {
     "data": {
      "text/plain": [
       "array([ 185,  210, 1700,  270])"
      ]
     },
     "execution_count": 80,
     "metadata": {},
     "output_type": "execute_result"
    }
   ],
   "source": [
    "all_clip_diffs[idx]"
   ]
  },
  {
   "cell_type": "code",
   "execution_count": 81,
   "metadata": {},
   "outputs": [
    {
     "data": {
      "text/plain": [
       "[185,\n",
       " 249,\n",
       " 370,\n",
       " 434,\n",
       " 580,\n",
       " 644,\n",
       " 708,\n",
       " 772,\n",
       " 836,\n",
       " 900,\n",
       " 964,\n",
       " 1028,\n",
       " 1092,\n",
       " 1156,\n",
       " 1220,\n",
       " 1284,\n",
       " 1348,\n",
       " 1412,\n",
       " 1476,\n",
       " 1540,\n",
       " 1604,\n",
       " 1668,\n",
       " 1732,\n",
       " 1796,\n",
       " 1860,\n",
       " 1924,\n",
       " 1988,\n",
       " 2052,\n",
       " 2116,\n",
       " 2180,\n",
       " 2280,\n",
       " 2344,\n",
       " 2408]"
      ]
     },
     "execution_count": 81,
     "metadata": {},
     "output_type": "execute_result"
    }
   ],
   "source": [
    "start_clip_idcs[idx]"
   ]
  },
  {
   "cell_type": "code",
   "execution_count": 84,
   "metadata": {},
   "outputs": [
    {
     "data": {
      "text/plain": [
       "[155, 340, 550, 2250, 2520, 2555]"
      ]
     },
     "execution_count": 84,
     "metadata": {},
     "output_type": "execute_result"
    }
   ],
   "source": [
    "coarse_segment_starts[idx]"
   ]
  },
  {
   "cell_type": "code",
   "execution_count": 82,
   "metadata": {},
   "outputs": [
    {
     "data": {
      "text/plain": [
       "1186"
      ]
     },
     "execution_count": 82,
     "metadata": {},
     "output_type": "execute_result"
    }
   ],
   "source": [
    "df.Length[idx]"
   ]
  },
  {
   "cell_type": "code",
   "execution_count": 90,
   "metadata": {},
   "outputs": [
    {
     "data": {
      "text/html": [
       "<div>\n",
       "<style scoped>\n",
       "    .dataframe tbody tr th:only-of-type {\n",
       "        vertical-align: middle;\n",
       "    }\n",
       "\n",
       "    .dataframe tbody tr th {\n",
       "        vertical-align: top;\n",
       "    }\n",
       "\n",
       "    .dataframe thead th {\n",
       "        text-align: right;\n",
       "    }\n",
       "</style>\n",
       "<table border=\"1\" class=\"dataframe\">\n",
       "  <thead>\n",
       "    <tr style=\"text-align: right;\">\n",
       "      <th></th>\n",
       "      <th>Name</th>\n",
       "      <th>Length</th>\n",
       "      <th>n_coarse_segments</th>\n",
       "      <th>coarse_segment_starts</th>\n",
       "      <th>n_fine_segments</th>\n",
       "      <th>fine_segment_starts</th>\n",
       "      <th>actions</th>\n",
       "    </tr>\n",
       "  </thead>\n",
       "  <tbody>\n",
       "    <tr>\n",
       "      <th>259</th>\n",
       "      <td>P52_stereo01_P52_sandwich</td>\n",
       "      <td>1186</td>\n",
       "      <td>6</td>\n",
       "      <td>[155, 340, 550, 2250, 2520, 2555]</td>\n",
       "      <td>73.0</td>\n",
       "      <td>[358, 507, 517, 542, 595, 619, 683, 701, 716, ...</td>\n",
       "      <td>sandwich</td>\n",
       "    </tr>\n",
       "  </tbody>\n",
       "</table>\n",
       "</div>"
      ],
      "text/plain": [
       "                          Name  Length  n_coarse_segments  \\\n",
       "259  P52_stereo01_P52_sandwich    1186                  6   \n",
       "\n",
       "                 coarse_segment_starts  n_fine_segments  \\\n",
       "259  [155, 340, 550, 2250, 2520, 2555]             73.0   \n",
       "\n",
       "                                   fine_segment_starts   actions  \n",
       "259  [358, 507, 517, 542, 595, 619, 683, 701, 716, ...  sandwich  "
      ]
     },
     "execution_count": 90,
     "metadata": {},
     "output_type": "execute_result"
    }
   ],
   "source": [
    "df[df.Name == name]"
   ]
  },
  {
   "cell_type": "code",
   "execution_count": 91,
   "metadata": {},
   "outputs": [],
   "source": [
    "test_file = pd.read_table(str(DIR_BREAKFAST_DATA / f'{action}/{name}.txt'), index_col=0, header=0).to_numpy()"
   ]
  },
  {
   "cell_type": "code",
   "execution_count": 92,
   "metadata": {},
   "outputs": [
    {
     "data": {
      "text/plain": [
       "(1186, 64)"
      ]
     },
     "execution_count": 92,
     "metadata": {},
     "output_type": "execute_result"
    }
   ],
   "source": [
    "test_file.shape"
   ]
  },
  {
   "cell_type": "markdown",
   "metadata": {},
   "source": [
    "## Creating One Dataset"
   ]
  },
  {
   "cell_type": "code",
   "execution_count": 239,
   "metadata": {},
   "outputs": [],
   "source": [
    "all_clips_data = [[path, np.load(str(path))] for path in path_clips.iterdir()]"
   ]
  },
  {
   "cell_type": "code",
   "execution_count": 252,
   "metadata": {},
   "outputs": [],
   "source": [
    "path_all_clips, all_data = zip(*all_clips_data)"
   ]
  },
  {
   "cell_type": "code",
   "execution_count": 251,
   "metadata": {},
   "outputs": [
    {
     "data": {
      "text/plain": [
       "(PosixPath('/media/data_cifs/apra/work/labwork/data/interim/breakfast/event_clips/64dim_fv_clips/P54_webcam02_P54_milk_start_174_event_42_seed_117.npy'),\n",
       " PosixPath('/media/data_cifs/apra/work/labwork/data/interim/breakfast/event_clips/64dim_fv_clips/P12_cam01_P12_sandwich_start_674_event_41_seed_117.npy'),\n",
       " PosixPath('/media/data_cifs/apra/work/labwork/data/interim/breakfast/event_clips/64dim_fv_clips/P38_webcam02_P38_friedegg_start_532_event_57_seed_117.npy'),\n",
       " PosixPath('/media/data_cifs/apra/work/labwork/data/interim/breakfast/event_clips/64dim_fv_clips/P53_webcam02_P53_friedegg_start_960_event_54_seed_117.npy'),\n",
       " PosixPath('/media/data_cifs/apra/work/labwork/data/interim/breakfast/event_clips/64dim_fv_clips/P49_cam01_P49_pancake_start_5180_event_61_seed_117.npy'))"
      ]
     },
     "execution_count": 251,
     "metadata": {},
     "output_type": "execute_result"
    }
   ],
   "source": [
    "path_all_clips[:5]"
   ]
  },
  {
   "cell_type": "code",
   "execution_count": 257,
   "metadata": {},
   "outputs": [],
   "source": [
    "path_raw_64fv_data = DIR_DATA_RAW / 'breakfast/64dim_fv_clips'\n",
    "if not path_raw_64fv_data.exists():\n",
    "    path_raw_64fv_data.mkdir(parents=True)"
   ]
  },
  {
   "cell_type": "code",
   "execution_count": 258,
   "metadata": {},
   "outputs": [],
   "source": [
    "with open(str(path_raw_64fv_data / f'path_all_data_seed_{SEED}.pkl'), 'wb') as filehandle:\n",
    "    pickle.dump(path_all_clips, filehandle)"
   ]
  },
  {
   "cell_type": "code",
   "execution_count": 248,
   "metadata": {},
   "outputs": [
    {
     "data": {
      "text/plain": [
       "(4794, 64, 64)"
      ]
     },
     "execution_count": 248,
     "metadata": {},
     "output_type": "execute_result"
    }
   ],
   "source": [
    "all_data_array = np.array(all_data)\n",
    "all_data_array.shape"
   ]
  },
  {
   "cell_type": "code",
   "execution_count": 261,
   "metadata": {},
   "outputs": [],
   "source": [
    "np.save(str(path_raw_64fv_data / f'all_clips_seed_{SEED}.npy'), all_data_array)"
   ]
  }
 ],
 "metadata": {
  "anaconda-cloud": {},
  "kernelspec": {
   "display_name": "Python 3",
   "language": "python",
   "name": "python3"
  },
  "language_info": {
   "codemirror_mode": {
    "name": "ipython",
    "version": 3
   },
   "file_extension": ".py",
   "mimetype": "text/x-python",
   "name": "python",
   "nbconvert_exporter": "python",
   "pygments_lexer": "ipython3",
   "version": "3.6.10"
  }
 },
 "nbformat": 4,
 "nbformat_minor": 4
}
