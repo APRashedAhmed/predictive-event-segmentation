{
 "cells": [
  {
   "cell_type": "markdown",
   "metadata": {},
   "source": [
    "# 2.2.0 Creating MDS Plots for PredNet\n",
    "\n",
    "Creating MDS (or some other dim redux) plots on the nodes "
   ]
  },
  {
   "cell_type": "markdown",
   "metadata": {},
   "source": [
    "## Jupyter Extensions"
   ]
  },
  {
   "cell_type": "markdown",
   "metadata": {},
   "source": [
    "Load [watermark](https://github.com/rasbt/watermark) to see the state of the machine and environment that's running the notebook. To make sense of the options, take a look at the [usage](https://github.com/rasbt/watermark#usage) section of the readme."
   ]
  },
  {
   "cell_type": "code",
   "execution_count": 1,
   "metadata": {},
   "outputs": [
    {
     "name": "stdout",
     "output_type": "stream",
     "text": [
      "Fri Aug 21 2020 20:20:36 \n",
      "\n",
      "compiler   : GCC 7.3.0\n",
      "system     : Linux\n",
      "release    : 5.4.0-42-generic\n",
      "machine    : x86_64\n",
      "processor  : x86_64\n",
      "CPU cores  : 4\n",
      "interpreter: 64bit\n",
      "host name  : apra-x3\n",
      "Git hash   : 3a3dff83da3f7b5527060c5ee1d9569065b84bea\n",
      "Git branch : master\n"
     ]
    }
   ],
   "source": [
    "# Load `watermark` extension\n",
    "%load_ext watermark\n",
    "# Display the status of the machine and other non-code related info\n",
    "%watermark -n -m -g -b -t -h"
   ]
  },
  {
   "cell_type": "markdown",
   "metadata": {},
   "source": [
    "Load [autoreload](https://ipython.org/ipython-doc/3/config/extensions/autoreload.html) which will always reload modules marked with `%aimport`.\n",
    "\n",
    "This behavior can be inverted by running `autoreload 2` which will set everything to be auto-reloaded *except* for modules marked with `%aimport`."
   ]
  },
  {
   "cell_type": "code",
   "execution_count": 2,
   "metadata": {},
   "outputs": [],
   "source": [
    "# Load `autoreload` extension\n",
    "%load_ext autoreload\n",
    "# Set autoreload behavior\n",
    "%autoreload 1"
   ]
  },
  {
   "cell_type": "markdown",
   "metadata": {},
   "source": [
    "Load `matplotlib` in one of the more `jupyter`-friendly [rich-output modes](https://ipython.readthedocs.io/en/stable/interactive/plotting.html). Some options (that may or may not have worked) are `inline`, `notebook`, and `gtk`."
   ]
  },
  {
   "cell_type": "code",
   "execution_count": 3,
   "metadata": {},
   "outputs": [],
   "source": [
    "# Set the matplotlib mode\n",
    "%matplotlib inline"
   ]
  },
  {
   "cell_type": "markdown",
   "metadata": {},
   "source": [
    "## Imports"
   ]
  },
  {
   "cell_type": "code",
   "execution_count": 4,
   "metadata": {},
   "outputs": [
    {
     "name": "stdout",
     "output_type": "stream",
     "text": [
      "networkx          2.4\n",
      "numpy             1.19.1\n",
      "logging           0.5.1.2\n",
      "PIL.Image         7.2.0\n",
      "pytorch_lightning 0.8.5\n",
      "prevseg           0+untagged.47.g3a3dff8.dirty\n",
      "torch             1.6.0\n",
      "CPython 3.8.5\n",
      "IPython 7.16.1\n"
     ]
    }
   ],
   "source": [
    "import gc\n",
    "import logging\n",
    "from argparse import Namespace\n",
    "from pathlib import Path\n",
    "\n",
    "import numpy as np\n",
    "import networkx as nx\n",
    "import matplotlib.pyplot as plt\n",
    "import torch\n",
    "import pytorch_lightning as pl\n",
    "from PIL import Image, ImageOps\n",
    "from torch.utils.data import IterableDataset, DataLoader\n",
    "\n",
    "%aimport prevseg.constants\n",
    "import prevseg.constants as const\n",
    "%aimport prevseg.index\n",
    "import prevseg.index as index\n",
    "%aimport prevseg.dataloaders.schapiro\n",
    "import prevseg.dataloaders.schapiro as sch\n",
    "%aimport prevseg.schapiro\n",
    "from prevseg.schapiro import walk, graph\n",
    "%aimport prevseg.models.prednet\n",
    "import prevseg.models.prednet as prednet\n",
    "\n",
    "# Keep track of versions of everything\n",
    "%watermark -v -iv"
   ]
  },
  {
   "cell_type": "markdown",
   "metadata": {},
   "source": [
    "## Returning the Labels (Graph Path)\n",
    "\n",
    "Realized it would be useful to have the graph position at each step, so modifying the dataset to return that as well."
   ]
  },
  {
   "cell_type": "code",
   "execution_count": 5,
   "metadata": {},
   "outputs": [
    {
     "name": "stdout",
     "output_type": "stream",
     "text": [
      "Created mapping as follows:\n",
      "{0: '15', 1: '69', 2: '86', 3: '46', 4: '71', 5: '80', 6: '42', 7: '28', 8: '100', 9: '51', 10: '64', 11: '97', 12: '38', 13: '1', 14: '93'}\n",
      "0 torch.Size([2, 2, 128, 128])\n",
      "1 torch.Size([2, 2, 128, 128])\n",
      "0 torch.Size([2, 2, 128, 128])\n",
      "1 torch.Size([2, 2, 128, 128])\n"
     ]
    }
   ],
   "source": [
    "max_steps = 2\n",
    "epochs = 2\n",
    "batch_size = 2\n",
    "n_paths = 2\n",
    "\n",
    "iter_ds = sch.ShapiroFractalsDataset(\n",
    "    batch_size=batch_size, \n",
    "    max_steps=max_steps,\n",
    "    n_paths=n_paths)\n",
    "loader = DataLoader(iter_ds, batch_size=None)\n",
    "for _ in range(epochs):\n",
    "    for i, batch in enumerate(loader):\n",
    "        print(i, batch.shape)\n",
    "        if i == n_paths:\n",
    "            print('bad')\n",
    "            break"
   ]
  },
  {
   "cell_type": "code",
   "execution_count": 6,
   "metadata": {},
   "outputs": [
    {
     "name": "stdout",
     "output_type": "stream",
     "text": [
      "Created mapping as follows:\n",
      "{0: '49', 1: '6', 2: '64', 3: '9', 4: '25', 5: '94', 6: '67', 7: '76', 8: '74', 9: '37', 10: '31', 11: '29', 12: '93', 13: '3', 14: '86'}\n",
      "0 torch.Size([2, 5, 128, 128]) [[4, 5], [2, 8], [3, 5], [4, 4], [5, 3]]\n",
      "1 torch.Size([2, 5, 128, 128]) [[14, 9], [13, 10], [14, 12], [0, 11], [2, 12]]\n",
      "2 torch.Size([2, 5, 128, 128]) [[4, 13], [2, 11], [4, 12], [3, 11], [1, 13]]\n",
      "0 torch.Size([2, 5, 128, 128]) [[13, 0], [12, 1], [13, 4], [10, 1], [12, 3]]\n",
      "1 torch.Size([2, 5, 128, 128]) [[4, 9], [1, 8], [2, 6], [0, 8], [2, 5]]\n",
      "2 torch.Size([2, 5, 128, 128]) [[8, 12], [9, 10], [8, 9], [6, 6], [7, 7]]\n"
     ]
    }
   ],
   "source": [
    "class ShapiroFractalsDataset(IterableDataset):\n",
    "    modes = set(('random', 'euclidean', 'hamiltonian'))\n",
    "    def __init__(self, batch_size=32, n_pentagons=3, max_steps=128, n_paths=128, mapping=None, \n",
    "                 mode='random'):\n",
    "        self.batch_size = batch_size\n",
    "        self.n_pentagons = n_pentagons\n",
    "        self.max_steps = max_steps\n",
    "        self.n_paths = n_paths\n",
    "        self.mapping = mapping\n",
    "        self.mode = mode\n",
    "        assert self.mode in self.modes\n",
    "        \n",
    "        self.G = graph.schapiro_graph(n_pentagons=n_pentagons)\n",
    "        \n",
    "        self.load_node_stimuli()\n",
    "        \n",
    "        self.mapping = {node : path.stem\n",
    "                        for node, path in zip(range(len(self.G.nodes)),\n",
    "                                              self.paths_data)}\n",
    "        print(f'Created mapping as follows:\\n{self.mapping}')    \n",
    "        \n",
    "    def load_node_stimuli(self):\n",
    "        # Load the fractal images into memory\n",
    "        assert index.DIR_SCH_FRACTALS.exists()\n",
    "        if self.mapping:\n",
    "            self.paths_data = [index.DIR_SCH_FRACTALS / (name+'.tiff')\n",
    "                               for name in self.mapping.values()]\n",
    "        else:\n",
    "            paths_data = list(index.DIR_SCH_FRACTALS.iterdir())\n",
    "            np.random.shuffle(paths_data)\n",
    "            self.paths_data = paths_data[:5*self.n_pentagons]\n",
    "        self.array_data = np.array(\n",
    "            [np.array(ImageOps.grayscale(Image.open(str(path))))\n",
    "             for path in self.paths_data])\n",
    "        \n",
    "    def iter_single_sample(self): \n",
    "        if self.mode == 'random':\n",
    "            iter_walk = walk.walk_random(self.G, steps=self.max_steps)\n",
    "        elif self.mode == 'euclidean':\n",
    "            iter_walk = walk.walk_euclidean(self.G)\n",
    "        elif self.mode == 'hamiltonian':\n",
    "            iter_walk = walk.walk_hamiltonian(self.G)\n",
    "        \n",
    "        for sample in iter_walk:\n",
    "            yield self.array_data[sample[0]], sample[0]\n",
    "        \n",
    "    def iter_batch_sample(self):\n",
    "        iter_batch = zip(*[self.iter_single_sample() for _ in range(self.batch_size)])\n",
    "        for batch in iter_batch:\n",
    "            data, nodes = zip(*batch)\n",
    "            yield data, nodes\n",
    "        \n",
    "    def iter_batch_dataset(self):   \n",
    "        for _ in range(self.n_paths):\n",
    "            data, nodes = zip(*list(self.iter_batch_sample()))\n",
    "            yield np.moveaxis(np.array(data), 0, 1), nodes\n",
    "        \n",
    "    def __iter__(self):\n",
    "        return self.iter_batch_dataset()\n",
    "\n",
    "    \n",
    "max_steps = 5\n",
    "epochs = 2\n",
    "batch_size = 2\n",
    "n_paths = 3\n",
    "\n",
    "iter_ds = ShapiroFractalsDataset(batch_size=batch_size, max_steps=max_steps, n_paths=n_paths)\n",
    "loader = DataLoader(iter_ds, batch_size=None)\n",
    "for _ in range(epochs):\n",
    "    for i, batch in enumerate(loader):\n",
    "        print(i, batch[0].shape, batch[1])\n",
    "        if i == n_paths:\n",
    "            print('bad')\n",
    "            break\n",
    "            \n",
    "mapping = iter_ds.mapping"
   ]
  },
  {
   "cell_type": "code",
   "execution_count": 7,
   "metadata": {},
   "outputs": [
    {
     "name": "stdout",
     "output_type": "stream",
     "text": [
      "Created mapping as follows:\n",
      "{0: '49', 1: '6', 2: '64', 3: '9', 4: '25', 5: '94', 6: '67', 7: '76', 8: '74', 9: '37', 10: '31', 11: '29', 12: '93', 13: '3', 14: '86'}\n",
      "0 torch.Size([3, 5, 2048]) [[4, 4, 3], [1, 1, 1], [4, 2, 0], [1, 1, 2], [0, 4, 0]]\n",
      "1 torch.Size([3, 5, 2048]) [[10, 4, 8], [12, 1, 5], [11, 4, 8], [12, 1, 7], [10, 4, 6]]\n",
      "0 torch.Size([3, 5, 2048]) [[3, 13, 10], [2, 14, 13], [3, 13, 11], [2, 12, 12], [4, 11, 11]]\n",
      "1 torch.Size([3, 5, 2048]) [[8, 14, 0], [6, 12, 1], [9, 11, 2], [10, 10, 4], [11, 9, 1]]\n"
     ]
    }
   ],
   "source": [
    "max_steps = 5\n",
    "epochs = 2\n",
    "batch_size = 3\n",
    "n_paths = 2\n",
    "\n",
    "class ShapiroResnetEmbeddingDataset(ShapiroFractalsDataset):\n",
    "    def load_node_stimuli(self):\n",
    "        # Load the fractal images into memory\n",
    "        assert index.DIR_SCH_FRACTALS.exists()\n",
    "        if self.mapping:\n",
    "            self.paths_data = [index.DIR_SCH_FRACTALS_EMB / (name+'.npy')\n",
    "                               for name in self.mapping.values()]\n",
    "        else:\n",
    "            paths_data = list(index.DIR_SCH_FRACTALS_EMB.iterdir())\n",
    "            np.random.shuffle(paths_data)\n",
    "            self.paths_data = paths_data[:5*self.n_pentagons]\n",
    "        self.array_data = np.array(\n",
    "            [np.array(np.load(str(path)))\n",
    "             for path in self.paths_data])    \n",
    "\n",
    "iter_ds = ShapiroResnetEmbeddingDataset(\n",
    "    batch_size=batch_size, \n",
    "    max_steps=max_steps, \n",
    "    n_paths=n_paths,\n",
    "    mapping=mapping,\n",
    ")\n",
    "loader = DataLoader(iter_ds, batch_size=None)\n",
    "\n",
    "for _ in range(epochs):\n",
    "    for i, batch in enumerate(loader):\n",
    "        print(i, batch[0].shape, batch[1])\n",
    "        if i == n_paths:\n",
    "            print('bad')\n",
    "            break"
   ]
  },
  {
   "cell_type": "markdown",
   "metadata": {},
   "source": [
    "## Redefining PredNet Class"
   ]
  },
  {
   "cell_type": "code",
   "execution_count": 8,
   "metadata": {},
   "outputs": [],
   "source": [
    "class PredNetTracked(prednet.PredNetTracked):\n",
    "    def prepare_data(self):\n",
    "        self.ds = self.ds or ShapiroResnetEmbeddingDataset(\n",
    "            batch_size=self.batch_size, \n",
    "            n_pentagons=self.hparams.n_pentagons, \n",
    "            max_steps=self.hparams.max_steps, \n",
    "            n_paths=self.hparams.n_paths)\n",
    "        self.ds_val = ShapiroResnetEmbeddingDataset(\n",
    "            batch_size=self.batch_size, \n",
    "            n_pentagons=self.hparams.n_pentagons,\n",
    "            n_paths=1,\n",
    "            mapping=self.ds.mapping,\n",
    "            mode='euclidean')\n",
    "        \n",
    "#         n_test, n_val = self.hparams.n_test, self.hparams.n_val\n",
    "        \n",
    "    def train_dataloader(self):\n",
    "        return DataLoader(self.ds, \n",
    "                          batch_size=None,\n",
    "                          num_workers=self.hparams.n_workers)\n",
    "    \n",
    "    def val_dataloader(self):\n",
    "        return DataLoader(self.ds_val, \n",
    "                          batch_size=None,\n",
    "                          num_workers=self.hparams.n_workers)"
   ]
  },
  {
   "cell_type": "markdown",
   "metadata": {},
   "source": [
    "## Loading Saved Weights"
   ]
  },
  {
   "cell_type": "code",
   "execution_count": 35,
   "metadata": {},
   "outputs": [
    {
     "name": "stdout",
     "output_type": "stream",
     "text": [
      "Created mapping as follows:\n",
      "{0: '1', 1: '60', 2: '95', 3: '100', 4: '14', 5: '2', 6: '63', 7: '58', 8: '96', 9: '55', 10: '99', 11: '50', 12: '7', 13: '89', 14: '12'}\n",
      "Created mapping as follows:\n",
      "{0: '1', 1: '60', 2: '95', 3: '100', 4: '14', 5: '2', 6: '63', 7: '58', 8: '96', 9: '55', 10: '99', 11: '50', 12: '7', 13: '89', 14: '12'}\n"
     ]
    }
   ],
   "source": [
    "model, trainer = None, None\n",
    "train_dataloader, val_dataloader = None, None\n",
    "errors, optimizer = None, None\n",
    "ckpt = None\n",
    "train_errors, val_errors = None, None\n",
    "res = None\n",
    "gc.collect()\n",
    "torch.cuda.empty_cache()\n",
    "\n",
    "model = PredNetTracked.load_from_checkpoint(str(\n",
    "    index.DIR_CHECKPOINTS / \n",
    "    'prednet_tracked_schapiro_test_v46/schapiro_test_global_step=00127_epoch=003_val_loss=0.106.ckpt'),\n",
    ")\n",
    "model.prepare_data()\n",
    "model.cuda()\n",
    "hparams = model.hparams\n",
    "\n",
    "log_dir = Path(hparams.dir_logs) / f'{hparams.name}'\n",
    "if not log_dir.exists():\n",
    "    log_dir.mkdir(parents=True)\n",
    "logger = pl.loggers.TensorBoardLogger(str(log_dir.parent), \n",
    "                                      name=hparams.name,\n",
    "                                      version=0)\n",
    "model.logger = logger"
   ]
  },
  {
   "cell_type": "code",
   "execution_count": 14,
   "metadata": {},
   "outputs": [
    {
     "name": "stdout",
     "output_type": "stream",
     "text": [
      "Created mapping as follows:\n",
      "{0: '1', 1: '60', 2: '95', 3: '100', 4: '14', 5: '2', 6: '63', 7: '58', 8: '96', 9: '55', 10: '99', 11: '50', 12: '7', 13: '89', 14: '12'}\n"
     ]
    }
   ],
   "source": [
    "iter_ds = ShapiroResnetEmbeddingDataset(\n",
    "    batch_size=1, \n",
    "    max_steps=hparams.max_steps, \n",
    "    n_paths=1,\n",
    "    mapping=model.ds.mapping,\n",
    "    mode='euclidean')\n",
    "loader = DataLoader(iter_ds, batch_size=None)\n",
    "\n",
    "for data, nodes in loader:\n",
    "    pass"
   ]
  },
  {
   "cell_type": "code",
   "execution_count": 15,
   "metadata": {},
   "outputs": [
    {
     "data": {
      "text/plain": [
       "torch.Size([1, 30, 2048])"
      ]
     },
     "execution_count": 15,
     "metadata": {},
     "output_type": "execute_result"
    }
   ],
   "source": [
    "data.shape"
   ]
  },
  {
   "cell_type": "code",
   "execution_count": 16,
   "metadata": {},
   "outputs": [
    {
     "data": {
      "text/plain": [
       "torch.Size([1, 59, 2048])"
      ]
     },
     "execution_count": 16,
     "metadata": {},
     "output_type": "execute_result"
    }
   ],
   "source": [
    "data_all = torch.cat((data, torch.flip(data, (0,1))[:,1:,:]), 1)\n",
    "data_all.shape"
   ]
  },
  {
   "cell_type": "code",
   "execution_count": 17,
   "metadata": {},
   "outputs": [
    {
     "data": {
      "text/plain": [
       "tensor(0.0314)"
      ]
     },
     "execution_count": 17,
     "metadata": {},
     "output_type": "execute_result"
    }
   ],
   "source": [
    "data_all[0,28,0]"
   ]
  },
  {
   "cell_type": "code",
   "execution_count": 18,
   "metadata": {},
   "outputs": [
    {
     "data": {
      "text/plain": [
       "tensor(0.1979)"
      ]
     },
     "execution_count": 18,
     "metadata": {},
     "output_type": "execute_result"
    }
   ],
   "source": [
    "data_all[0,29,0]"
   ]
  },
  {
   "cell_type": "code",
   "execution_count": 19,
   "metadata": {},
   "outputs": [
    {
     "data": {
      "text/plain": [
       "tensor(0.0314)"
      ]
     },
     "execution_count": 19,
     "metadata": {},
     "output_type": "execute_result"
    }
   ],
   "source": [
    "data_all[0,30,0]"
   ]
  },
  {
   "cell_type": "code",
   "execution_count": 74,
   "metadata": {},
   "outputs": [],
   "source": [
    "outs = model.forward(data_all, output_mode='eval', run_num='fwd_rev', \n",
    "                     tb_labels=['nodes'])"
   ]
  },
  {
   "cell_type": "code",
   "execution_count": 40,
   "metadata": {},
   "outputs": [
    {
     "data": {
      "text/plain": [
       "array([11, 13, 14, 12, 13, 10, 12, 11, 14,  0,  3,  4,  2,  3,  1,  2,  0,\n",
       "        1,  4,  5,  8,  9,  7,  8,  6,  7,  5,  6,  9, 10])"
      ]
     },
     "execution_count": 40,
     "metadata": {},
     "output_type": "execute_result"
    }
   ],
   "source": [
    "nodes = np.array(nodes).reshape(30)\n",
    "nodes"
   ]
  },
  {
   "cell_type": "code",
   "execution_count": 75,
   "metadata": {},
   "outputs": [
    {
     "data": {
      "text/plain": [
       "(59,)"
      ]
     },
     "execution_count": 75,
     "metadata": {},
     "output_type": "execute_result"
    }
   ],
   "source": [
    "nodes_all = np.concatenate((nodes, np.flip(nodes)[1:]))\n",
    "nodes_all.shape"
   ]
  },
  {
   "cell_type": "code",
   "execution_count": 76,
   "metadata": {},
   "outputs": [
    {
     "name": "stdout",
     "output_type": "stream",
     "text": [
      "0 11\n",
      "1 13\n",
      "2 14\n",
      "3 12\n",
      "4 13\n",
      "5 10\n",
      "6 12\n",
      "7 11\n",
      "8 14\n",
      "9 0\n",
      "10 3\n",
      "11 4\n",
      "12 2\n",
      "13 3\n",
      "14 1\n",
      "15 2\n",
      "16 0\n",
      "17 1\n",
      "18 4\n",
      "19 5\n",
      "20 8\n",
      "21 9\n",
      "22 7\n",
      "23 8\n",
      "24 6\n",
      "25 7\n",
      "26 5\n",
      "27 6\n",
      "28 9\n",
      "29 10\n",
      "30 9\n",
      "31 6\n",
      "32 5\n",
      "33 7\n",
      "34 6\n",
      "35 8\n",
      "36 7\n",
      "37 9\n",
      "38 8\n",
      "39 5\n",
      "40 4\n",
      "41 1\n",
      "42 0\n",
      "43 2\n",
      "44 1\n",
      "45 3\n",
      "46 2\n",
      "47 4\n",
      "48 3\n",
      "49 0\n",
      "50 14\n",
      "51 11\n",
      "52 12\n",
      "53 10\n",
      "54 13\n",
      "55 12\n",
      "56 14\n",
      "57 13\n",
      "58 11\n"
     ]
    }
   ],
   "source": [
    "for i, val in enumerate(nodes_all):\n",
    "    print(i, val)"
   ]
  },
  {
   "cell_type": "code",
   "execution_count": 82,
   "metadata": {},
   "outputs": [
    {
     "data": {
      "image/png": "[encoded data removed]",
      "text/plain": [
       "<Figure size 432x288 with 1 Axes>"
      ]
     },
     "metadata": {
      "needs_background": "light"
     },
     "output_type": "display_data"
    },
    {
     "data": {
      "image/png": "[encoded data removed]",
      "text/plain": [
       "<Figure size 432x288 with 1 Axes>"
      ]
     },
     "metadata": {
      "needs_background": "light"
     },
     "output_type": "display_data"
    }
   ],
   "source": [
    "for out in outs['hidden_diff']:\n",
    "    plt.plot(np.array(out.cpu()).reshape(59))\n",
    "    plt.show()"
   ]
  },
  {
   "cell_type": "markdown",
   "metadata": {},
   "source": [
    "Strange to get large shifts at 30 and 31. Unclear what that would mean."
   ]
  },
  {
   "cell_type": "code",
   "execution_count": 11,
   "metadata": {},
   "outputs": [],
   "source": [
    "test_nodes = [9,10,9,10,9,10,\n",
    "              13,12,11,12,13,12,11, \n",
    "              14,0,14,0,14,0, \n",
    "              1,2,3,2,1,2,3, \n",
    "              4,5,4,5,4,5,4]\n",
    "test_data = np.array([iter_ds.array_data[n] for n in test_nodes]).reshape((1,len(test_nodes),2048))"
   ]
  },
  {
   "cell_type": "code",
   "execution_count": 12,
   "metadata": {},
   "outputs": [],
   "source": [
    "border_outs = model.forward(torch.Tensor(test_data), output_mode='eval', run_num='border_walk_3', \n",
    "                            tb_labels=['nodes'])"
   ]
  },
  {
   "cell_type": "code",
   "execution_count": 95,
   "metadata": {},
   "outputs": [
    {
     "data": {
      "image/png": "[encoded data removed]",
      "text/plain": [
       "<Figure size 432x288 with 1 Axes>"
      ]
     },
     "metadata": {
      "needs_background": "light"
     },
     "output_type": "display_data"
    },
    {
     "data": {
      "image/png": "[encoded data removed]",
      "text/plain": [
       "<Figure size 432x288 with 1 Axes>"
      ]
     },
     "metadata": {
      "needs_background": "light"
     },
     "output_type": "display_data"
    }
   ],
   "source": [
    "for out in border_outs['hidden_diff']:\n",
    "    plt.plot(np.array(out.cpu()).reshape(len(test_nodes)))\n",
    "    plt.show()"
   ]
  },
  {
   "cell_type": "markdown",
   "metadata": {},
   "source": [
    "Seems its that some borders illicit a larger state change. Could be a result of the embeddings being more different than usual."
   ]
  },
  {
   "cell_type": "markdown",
   "metadata": {},
   "source": [
    "## Hierarchical PredNet"
   ]
  },
  {
   "cell_type": "code",
   "execution_count": 10,
   "metadata": {},
   "outputs": [
    {
     "name": "stdout",
     "output_type": "stream",
     "text": [
      "Created mapping as follows:\n",
      "{0: '1', 1: '60', 2: '95', 3: '100', 4: '14', 5: '2', 6: '63', 7: '58', 8: '96', 9: '55', 10: '99', 11: '50', 12: '7', 13: '89', 14: '12'}\n",
      "Created mapping as follows:\n",
      "{0: '1', 1: '60', 2: '95', 3: '100', 4: '14', 5: '2', 6: '63', 7: '58', 8: '96', 9: '55', 10: '99', 11: '50', 12: '7', 13: '89', 14: '12'}\n"
     ]
    }
   ],
   "source": [
    "model, trainer = None, None\n",
    "train_dataloader, val_dataloader = None, None\n",
    "errors, optimizer = None, None\n",
    "ckpt = None\n",
    "train_errors, val_errors = None, None\n",
    "res = None\n",
    "gc.collect()\n",
    "torch.cuda.empty_cache()\n",
    "\n",
    "model = PredNetTracked.load_from_checkpoint(str(\n",
    "    index.DIR_CHECKPOINTS / \n",
    "    'prednet_tracked_schapiro_test_v52/schapiro_test_global_step=00255_epoch=007_val_loss=0.106.ckpt'),\n",
    ")\n",
    "model.prepare_data()\n",
    "model.cuda()\n",
    "hparams = model.hparams\n",
    "\n",
    "log_dir = Path(hparams.dir_logs) / f'{hparams.name}'\n",
    "if not log_dir.exists():\n",
    "    log_dir.mkdir(parents=True)\n",
    "logger = pl.loggers.TensorBoardLogger(str(log_dir.parent), \n",
    "                                      name=hparams.name,\n",
    "                                      version=0)\n",
    "model.logger = logger"
   ]
  },
  {
   "cell_type": "code",
   "execution_count": 13,
   "metadata": {},
   "outputs": [
    {
     "data": {
      "image/png": "[encoded data removed]",
      "text/plain": [
       "<Figure size 432x288 with 1 Axes>"
      ]
     },
     "metadata": {
      "needs_background": "light"
     },
     "output_type": "display_data"
    },
    {
     "data": {
      "image/png": "[encoded data removed]",
      "text/plain": [
       "<Figure size 432x288 with 1 Axes>"
      ]
     },
     "metadata": {
      "needs_background": "light"
     },
     "output_type": "display_data"
    },
    {
     "data": {
      "image/png": "[encoded data removed]",
      "text/plain": [
       "<Figure size 432x288 with 1 Axes>"
      ]
     },
     "metadata": {
      "needs_background": "light"
     },
     "output_type": "display_data"
    }
   ],
   "source": [
    "for out in border_outs['hidden_diff']:\n",
    "    plt.plot(np.array(out.cpu()).reshape(len(test_nodes)))\n",
    "    plt.show()"
   ]
  },
  {
   "cell_type": "code",
   "execution_count": 20,
   "metadata": {},
   "outputs": [],
   "source": [
    "outs = model.forward(data_all, output_mode='eval', run_num='fwd_rev', \n",
    "                     tb_labels=['nodes'])"
   ]
  },
  {
   "cell_type": "code",
   "execution_count": 21,
   "metadata": {},
   "outputs": [
    {
     "data": {
      "text/plain": [
       "array([11, 13, 14, 12, 13, 10, 12, 11, 14,  0,  3,  4,  2,  3,  1,  2,  0,\n",
       "        1,  4,  5,  8,  9,  7,  8,  6,  7,  5,  6,  9, 10])"
      ]
     },
     "execution_count": 21,
     "metadata": {},
     "output_type": "execute_result"
    }
   ],
   "source": [
    "nodes = np.array(nodes).reshape(30)\n",
    "nodes"
   ]
  },
  {
   "cell_type": "code",
   "execution_count": 22,
   "metadata": {},
   "outputs": [
    {
     "data": {
      "text/plain": [
       "(59,)"
      ]
     },
     "execution_count": 22,
     "metadata": {},
     "output_type": "execute_result"
    }
   ],
   "source": [
    "nodes_all = np.concatenate((nodes, np.flip(nodes)[1:]))\n",
    "nodes_all.shape"
   ]
  },
  {
   "cell_type": "code",
   "execution_count": 23,
   "metadata": {},
   "outputs": [
    {
     "name": "stdout",
     "output_type": "stream",
     "text": [
      "0 11\n",
      "1 13\n",
      "2 14\n",
      "3 12\n",
      "4 13\n",
      "5 10\n",
      "6 12\n",
      "7 11\n",
      "8 14\n",
      "9 0\n",
      "10 3\n",
      "11 4\n",
      "12 2\n",
      "13 3\n",
      "14 1\n",
      "15 2\n",
      "16 0\n",
      "17 1\n",
      "18 4\n",
      "19 5\n",
      "20 8\n",
      "21 9\n",
      "22 7\n",
      "23 8\n",
      "24 6\n",
      "25 7\n",
      "26 5\n",
      "27 6\n",
      "28 9\n",
      "29 10\n",
      "30 9\n",
      "31 6\n",
      "32 5\n",
      "33 7\n",
      "34 6\n",
      "35 8\n",
      "36 7\n",
      "37 9\n",
      "38 8\n",
      "39 5\n",
      "40 4\n",
      "41 1\n",
      "42 0\n",
      "43 2\n",
      "44 1\n",
      "45 3\n",
      "46 2\n",
      "47 4\n",
      "48 3\n",
      "49 0\n",
      "50 14\n",
      "51 11\n",
      "52 12\n",
      "53 10\n",
      "54 13\n",
      "55 12\n",
      "56 14\n",
      "57 13\n",
      "58 11\n"
     ]
    }
   ],
   "source": [
    "for i, val in enumerate(nodes_all):\n",
    "    print(i, val)"
   ]
  },
  {
   "cell_type": "code",
   "execution_count": 24,
   "metadata": {},
   "outputs": [
    {
     "data": {
      "image/png": "[encoded data removed]",
      "text/plain": [
       "<Figure size 432x288 with 1 Axes>"
      ]
     },
     "metadata": {
      "needs_background": "light"
     },
     "output_type": "display_data"
    },
    {
     "data": {
      "image/png": "[encoded data removed]",
      "text/plain": [
       "<Figure size 432x288 with 1 Axes>"
      ]
     },
     "metadata": {
      "needs_background": "light"
     },
     "output_type": "display_data"
    },
    {
     "data": {
      "image/png": "[encoded data removed]",
      "text/plain": [
       "<Figure size 432x288 with 1 Axes>"
      ]
     },
     "metadata": {
      "needs_background": "light"
     },
     "output_type": "display_data"
    }
   ],
   "source": [
    "for out in outs['hidden_diff']:\n",
    "    plt.plot(np.array(out.cpu()).reshape(59))\n",
    "    plt.show()"
   ]
  },
  {
   "cell_type": "code",
   "execution_count": null,
   "metadata": {},
   "outputs": [],
   "source": []
  }
 ],
 "metadata": {
  "anaconda-cloud": {},
  "kernelspec": {
   "display_name": "Python 3",
   "language": "python",
   "name": "python3"
  },
  "language_info": {
   "codemirror_mode": {
    "name": "ipython",
    "version": 3
   },
   "file_extension": ".py",
   "mimetype": "text/x-python",
   "name": "python",
   "nbconvert_exporter": "python",
   "pygments_lexer": "ipython3",
   "version": "3.8.5"
  }
 },
 "nbformat": 4,
 "nbformat_minor": 4
}
