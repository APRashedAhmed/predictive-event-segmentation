{
 "cells": [
  {
   "cell_type": "markdown",
   "metadata": {},
   "source": [
    "# 4.0.5 Assessing the Video Length Issue\n",
    "\n",
    "The coarse segments and 64 dim feature vectors disagree on how long certain videos are. This notebook explores how much all the data disagrees with each other."
   ]
  },
  {
   "cell_type": "markdown",
   "metadata": {},
   "source": [
    "## Jupyter Extensions"
   ]
  },
  {
   "cell_type": "markdown",
   "metadata": {},
   "source": [
    "Load [watermark](https://github.com/rasbt/watermark) to see the state of the machine and environment that's running the notebook. To make sense of the options, take a look at the [usage](https://github.com/rasbt/watermark#usage) section of the readme."
   ]
  },
  {
   "cell_type": "code",
   "execution_count": 1,
   "metadata": {},
   "outputs": [
    {
     "name": "stdout",
     "output_type": "stream",
     "text": [
      "Mon Feb 24 2020 12:38:12 \n",
      "\n",
      "CPython 3.6.10\n",
      "IPython 7.12.0\n",
      "\n",
      "torch 1.2.0\n",
      "torchvision 0.1.8\n",
      "cv2 3.4.2\n",
      "h5py 2.8.0\n",
      "pandas 1.0.1\n",
      "matplotlib 3.1.3\n",
      "seaborn 0.10.0\n",
      "jupyterlab 1.2.6\n",
      "lab 0+untagged.21.g9d80dae.dirty\n",
      "\n",
      "compiler   : GCC 7.3.0\n",
      "system     : Linux\n",
      "release    : 4.4.0-173-generic\n",
      "machine    : x86_64\n",
      "processor  : x86_64\n",
      "CPU cores  : 16\n",
      "interpreter: 64bit\n",
      "Git hash   : 9d80daec6156826fef6a7472507201013d8c7801\n",
      "Git branch : master\n"
     ]
    }
   ],
   "source": [
    "# Load `watermark` extension\n",
    "%load_ext watermark\n",
    "# Display the status of the machine and packages. Add more as necessary.\n",
    "%watermark -v -n -m -g -b -t -p torch,torchvision,cv2,h5py,pandas,matplotlib,seaborn,jupyterlab,lab"
   ]
  },
  {
   "cell_type": "markdown",
   "metadata": {},
   "source": [
    "Load [autoreload](https://ipython.org/ipython-doc/3/config/extensions/autoreload.html) which will always reload modules marked with `%aimport`.\n",
    "\n",
    "This behavior can be inverted by running `autoreload 2` which will set everything to be auto-reloaded *except* for modules marked with `%aimport`."
   ]
  },
  {
   "cell_type": "code",
   "execution_count": 5,
   "metadata": {},
   "outputs": [
    {
     "name": "stdout",
     "output_type": "stream",
     "text": [
      "The autoreload extension is already loaded. To reload it, use:\n",
      "  %reload_ext autoreload\n"
     ]
    }
   ],
   "source": [
    "# Load `autoreload` extension\n",
    "%load_ext autoreload\n",
    "# Set autoreload behavior\n",
    "%autoreload 1"
   ]
  },
  {
   "cell_type": "markdown",
   "metadata": {},
   "source": [
    "Load `matplotlib` in one of the more `jupyter`-friendly [rich-output modes](https://ipython.readthedocs.io/en/stable/interactive/plotting.html). Some options (that may or may not have worked) are `inline`, `notebook`, and `gtk`."
   ]
  },
  {
   "cell_type": "code",
   "execution_count": 6,
   "metadata": {},
   "outputs": [],
   "source": [
    "# Set the matplotlib mode\n",
    "%matplotlib inline"
   ]
  },
  {
   "cell_type": "markdown",
   "metadata": {},
   "source": [
    "## Set the GPU\n",
    "\n",
    "Make sure we aren't greedy."
   ]
  },
  {
   "cell_type": "code",
   "execution_count": 7,
   "metadata": {},
   "outputs": [
    {
     "name": "stdout",
     "output_type": "stream",
     "text": [
      "Mon Feb 24 12:38:57 2020       \n",
      "+-----------------------------------------------------------------------------+\n",
      "| NVIDIA-SMI 418.67       Driver Version: 418.67       CUDA Version: 10.1     |\n",
      "|-------------------------------+----------------------+----------------------+\n",
      "| GPU  Name        Persistence-M| Bus-Id        Disp.A | Volatile Uncorr. ECC |\n",
      "| Fan  Temp  Perf  Pwr:Usage/Cap|         Memory-Usage | GPU-Util  Compute M. |\n",
      "|===============================+======================+======================|\n",
      "|   0  TITAN X (Pascal)    Off  | 00000000:04:00.0 Off |                  N/A |\n",
      "| 23%   22C    P8     7W / 250W |      0MiB / 12196MiB |      0%      Default |\n",
      "+-------------------------------+----------------------+----------------------+\n",
      "|   1  TITAN X (Pascal)    Off  | 00000000:05:00.0 Off |                  N/A |\n",
      "| 29%   50C    P2    58W / 250W |   2885MiB / 12196MiB |      0%      Default |\n",
      "+-------------------------------+----------------------+----------------------+\n",
      "|   2  TITAN X (Pascal)    Off  | 00000000:08:00.0 Off |                  N/A |\n",
      "| 32%   56C    P2    59W / 250W |   2005MiB / 12196MiB |      5%      Default |\n",
      "+-------------------------------+----------------------+----------------------+\n",
      "|   3  TITAN X (Pascal)    Off  | 00000000:09:00.0 Off |                  N/A |\n",
      "| 52%   82C    P2    88W / 250W |  10485MiB / 12196MiB |      0%      Default |\n",
      "+-------------------------------+----------------------+----------------------+\n",
      "|   4  TITAN X (Pascal)    Off  | 00000000:84:00.0 Off |                  N/A |\n",
      "| 63%   84C    P2   169W / 250W |  10443MiB / 12196MiB |     98%      Default |\n",
      "+-------------------------------+----------------------+----------------------+\n",
      "|   5  TITAN X (Pascal)    Off  | 00000000:85:00.0 Off |                  N/A |\n",
      "| 50%   80C    P2    73W / 250W |  10157MiB / 12196MiB |      0%      Default |\n",
      "+-------------------------------+----------------------+----------------------+\n",
      "|   6  TITAN X (Pascal)    Off  | 00000000:88:00.0 Off |                  N/A |\n",
      "| 50%   82C    P2   272W / 250W |   9921MiB / 12196MiB |     65%      Default |\n",
      "+-------------------------------+----------------------+----------------------+\n",
      "|   7  TITAN X (Pascal)    Off  | 00000000:89:00.0 Off |                  N/A |\n",
      "| 30%   52C    P2    61W / 250W |   1743MiB / 12196MiB |      9%      Default |\n",
      "+-------------------------------+----------------------+----------------------+\n",
      "                                                                               \n",
      "+-----------------------------------------------------------------------------+\n",
      "| Processes:                                                       GPU Memory |\n",
      "|  GPU       PID   Type   Process name                             Usage      |\n",
      "|=============================================================================|\n",
      "|    1     18085      C   python                                      2875MiB |\n",
      "|    2      8742      C   python                                      1995MiB |\n",
      "|    3     19363      C   python                                     10475MiB |\n",
      "|    4     30662      C   python                                     10433MiB |\n",
      "|    5     19363      C   python                                     10147MiB |\n",
      "|    6     30662      C   python                                      9911MiB |\n",
      "|    7     14368      C   python                                      1733MiB |\n",
      "+-----------------------------------------------------------------------------+\n"
     ]
    }
   ],
   "source": [
    "!nvidia-smi"
   ]
  },
  {
   "cell_type": "code",
   "execution_count": 8,
   "metadata": {},
   "outputs": [
    {
     "name": "stdout",
     "output_type": "stream",
     "text": [
      "env: CUDA_VISIBLE_DEVICES=0\n"
     ]
    }
   ],
   "source": [
    "%env CUDA_VISIBLE_DEVICES=0"
   ]
  },
  {
   "cell_type": "markdown",
   "metadata": {},
   "source": [
    "## Imports"
   ]
  },
  {
   "cell_type": "code",
   "execution_count": 9,
   "metadata": {},
   "outputs": [],
   "source": [
    "from pathlib import Path\n",
    "\n",
    "import cv2\n",
    "import numpy as np\n",
    "import pandas as pd\n",
    "import seaborn as sns\n",
    "import matplotlib.pyplot as plt\n",
    "from tqdm import tqdm"
   ]
  },
  {
   "cell_type": "markdown",
   "metadata": {},
   "source": [
    "Local imports that may or may not be autoreloaded. This section contains things that will likely have to be re-imported multiple times, and have additions or subtractions made throughout the project."
   ]
  },
  {
   "cell_type": "code",
   "execution_count": 276,
   "metadata": {},
   "outputs": [],
   "source": [
    "# Constants to be used throughout the package\n",
    "%aimport lab.index\n",
    "from lab.index import DIR_DATA_INT, DIR_DATA_RAW\n",
    "%aimport lab.breakfast.constants\n",
    "from lab.breakfast.constants import SEED\n",
    "# Import the data subdirectories\n",
    "%aimport lab.breakfast.index\n",
    "from lab.breakfast.index import (DIR_BREAKFAST, \n",
    "                                 DIR_BREAKFAST_VIDEOS,\n",
    "                                 DIR_BREAKFAST_DATA, \n",
    "                                 DIR_COARSE_SEG, \n",
    "                                 DIR_FINE_SEG,\n",
    "                                 DIR_I3D_FVS,\n",
    "                                )"
   ]
  },
  {
   "cell_type": "markdown",
   "metadata": {},
   "source": [
    "## Initial Setup"
   ]
  },
  {
   "cell_type": "markdown",
   "metadata": {},
   "source": [
    "Set [seaborn defaults](https://seaborn.pydata.org/generated/seaborn.set.html) for matplotlib."
   ]
  },
  {
   "cell_type": "code",
   "execution_count": 8,
   "metadata": {},
   "outputs": [],
   "source": [
    "sns.set()"
   ]
  },
  {
   "cell_type": "markdown",
   "metadata": {},
   "source": [
    "## Rerunning the Same Code Blocks"
   ]
  },
  {
   "cell_type": "markdown",
   "metadata": {},
   "source": [
    "### Getting Start Frames and Number of Segments"
   ]
  },
  {
   "cell_type": "code",
   "execution_count": 11,
   "metadata": {},
   "outputs": [],
   "source": [
    "df = pd.read_csv(str(DIR_BREAKFAST / 'video_lengths.csv'),\n",
    "                 index_col=0,\n",
    "                 header=0)"
   ]
  },
  {
   "cell_type": "code",
   "execution_count": 12,
   "metadata": {},
   "outputs": [
    {
     "data": {
      "text/html": [
       "<div>\n",
       "<style scoped>\n",
       "    .dataframe tbody tr th:only-of-type {\n",
       "        vertical-align: middle;\n",
       "    }\n",
       "\n",
       "    .dataframe tbody tr th {\n",
       "        vertical-align: top;\n",
       "    }\n",
       "\n",
       "    .dataframe thead th {\n",
       "        text-align: right;\n",
       "    }\n",
       "</style>\n",
       "<table border=\"1\" class=\"dataframe\">\n",
       "  <thead>\n",
       "    <tr style=\"text-align: right;\">\n",
       "      <th></th>\n",
       "      <th>Name</th>\n",
       "      <th>Length</th>\n",
       "    </tr>\n",
       "  </thead>\n",
       "  <tbody>\n",
       "    <tr>\n",
       "      <th>0</th>\n",
       "      <td>P27_cam01_P27_scrambledegg</td>\n",
       "      <td>3561</td>\n",
       "    </tr>\n",
       "    <tr>\n",
       "      <th>1</th>\n",
       "      <td>P11_cam01_P11_scrambledegg</td>\n",
       "      <td>2649</td>\n",
       "    </tr>\n",
       "    <tr>\n",
       "      <th>2</th>\n",
       "      <td>P27_stereo01_P27_scrambledegg</td>\n",
       "      <td>3560</td>\n",
       "    </tr>\n",
       "    <tr>\n",
       "      <th>3</th>\n",
       "      <td>P21_cam01_P21_scrambledegg</td>\n",
       "      <td>5281</td>\n",
       "    </tr>\n",
       "    <tr>\n",
       "      <th>4</th>\n",
       "      <td>P46_cam02_P46_scrambledegg</td>\n",
       "      <td>3135</td>\n",
       "    </tr>\n",
       "  </tbody>\n",
       "</table>\n",
       "</div>"
      ],
      "text/plain": [
       "                            Name  Length\n",
       "0     P27_cam01_P27_scrambledegg    3561\n",
       "1     P11_cam01_P11_scrambledegg    2649\n",
       "2  P27_stereo01_P27_scrambledegg    3560\n",
       "3     P21_cam01_P21_scrambledegg    5281\n",
       "4     P46_cam02_P46_scrambledegg    3135"
      ]
     },
     "execution_count": 12,
     "metadata": {},
     "output_type": "execute_result"
    }
   ],
   "source": [
    "df.head()"
   ]
  },
  {
   "cell_type": "code",
   "execution_count": 15,
   "metadata": {},
   "outputs": [
    {
     "name": "stdout",
     "output_type": "stream",
     "text": [
      "1-1 SIL  \n",
      "\n",
      "2-302 spoon_flour  \n",
      "\n",
      "303-501 crack_egg  \n",
      "\n",
      "502-727 pour_milk  \n",
      "\n",
      "728-1077 butter_pan  \n",
      "\n",
      "1078-1844 stir_dough  \n",
      "\n",
      "1845-1948 pour_dough2pan  \n",
      "\n",
      "1949-3649 fry_pancake  \n",
      "\n",
      "3650-3736 take_plate  \n",
      "\n",
      "3737-3826 put_pancake2plate  \n",
      "\n",
      "3827-3874 SIL  \n",
      "\n"
     ]
    }
   ],
   "source": [
    "with open(str(DIR_COARSE_SEG / 'pancake/P53_webcam01_P53_pancake.txt'), 'r') as f:\n",
    "    for l in f:\n",
    "        print(l)"
   ]
  },
  {
   "cell_type": "code",
   "execution_count": 16,
   "metadata": {},
   "outputs": [
    {
     "name": "stdout",
     "output_type": "stream",
     "text": [
      "['2', '303', '502', '728', '1078', '1845', '1949', '3650', '3737', '3827']\n"
     ]
    }
   ],
   "source": [
    "with open(str(DIR_COARSE_SEG / 'pancake/P53_webcam01_P53_pancake.txt'), 'r') as f:\n",
    "    starts = [line.split('-')[0] for line in f][1:]\n",
    "    print(starts)"
   ]
  },
  {
   "cell_type": "code",
   "execution_count": 17,
   "metadata": {},
   "outputs": [],
   "source": [
    "n_coarse_segments, coarse_segment_starts = [], []\n",
    "\n",
    "for name in df.Name:\n",
    "    action = name.split('_')[-1]\n",
    "    path = DIR_COARSE_SEG / f'{action}/{name}.txt'\n",
    "    \n",
    "    with open(str(path), 'r') as file:\n",
    "        coarse_segment_starts.append([int(line.split('-')[0]) for line in file][1:])\n",
    "        n_coarse_segments.append(len(coarse_segment_starts[-1]))"
   ]
  },
  {
   "cell_type": "code",
   "execution_count": 18,
   "metadata": {},
   "outputs": [],
   "source": [
    "df['n_coarse_segments'] = n_coarse_segments\n",
    "df['coarse_segment_starts'] = coarse_segment_starts"
   ]
  },
  {
   "cell_type": "code",
   "execution_count": 19,
   "metadata": {},
   "outputs": [
    {
     "data": {
      "text/html": [
       "<div>\n",
       "<style scoped>\n",
       "    .dataframe tbody tr th:only-of-type {\n",
       "        vertical-align: middle;\n",
       "    }\n",
       "\n",
       "    .dataframe tbody tr th {\n",
       "        vertical-align: top;\n",
       "    }\n",
       "\n",
       "    .dataframe thead th {\n",
       "        text-align: right;\n",
       "    }\n",
       "</style>\n",
       "<table border=\"1\" class=\"dataframe\">\n",
       "  <thead>\n",
       "    <tr style=\"text-align: right;\">\n",
       "      <th></th>\n",
       "      <th>Name</th>\n",
       "      <th>Length</th>\n",
       "      <th>n_coarse_segments</th>\n",
       "      <th>coarse_segment_starts</th>\n",
       "    </tr>\n",
       "  </thead>\n",
       "  <tbody>\n",
       "    <tr>\n",
       "      <th>0</th>\n",
       "      <td>P27_cam01_P27_scrambledegg</td>\n",
       "      <td>3561</td>\n",
       "      <td>9</td>\n",
       "      <td>[12, 185, 444, 1031, 1310, 1923, 2880, 2987, 3...</td>\n",
       "    </tr>\n",
       "    <tr>\n",
       "      <th>1</th>\n",
       "      <td>P11_cam01_P11_scrambledegg</td>\n",
       "      <td>2649</td>\n",
       "      <td>6</td>\n",
       "      <td>[39, 293, 897, 1928, 2410, 2620]</td>\n",
       "    </tr>\n",
       "    <tr>\n",
       "      <th>2</th>\n",
       "      <td>P27_stereo01_P27_scrambledegg</td>\n",
       "      <td>3560</td>\n",
       "      <td>9</td>\n",
       "      <td>[12, 185, 444, 1031, 1310, 1923, 2880, 2987, 3...</td>\n",
       "    </tr>\n",
       "    <tr>\n",
       "      <th>3</th>\n",
       "      <td>P21_cam01_P21_scrambledegg</td>\n",
       "      <td>5281</td>\n",
       "      <td>9</td>\n",
       "      <td>[234, 624, 1120, 1408, 1577, 1975, 4189, 4451,...</td>\n",
       "    </tr>\n",
       "    <tr>\n",
       "      <th>4</th>\n",
       "      <td>P46_cam02_P46_scrambledegg</td>\n",
       "      <td>3135</td>\n",
       "      <td>7</td>\n",
       "      <td>[2, 272, 754, 1226, 1421, 2617, 2682]</td>\n",
       "    </tr>\n",
       "  </tbody>\n",
       "</table>\n",
       "</div>"
      ],
      "text/plain": [
       "                            Name  Length  n_coarse_segments  \\\n",
       "0     P27_cam01_P27_scrambledegg    3561                  9   \n",
       "1     P11_cam01_P11_scrambledegg    2649                  6   \n",
       "2  P27_stereo01_P27_scrambledegg    3560                  9   \n",
       "3     P21_cam01_P21_scrambledegg    5281                  9   \n",
       "4     P46_cam02_P46_scrambledegg    3135                  7   \n",
       "\n",
       "                               coarse_segment_starts  \n",
       "0  [12, 185, 444, 1031, 1310, 1923, 2880, 2987, 3...  \n",
       "1                   [39, 293, 897, 1928, 2410, 2620]  \n",
       "2  [12, 185, 444, 1031, 1310, 1923, 2880, 2987, 3...  \n",
       "3  [234, 624, 1120, 1408, 1577, 1975, 4189, 4451,...  \n",
       "4              [2, 272, 754, 1226, 1421, 2617, 2682]  "
      ]
     },
     "execution_count": 19,
     "metadata": {},
     "output_type": "execute_result"
    }
   ],
   "source": [
    "df.head()"
   ]
  },
  {
   "cell_type": "code",
   "execution_count": 20,
   "metadata": {},
   "outputs": [
    {
     "data": {
      "text/html": [
       "<div>\n",
       "<style scoped>\n",
       "    .dataframe tbody tr th:only-of-type {\n",
       "        vertical-align: middle;\n",
       "    }\n",
       "\n",
       "    .dataframe tbody tr th {\n",
       "        vertical-align: top;\n",
       "    }\n",
       "\n",
       "    .dataframe thead th {\n",
       "        text-align: right;\n",
       "    }\n",
       "</style>\n",
       "<table border=\"1\" class=\"dataframe\">\n",
       "  <thead>\n",
       "    <tr style=\"text-align: right;\">\n",
       "      <th></th>\n",
       "      <th>Name</th>\n",
       "      <th>Length</th>\n",
       "      <th>n_coarse_segments</th>\n",
       "      <th>coarse_segment_starts</th>\n",
       "      <th>n_fine_segments</th>\n",
       "      <th>fine_segment_starts</th>\n",
       "    </tr>\n",
       "  </thead>\n",
       "  <tbody>\n",
       "    <tr>\n",
       "      <th>1024</th>\n",
       "      <td>P36_webcam02_P36_pancake</td>\n",
       "      <td>7049</td>\n",
       "      <td>8</td>\n",
       "      <td>[2, 279, 548, 1044, 1958, 2243, 2844, 6903]</td>\n",
       "      <td>NaN</td>\n",
       "      <td>None</td>\n",
       "    </tr>\n",
       "    <tr>\n",
       "      <th>1025</th>\n",
       "      <td>P54_stereo01_P54_pancake</td>\n",
       "      <td>3340</td>\n",
       "      <td>11</td>\n",
       "      <td>[2, 225, 506, 692, 1018, 1336, 1709, 1837, 206...</td>\n",
       "      <td>66.0</td>\n",
       "      <td>[11, 27, 55, 77, 115, 132, 191, 223, 235, 251,...</td>\n",
       "    </tr>\n",
       "    <tr>\n",
       "      <th>1026</th>\n",
       "      <td>P13_cam01_P13_pancake</td>\n",
       "      <td>4436</td>\n",
       "      <td>12</td>\n",
       "      <td>[31, 611, 717, 907, 1036, 1316, 1443, 1493, 17...</td>\n",
       "      <td>111.0</td>\n",
       "      <td>[32, 47, 93, 138, 212, 318, 333, 348, 377, 467...</td>\n",
       "    </tr>\n",
       "    <tr>\n",
       "      <th>1027</th>\n",
       "      <td>P21_cam01_P21_pancake</td>\n",
       "      <td>5841</td>\n",
       "      <td>10</td>\n",
       "      <td>[95, 415, 699, 960, 1634, 2125, 2437, 5367, 54...</td>\n",
       "      <td>NaN</td>\n",
       "      <td>None</td>\n",
       "    </tr>\n",
       "    <tr>\n",
       "      <th>1028</th>\n",
       "      <td>P12_webcam01_P12_pancake</td>\n",
       "      <td>2870</td>\n",
       "      <td>8</td>\n",
       "      <td>[2, 136, 324, 446, 603, 744, 2680, 2805]</td>\n",
       "      <td>54.0</td>\n",
       "      <td>[32, 47, 62, 76, 77, 122, 123, 152, 213, 287, ...</td>\n",
       "    </tr>\n",
       "  </tbody>\n",
       "</table>\n",
       "</div>"
      ],
      "text/plain": [
       "                          Name  Length  n_coarse_segments  \\\n",
       "1024  P36_webcam02_P36_pancake    7049                  8   \n",
       "1025  P54_stereo01_P54_pancake    3340                 11   \n",
       "1026     P13_cam01_P13_pancake    4436                 12   \n",
       "1027     P21_cam01_P21_pancake    5841                 10   \n",
       "1028  P12_webcam01_P12_pancake    2870                  8   \n",
       "\n",
       "                                  coarse_segment_starts  n_fine_segments  \\\n",
       "1024        [2, 279, 548, 1044, 1958, 2243, 2844, 6903]              NaN   \n",
       "1025  [2, 225, 506, 692, 1018, 1336, 1709, 1837, 206...             66.0   \n",
       "1026  [31, 611, 717, 907, 1036, 1316, 1443, 1493, 17...            111.0   \n",
       "1027  [95, 415, 699, 960, 1634, 2125, 2437, 5367, 54...              NaN   \n",
       "1028           [2, 136, 324, 446, 603, 744, 2680, 2805]             54.0   \n",
       "\n",
       "                                    fine_segment_starts  \n",
       "1024                                               None  \n",
       "1025  [11, 27, 55, 77, 115, 132, 191, 223, 235, 251,...  \n",
       "1026  [32, 47, 93, 138, 212, 318, 333, 348, 377, 467...  \n",
       "1027                                               None  \n",
       "1028  [32, 47, 62, 76, 77, 122, 123, 152, 213, 287, ...  "
      ]
     },
     "execution_count": 20,
     "metadata": {},
     "output_type": "execute_result"
    }
   ],
   "source": [
    "n_fine_segments, fine_segment_starts = [], []\n",
    "\n",
    "for name in df.Name:\n",
    "    action = name.split('_')[-1]\n",
    "    path = DIR_FINE_SEG / f'{action}/{name}.txt'\n",
    "    \n",
    "    try:\n",
    "        with open(str(path), 'r') as file:\n",
    "            fine_segment_starts.append([int(line.split('-')[0]) for line in file][1:-1])\n",
    "            n_fine_segments.append(len(fine_segment_starts[-1]))\n",
    "    except FileNotFoundError:\n",
    "        fine_segment_starts.append(None)\n",
    "        n_fine_segments.append(None)\n",
    "        \n",
    "df['n_fine_segments'] = n_fine_segments\n",
    "df['fine_segment_starts'] = fine_segment_starts\n",
    "\n",
    "df.tail()"
   ]
  },
  {
   "cell_type": "code",
   "execution_count": 21,
   "metadata": {},
   "outputs": [
    {
     "data": {
      "text/plain": [
       "505"
      ]
     },
     "execution_count": 21,
     "metadata": {},
     "output_type": "execute_result"
    }
   ],
   "source": [
    "len([n for n in n_fine_segments if n is None])"
   ]
  },
  {
   "cell_type": "code",
   "execution_count": 22,
   "metadata": {},
   "outputs": [
    {
     "data": {
      "text/plain": [
       "1029"
      ]
     },
     "execution_count": 22,
     "metadata": {},
     "output_type": "execute_result"
    }
   ],
   "source": [
    "len(n_fine_segments)"
   ]
  },
  {
   "cell_type": "markdown",
   "metadata": {},
   "source": [
    "### Counting Actions"
   ]
  },
  {
   "cell_type": "code",
   "execution_count": 23,
   "metadata": {},
   "outputs": [],
   "source": [
    "actions = []\n",
    "for name in df.Name:\n",
    "    actions.append(name.split('_')[-1])\n",
    "df['actions'] = actions"
   ]
  },
  {
   "cell_type": "code",
   "execution_count": 24,
   "metadata": {},
   "outputs": [
    {
     "data": {
      "text/html": [
       "<div>\n",
       "<style scoped>\n",
       "    .dataframe tbody tr th:only-of-type {\n",
       "        vertical-align: middle;\n",
       "    }\n",
       "\n",
       "    .dataframe tbody tr th {\n",
       "        vertical-align: top;\n",
       "    }\n",
       "\n",
       "    .dataframe thead th {\n",
       "        text-align: right;\n",
       "    }\n",
       "</style>\n",
       "<table border=\"1\" class=\"dataframe\">\n",
       "  <thead>\n",
       "    <tr style=\"text-align: right;\">\n",
       "      <th></th>\n",
       "      <th>Name</th>\n",
       "      <th>Length</th>\n",
       "      <th>n_coarse_segments</th>\n",
       "      <th>coarse_segment_starts</th>\n",
       "      <th>n_fine_segments</th>\n",
       "      <th>fine_segment_starts</th>\n",
       "      <th>actions</th>\n",
       "    </tr>\n",
       "  </thead>\n",
       "  <tbody>\n",
       "    <tr>\n",
       "      <th>0</th>\n",
       "      <td>P27_cam01_P27_scrambledegg</td>\n",
       "      <td>3561</td>\n",
       "      <td>9</td>\n",
       "      <td>[12, 185, 444, 1031, 1310, 1923, 2880, 2987, 3...</td>\n",
       "      <td>71.0</td>\n",
       "      <td>[38, 73, 83, 150, 183, 213, 259, 308, 314, 337...</td>\n",
       "      <td>scrambledegg</td>\n",
       "    </tr>\n",
       "    <tr>\n",
       "      <th>1</th>\n",
       "      <td>P11_cam01_P11_scrambledegg</td>\n",
       "      <td>2649</td>\n",
       "      <td>6</td>\n",
       "      <td>[39, 293, 897, 1928, 2410, 2620]</td>\n",
       "      <td>74.0</td>\n",
       "      <td>[23, 34, 56, 67, 87, 107, 116, 122, 128, 132, ...</td>\n",
       "      <td>scrambledegg</td>\n",
       "    </tr>\n",
       "    <tr>\n",
       "      <th>2</th>\n",
       "      <td>P27_stereo01_P27_scrambledegg</td>\n",
       "      <td>3560</td>\n",
       "      <td>9</td>\n",
       "      <td>[12, 185, 444, 1031, 1310, 1923, 2880, 2987, 3...</td>\n",
       "      <td>71.0</td>\n",
       "      <td>[38, 73, 83, 150, 183, 213, 259, 308, 314, 337...</td>\n",
       "      <td>scrambledegg</td>\n",
       "    </tr>\n",
       "    <tr>\n",
       "      <th>3</th>\n",
       "      <td>P21_cam01_P21_scrambledegg</td>\n",
       "      <td>5281</td>\n",
       "      <td>9</td>\n",
       "      <td>[234, 624, 1120, 1408, 1577, 1975, 4189, 4451,...</td>\n",
       "      <td>NaN</td>\n",
       "      <td>None</td>\n",
       "      <td>scrambledegg</td>\n",
       "    </tr>\n",
       "    <tr>\n",
       "      <th>4</th>\n",
       "      <td>P46_cam02_P46_scrambledegg</td>\n",
       "      <td>3135</td>\n",
       "      <td>7</td>\n",
       "      <td>[2, 272, 754, 1226, 1421, 2617, 2682]</td>\n",
       "      <td>NaN</td>\n",
       "      <td>None</td>\n",
       "      <td>scrambledegg</td>\n",
       "    </tr>\n",
       "  </tbody>\n",
       "</table>\n",
       "</div>"
      ],
      "text/plain": [
       "                            Name  Length  n_coarse_segments  \\\n",
       "0     P27_cam01_P27_scrambledegg    3561                  9   \n",
       "1     P11_cam01_P11_scrambledegg    2649                  6   \n",
       "2  P27_stereo01_P27_scrambledegg    3560                  9   \n",
       "3     P21_cam01_P21_scrambledegg    5281                  9   \n",
       "4     P46_cam02_P46_scrambledegg    3135                  7   \n",
       "\n",
       "                               coarse_segment_starts  n_fine_segments  \\\n",
       "0  [12, 185, 444, 1031, 1310, 1923, 2880, 2987, 3...             71.0   \n",
       "1                   [39, 293, 897, 1928, 2410, 2620]             74.0   \n",
       "2  [12, 185, 444, 1031, 1310, 1923, 2880, 2987, 3...             71.0   \n",
       "3  [234, 624, 1120, 1408, 1577, 1975, 4189, 4451,...              NaN   \n",
       "4              [2, 272, 754, 1226, 1421, 2617, 2682]              NaN   \n",
       "\n",
       "                                 fine_segment_starts       actions  \n",
       "0  [38, 73, 83, 150, 183, 213, 259, 308, 314, 337...  scrambledegg  \n",
       "1  [23, 34, 56, 67, 87, 107, 116, 122, 128, 132, ...  scrambledegg  \n",
       "2  [38, 73, 83, 150, 183, 213, 259, 308, 314, 337...  scrambledegg  \n",
       "3                                               None  scrambledegg  \n",
       "4                                               None  scrambledegg  "
      ]
     },
     "execution_count": 24,
     "metadata": {},
     "output_type": "execute_result"
    }
   ],
   "source": [
    "df.head()"
   ]
  },
  {
   "cell_type": "code",
   "execution_count": 25,
   "metadata": {},
   "outputs": [
    {
     "data": {
      "text/plain": [
       "(array(['coffee', 'friedegg', 'juice', 'milk', 'pancake', 'sandwich',\n",
       "        'scrambledegg'], dtype=object),\n",
       " array([167, 173, 162, 187, 157, 169,  14]))"
      ]
     },
     "execution_count": 25,
     "metadata": {},
     "output_type": "execute_result"
    }
   ],
   "source": [
    "np.unique(df.actions, return_counts=True)"
   ]
  },
  {
   "cell_type": "code",
   "execution_count": 26,
   "metadata": {},
   "outputs": [
    {
     "data": {
      "text/html": [
       "<div>\n",
       "<style scoped>\n",
       "    .dataframe tbody tr th:only-of-type {\n",
       "        vertical-align: middle;\n",
       "    }\n",
       "\n",
       "    .dataframe tbody tr th {\n",
       "        vertical-align: top;\n",
       "    }\n",
       "\n",
       "    .dataframe thead th {\n",
       "        text-align: right;\n",
       "    }\n",
       "</style>\n",
       "<table border=\"1\" class=\"dataframe\">\n",
       "  <thead>\n",
       "    <tr style=\"text-align: right;\">\n",
       "      <th></th>\n",
       "      <th>Name</th>\n",
       "      <th>Length</th>\n",
       "      <th>n_coarse_segments</th>\n",
       "      <th>coarse_segment_starts</th>\n",
       "      <th>n_fine_segments</th>\n",
       "      <th>fine_segment_starts</th>\n",
       "      <th>actions</th>\n",
       "    </tr>\n",
       "  </thead>\n",
       "  <tbody>\n",
       "    <tr>\n",
       "      <th>1024</th>\n",
       "      <td>P36_webcam02_P36_pancake</td>\n",
       "      <td>7049</td>\n",
       "      <td>8</td>\n",
       "      <td>[2, 279, 548, 1044, 1958, 2243, 2844, 6903]</td>\n",
       "      <td>NaN</td>\n",
       "      <td>None</td>\n",
       "      <td>pancake</td>\n",
       "    </tr>\n",
       "    <tr>\n",
       "      <th>1025</th>\n",
       "      <td>P54_stereo01_P54_pancake</td>\n",
       "      <td>3340</td>\n",
       "      <td>11</td>\n",
       "      <td>[2, 225, 506, 692, 1018, 1336, 1709, 1837, 206...</td>\n",
       "      <td>66.0</td>\n",
       "      <td>[11, 27, 55, 77, 115, 132, 191, 223, 235, 251,...</td>\n",
       "      <td>pancake</td>\n",
       "    </tr>\n",
       "    <tr>\n",
       "      <th>1026</th>\n",
       "      <td>P13_cam01_P13_pancake</td>\n",
       "      <td>4436</td>\n",
       "      <td>12</td>\n",
       "      <td>[31, 611, 717, 907, 1036, 1316, 1443, 1493, 17...</td>\n",
       "      <td>111.0</td>\n",
       "      <td>[32, 47, 93, 138, 212, 318, 333, 348, 377, 467...</td>\n",
       "      <td>pancake</td>\n",
       "    </tr>\n",
       "    <tr>\n",
       "      <th>1027</th>\n",
       "      <td>P21_cam01_P21_pancake</td>\n",
       "      <td>5841</td>\n",
       "      <td>10</td>\n",
       "      <td>[95, 415, 699, 960, 1634, 2125, 2437, 5367, 54...</td>\n",
       "      <td>NaN</td>\n",
       "      <td>None</td>\n",
       "      <td>pancake</td>\n",
       "    </tr>\n",
       "    <tr>\n",
       "      <th>1028</th>\n",
       "      <td>P12_webcam01_P12_pancake</td>\n",
       "      <td>2870</td>\n",
       "      <td>8</td>\n",
       "      <td>[2, 136, 324, 446, 603, 744, 2680, 2805]</td>\n",
       "      <td>54.0</td>\n",
       "      <td>[32, 47, 62, 76, 77, 122, 123, 152, 213, 287, ...</td>\n",
       "      <td>pancake</td>\n",
       "    </tr>\n",
       "  </tbody>\n",
       "</table>\n",
       "</div>"
      ],
      "text/plain": [
       "                          Name  Length  n_coarse_segments  \\\n",
       "1024  P36_webcam02_P36_pancake    7049                  8   \n",
       "1025  P54_stereo01_P54_pancake    3340                 11   \n",
       "1026     P13_cam01_P13_pancake    4436                 12   \n",
       "1027     P21_cam01_P21_pancake    5841                 10   \n",
       "1028  P12_webcam01_P12_pancake    2870                  8   \n",
       "\n",
       "                                  coarse_segment_starts  n_fine_segments  \\\n",
       "1024        [2, 279, 548, 1044, 1958, 2243, 2844, 6903]              NaN   \n",
       "1025  [2, 225, 506, 692, 1018, 1336, 1709, 1837, 206...             66.0   \n",
       "1026  [31, 611, 717, 907, 1036, 1316, 1443, 1493, 17...            111.0   \n",
       "1027  [95, 415, 699, 960, 1634, 2125, 2437, 5367, 54...              NaN   \n",
       "1028           [2, 136, 324, 446, 603, 744, 2680, 2805]             54.0   \n",
       "\n",
       "                                    fine_segment_starts  actions  \n",
       "1024                                               None  pancake  \n",
       "1025  [11, 27, 55, 77, 115, 132, 191, 223, 235, 251,...  pancake  \n",
       "1026  [32, 47, 93, 138, 212, 318, 333, 348, 377, 467...  pancake  \n",
       "1027                                               None  pancake  \n",
       "1028  [32, 47, 62, 76, 77, 122, 123, 152, 213, 287, ...  pancake  "
      ]
     },
     "execution_count": 26,
     "metadata": {},
     "output_type": "execute_result"
    }
   ],
   "source": [
    "df.tail()"
   ]
  },
  {
   "cell_type": "markdown",
   "metadata": {},
   "source": [
    "### Finding Good First Frames"
   ]
  },
  {
   "cell_type": "code",
   "execution_count": 27,
   "metadata": {},
   "outputs": [],
   "source": [
    "# Select this number of frames\n",
    "n_frames = 64"
   ]
  },
  {
   "cell_type": "code",
   "execution_count": 28,
   "metadata": {},
   "outputs": [
    {
     "data": {
      "text/plain": [
       "(array([ 2,  3,  4,  5,  6,  7,  8,  9, 10, 11, 12, 13, 15, 17]),\n",
       " array([ 41,  71, 225, 243, 151,  88,  48,  33,  50,  50,  17,   6,   2,\n",
       "          4]))"
      ]
     },
     "execution_count": 28,
     "metadata": {},
     "output_type": "execute_result"
    }
   ],
   "source": [
    "np.unique(n_coarse_segments, return_counts=True)"
   ]
  },
  {
   "cell_type": "code",
   "execution_count": 29,
   "metadata": {},
   "outputs": [],
   "source": [
    "starting_segments = [coarse_segment_starts[i][0]\n",
    "                     for i, n in enumerate(n_coarse_segments)\n",
    "                     if n < 3]"
   ]
  },
  {
   "cell_type": "code",
   "execution_count": 30,
   "metadata": {},
   "outputs": [
    {
     "data": {
      "text/plain": [
       "(array([ 2, 25, 38, 47, 60, 72]), array([20,  5,  5,  3,  4,  4]))"
      ]
     },
     "execution_count": 30,
     "metadata": {},
     "output_type": "execute_result"
    }
   ],
   "source": [
    "np.unique(starting_segments, return_counts=True)"
   ]
  },
  {
   "cell_type": "markdown",
   "metadata": {},
   "source": [
    "## Illustration of the Problem"
   ]
  },
  {
   "cell_type": "markdown",
   "metadata": {},
   "source": [
    "The largest starting coarse segment is after the video length"
   ]
  },
  {
   "cell_type": "code",
   "execution_count": 31,
   "metadata": {},
   "outputs": [],
   "source": [
    "idx = 259"
   ]
  },
  {
   "cell_type": "code",
   "execution_count": 32,
   "metadata": {},
   "outputs": [
    {
     "data": {
      "text/plain": [
       "Name                                             P52_stereo01_P52_sandwich\n",
       "Length                                                                1186\n",
       "n_coarse_segments                                                        6\n",
       "coarse_segment_starts                    [155, 340, 550, 2250, 2520, 2555]\n",
       "n_fine_segments                                                         73\n",
       "fine_segment_starts      [358, 507, 517, 542, 595, 619, 683, 701, 716, ...\n",
       "actions                                                           sandwich\n",
       "Name: 259, dtype: object"
      ]
     },
     "execution_count": 32,
     "metadata": {},
     "output_type": "execute_result"
    }
   ],
   "source": [
    "df.iloc[idx]"
   ]
  },
  {
   "cell_type": "code",
   "execution_count": 33,
   "metadata": {},
   "outputs": [
    {
     "data": {
      "text/plain": [
       "2555"
      ]
     },
     "execution_count": 33,
     "metadata": {},
     "output_type": "execute_result"
    }
   ],
   "source": [
    "max(df.iloc[idx].coarse_segment_starts)"
   ]
  },
  {
   "cell_type": "code",
   "execution_count": 34,
   "metadata": {},
   "outputs": [
    {
     "data": {
      "text/plain": [
       "1186"
      ]
     },
     "execution_count": 34,
     "metadata": {},
     "output_type": "execute_result"
    }
   ],
   "source": [
    "df.iloc[idx].Length"
   ]
  },
  {
   "cell_type": "markdown",
   "metadata": {},
   "source": [
    "## Checking the Raw Video"
   ]
  },
  {
   "cell_type": "code",
   "execution_count": 39,
   "metadata": {},
   "outputs": [],
   "source": [
    "all_avis = list(DIR_BREAKFAST_VIDEOS.rglob('*.avi'))"
   ]
  },
  {
   "cell_type": "code",
   "execution_count": 40,
   "metadata": {},
   "outputs": [
    {
     "data": {
      "text/plain": [
       "PosixPath('/media/data_cifs2/apra/work/labwork/data/external/breakfast/BreakfastII_15fps_qvga_sync/P39/cam01/P39_salat.avi')"
      ]
     },
     "execution_count": 40,
     "metadata": {},
     "output_type": "execute_result"
    }
   ],
   "source": [
    "all_avis[0]"
   ]
  },
  {
   "cell_type": "code",
   "execution_count": 41,
   "metadata": {},
   "outputs": [
    {
     "data": {
      "text/plain": [
       "'P52_stereo01_P52_sandwich'"
      ]
     },
     "execution_count": 41,
     "metadata": {},
     "output_type": "execute_result"
    }
   ],
   "source": [
    "df.Name.iloc[idx]"
   ]
  },
  {
   "cell_type": "code",
   "execution_count": 43,
   "metadata": {},
   "outputs": [],
   "source": [
    "idx_path = DIR_BREAKFAST_VIDEOS / 'P52/stereo'\n",
    "assert idx_path.exists()"
   ]
  },
  {
   "cell_type": "code",
   "execution_count": 48,
   "metadata": {},
   "outputs": [
    {
     "data": {
      "text/plain": [
       "[PosixPath('/media/data_cifs2/apra/work/labwork/data/external/breakfast/BreakfastII_15fps_qvga_sync/P52/stereo/P52_sandwich_ch1.avi'),\n",
       " PosixPath('/media/data_cifs2/apra/work/labwork/data/external/breakfast/BreakfastII_15fps_qvga_sync/P52/stereo/P52_sandwich_ch0.avi')]"
      ]
     },
     "execution_count": 48,
     "metadata": {},
     "output_type": "execute_result"
    }
   ],
   "source": [
    "idx_video_paths = list(idx_path.rglob('*sandwich_ch*.avi'))\n",
    "idx_video_paths"
   ]
  },
  {
   "cell_type": "code",
   "execution_count": 49,
   "metadata": {},
   "outputs": [
    {
     "name": "stdout",
     "output_type": "stream",
     "text": [
      "P52_sandwich_ch1 2677.0\n",
      "P52_sandwich_ch0 2677.0\n"
     ]
    }
   ],
   "source": [
    "for path in idx_video_paths:\n",
    "    cam = cv2.VideoCapture(str(path))\n",
    "    print(path.stem, cam.get(cv2.CAP_PROP_FRAME_COUNT))"
   ]
  },
  {
   "cell_type": "markdown",
   "metadata": {},
   "source": [
    "## Checking All Videos"
   ]
  },
  {
   "cell_type": "code",
   "execution_count": 50,
   "metadata": {},
   "outputs": [
    {
     "data": {
      "text/plain": [
       "1989"
      ]
     },
     "execution_count": 50,
     "metadata": {},
     "output_type": "execute_result"
    }
   ],
   "source": [
    "len(all_avis)"
   ]
  },
  {
   "cell_type": "code",
   "execution_count": 52,
   "metadata": {},
   "outputs": [
    {
     "name": "stderr",
     "output_type": "stream",
     "text": [
      "100%|██████████| 1989/1989 [02:51<00:00, 11.63it/s]\n"
     ]
    }
   ],
   "source": [
    "all_lengths = [cv2.VideoCapture(str(path)).get(cv2.CAP_PROP_FRAME_COUNT)\n",
    "               for path in tqdm(all_avis)]"
   ]
  },
  {
   "cell_type": "code",
   "execution_count": 63,
   "metadata": {},
   "outputs": [],
   "source": [
    "all_lengths = [int(length) for length in all_lengths]"
   ]
  },
  {
   "cell_type": "markdown",
   "metadata": {},
   "source": [
    "## Checking Number of Segments"
   ]
  },
  {
   "cell_type": "markdown",
   "metadata": {},
   "source": [
    "### Coarse"
   ]
  },
  {
   "cell_type": "code",
   "execution_count": 57,
   "metadata": {},
   "outputs": [
    {
     "data": {
      "text/plain": [
       "1712"
      ]
     },
     "execution_count": 57,
     "metadata": {},
     "output_type": "execute_result"
    }
   ],
   "source": [
    "coarse_paths = list(DIR_COARSE_SEG.rglob('*.txt'))\n",
    "num_coarse = len(coarse_paths)\n",
    "num_coarse"
   ]
  },
  {
   "cell_type": "markdown",
   "metadata": {},
   "source": [
    "### Fine"
   ]
  },
  {
   "cell_type": "code",
   "execution_count": 58,
   "metadata": {},
   "outputs": [
    {
     "data": {
      "text/plain": [
       "1285"
      ]
     },
     "execution_count": 58,
     "metadata": {},
     "output_type": "execute_result"
    }
   ],
   "source": [
    "fine_paths = list(DIR_FINE_SEG.rglob('*.txt'))\n",
    "num_fine = len(fine_paths)\n",
    "num_fine"
   ]
  },
  {
   "cell_type": "markdown",
   "metadata": {},
   "source": [
    "## Making Metadata DFs"
   ]
  },
  {
   "cell_type": "code",
   "execution_count": 146,
   "metadata": {},
   "outputs": [],
   "source": [
    "dir_meta = DIR_BREAKFAST / 'meta'\n",
    "if not dir_meta.exists():\n",
    "    dir_meta.mkdir(parents=True)"
   ]
  },
  {
   "cell_type": "markdown",
   "metadata": {},
   "source": [
    "### Videos"
   ]
  },
  {
   "cell_type": "code",
   "execution_count": 64,
   "metadata": {},
   "outputs": [],
   "source": [
    "video_df = pd.DataFrame(zip(all_avis, all_lengths), columns=['path', 'length'])"
   ]
  },
  {
   "cell_type": "code",
   "execution_count": 65,
   "metadata": {},
   "outputs": [
    {
     "data": {
      "text/html": [
       "<div>\n",
       "<style scoped>\n",
       "    .dataframe tbody tr th:only-of-type {\n",
       "        vertical-align: middle;\n",
       "    }\n",
       "\n",
       "    .dataframe tbody tr th {\n",
       "        vertical-align: top;\n",
       "    }\n",
       "\n",
       "    .dataframe thead th {\n",
       "        text-align: right;\n",
       "    }\n",
       "</style>\n",
       "<table border=\"1\" class=\"dataframe\">\n",
       "  <thead>\n",
       "    <tr style=\"text-align: right;\">\n",
       "      <th></th>\n",
       "      <th>path</th>\n",
       "      <th>length</th>\n",
       "    </tr>\n",
       "  </thead>\n",
       "  <tbody>\n",
       "    <tr>\n",
       "      <th>0</th>\n",
       "      <td>/media/data_cifs2/apra/work/labwork/data/exter...</td>\n",
       "      <td>2669</td>\n",
       "    </tr>\n",
       "    <tr>\n",
       "      <th>1</th>\n",
       "      <td>/media/data_cifs2/apra/work/labwork/data/exter...</td>\n",
       "      <td>1304</td>\n",
       "    </tr>\n",
       "    <tr>\n",
       "      <th>2</th>\n",
       "      <td>/media/data_cifs2/apra/work/labwork/data/exter...</td>\n",
       "      <td>8990</td>\n",
       "    </tr>\n",
       "    <tr>\n",
       "      <th>3</th>\n",
       "      <td>/media/data_cifs2/apra/work/labwork/data/exter...</td>\n",
       "      <td>699</td>\n",
       "    </tr>\n",
       "    <tr>\n",
       "      <th>4</th>\n",
       "      <td>/media/data_cifs2/apra/work/labwork/data/exter...</td>\n",
       "      <td>2890</td>\n",
       "    </tr>\n",
       "  </tbody>\n",
       "</table>\n",
       "</div>"
      ],
      "text/plain": [
       "                                                path  length\n",
       "0  /media/data_cifs2/apra/work/labwork/data/exter...    2669\n",
       "1  /media/data_cifs2/apra/work/labwork/data/exter...    1304\n",
       "2  /media/data_cifs2/apra/work/labwork/data/exter...    8990\n",
       "3  /media/data_cifs2/apra/work/labwork/data/exter...     699\n",
       "4  /media/data_cifs2/apra/work/labwork/data/exter...    2890"
      ]
     },
     "execution_count": 65,
     "metadata": {},
     "output_type": "execute_result"
    }
   ],
   "source": [
    "video_df.head()"
   ]
  },
  {
   "cell_type": "code",
   "execution_count": 85,
   "metadata": {},
   "outputs": [],
   "source": [
    "name_splits = [str(path.stem).split('_') for path in video_df.path.values] "
   ]
  },
  {
   "cell_type": "code",
   "execution_count": 86,
   "metadata": {},
   "outputs": [
    {
     "data": {
      "text/plain": [
       "[['P39', 'salat'],\n",
       " ['P39', 'tea'],\n",
       " ['P39', 'pancake'],\n",
       " ['P39', 'cereals'],\n",
       " ['P39', 'friedegg']]"
      ]
     },
     "execution_count": 86,
     "metadata": {},
     "output_type": "execute_result"
    }
   ],
   "source": [
    "name_splits[:5]"
   ]
  },
  {
   "cell_type": "code",
   "execution_count": 87,
   "metadata": {},
   "outputs": [],
   "source": [
    "patient, action = zip(*name_splits)"
   ]
  },
  {
   "cell_type": "code",
   "execution_count": 90,
   "metadata": {},
   "outputs": [],
   "source": [
    "patient_int = [int(p[1:]) for p in patient]"
   ]
  },
  {
   "cell_type": "code",
   "execution_count": 91,
   "metadata": {},
   "outputs": [
    {
     "data": {
      "text/plain": [
       "[39, 39, 39, 39, 39]"
      ]
     },
     "execution_count": 91,
     "metadata": {},
     "output_type": "execute_result"
    }
   ],
   "source": [
    "patient_int[:5]"
   ]
  },
  {
   "cell_type": "code",
   "execution_count": 92,
   "metadata": {},
   "outputs": [],
   "source": [
    "video_df['patient'] = patient_int"
   ]
  },
  {
   "cell_type": "code",
   "execution_count": 93,
   "metadata": {},
   "outputs": [],
   "source": [
    "video_df['action'] = action"
   ]
  },
  {
   "cell_type": "code",
   "execution_count": 94,
   "metadata": {},
   "outputs": [
    {
     "data": {
      "text/html": [
       "<div>\n",
       "<style scoped>\n",
       "    .dataframe tbody tr th:only-of-type {\n",
       "        vertical-align: middle;\n",
       "    }\n",
       "\n",
       "    .dataframe tbody tr th {\n",
       "        vertical-align: top;\n",
       "    }\n",
       "\n",
       "    .dataframe thead th {\n",
       "        text-align: right;\n",
       "    }\n",
       "</style>\n",
       "<table border=\"1\" class=\"dataframe\">\n",
       "  <thead>\n",
       "    <tr style=\"text-align: right;\">\n",
       "      <th></th>\n",
       "      <th>path</th>\n",
       "      <th>length</th>\n",
       "      <th>patient</th>\n",
       "      <th>action</th>\n",
       "    </tr>\n",
       "  </thead>\n",
       "  <tbody>\n",
       "    <tr>\n",
       "      <th>0</th>\n",
       "      <td>/media/data_cifs2/apra/work/labwork/data/exter...</td>\n",
       "      <td>2669</td>\n",
       "      <td>39</td>\n",
       "      <td>salat</td>\n",
       "    </tr>\n",
       "    <tr>\n",
       "      <th>1</th>\n",
       "      <td>/media/data_cifs2/apra/work/labwork/data/exter...</td>\n",
       "      <td>1304</td>\n",
       "      <td>39</td>\n",
       "      <td>tea</td>\n",
       "    </tr>\n",
       "    <tr>\n",
       "      <th>2</th>\n",
       "      <td>/media/data_cifs2/apra/work/labwork/data/exter...</td>\n",
       "      <td>8990</td>\n",
       "      <td>39</td>\n",
       "      <td>pancake</td>\n",
       "    </tr>\n",
       "    <tr>\n",
       "      <th>3</th>\n",
       "      <td>/media/data_cifs2/apra/work/labwork/data/exter...</td>\n",
       "      <td>699</td>\n",
       "      <td>39</td>\n",
       "      <td>cereals</td>\n",
       "    </tr>\n",
       "    <tr>\n",
       "      <th>4</th>\n",
       "      <td>/media/data_cifs2/apra/work/labwork/data/exter...</td>\n",
       "      <td>2890</td>\n",
       "      <td>39</td>\n",
       "      <td>friedegg</td>\n",
       "    </tr>\n",
       "  </tbody>\n",
       "</table>\n",
       "</div>"
      ],
      "text/plain": [
       "                                                path  length  patient  \\\n",
       "0  /media/data_cifs2/apra/work/labwork/data/exter...    2669       39   \n",
       "1  /media/data_cifs2/apra/work/labwork/data/exter...    1304       39   \n",
       "2  /media/data_cifs2/apra/work/labwork/data/exter...    8990       39   \n",
       "3  /media/data_cifs2/apra/work/labwork/data/exter...     699       39   \n",
       "4  /media/data_cifs2/apra/work/labwork/data/exter...    2890       39   \n",
       "\n",
       "     action  \n",
       "0     salat  \n",
       "1       tea  \n",
       "2   pancake  \n",
       "3   cereals  \n",
       "4  friedegg  "
      ]
     },
     "execution_count": 94,
     "metadata": {},
     "output_type": "execute_result"
    }
   ],
   "source": [
    "video_df.head()"
   ]
  },
  {
   "cell_type": "code",
   "execution_count": 97,
   "metadata": {},
   "outputs": [
    {
     "data": {
      "text/plain": [
       "['cam01', 'cam01', 'cam01', 'cam01', 'cam01']"
      ]
     },
     "execution_count": 97,
     "metadata": {},
     "output_type": "execute_result"
    }
   ],
   "source": [
    "cameras = [video.parent.stem for video in video_df.path.values]\n",
    "cameras[:5]"
   ]
  },
  {
   "cell_type": "code",
   "execution_count": 98,
   "metadata": {},
   "outputs": [],
   "source": [
    "video_df['camera'] = cameras"
   ]
  },
  {
   "cell_type": "code",
   "execution_count": 99,
   "metadata": {},
   "outputs": [
    {
     "data": {
      "text/html": [
       "<div>\n",
       "<style scoped>\n",
       "    .dataframe tbody tr th:only-of-type {\n",
       "        vertical-align: middle;\n",
       "    }\n",
       "\n",
       "    .dataframe tbody tr th {\n",
       "        vertical-align: top;\n",
       "    }\n",
       "\n",
       "    .dataframe thead th {\n",
       "        text-align: right;\n",
       "    }\n",
       "</style>\n",
       "<table border=\"1\" class=\"dataframe\">\n",
       "  <thead>\n",
       "    <tr style=\"text-align: right;\">\n",
       "      <th></th>\n",
       "      <th>path</th>\n",
       "      <th>length</th>\n",
       "      <th>patient</th>\n",
       "      <th>action</th>\n",
       "      <th>camera</th>\n",
       "    </tr>\n",
       "  </thead>\n",
       "  <tbody>\n",
       "    <tr>\n",
       "      <th>0</th>\n",
       "      <td>/media/data_cifs2/apra/work/labwork/data/exter...</td>\n",
       "      <td>2669</td>\n",
       "      <td>39</td>\n",
       "      <td>salat</td>\n",
       "      <td>cam01</td>\n",
       "    </tr>\n",
       "    <tr>\n",
       "      <th>1</th>\n",
       "      <td>/media/data_cifs2/apra/work/labwork/data/exter...</td>\n",
       "      <td>1304</td>\n",
       "      <td>39</td>\n",
       "      <td>tea</td>\n",
       "      <td>cam01</td>\n",
       "    </tr>\n",
       "    <tr>\n",
       "      <th>2</th>\n",
       "      <td>/media/data_cifs2/apra/work/labwork/data/exter...</td>\n",
       "      <td>8990</td>\n",
       "      <td>39</td>\n",
       "      <td>pancake</td>\n",
       "      <td>cam01</td>\n",
       "    </tr>\n",
       "    <tr>\n",
       "      <th>3</th>\n",
       "      <td>/media/data_cifs2/apra/work/labwork/data/exter...</td>\n",
       "      <td>699</td>\n",
       "      <td>39</td>\n",
       "      <td>cereals</td>\n",
       "      <td>cam01</td>\n",
       "    </tr>\n",
       "    <tr>\n",
       "      <th>4</th>\n",
       "      <td>/media/data_cifs2/apra/work/labwork/data/exter...</td>\n",
       "      <td>2890</td>\n",
       "      <td>39</td>\n",
       "      <td>friedegg</td>\n",
       "      <td>cam01</td>\n",
       "    </tr>\n",
       "  </tbody>\n",
       "</table>\n",
       "</div>"
      ],
      "text/plain": [
       "                                                path  length  patient  \\\n",
       "0  /media/data_cifs2/apra/work/labwork/data/exter...    2669       39   \n",
       "1  /media/data_cifs2/apra/work/labwork/data/exter...    1304       39   \n",
       "2  /media/data_cifs2/apra/work/labwork/data/exter...    8990       39   \n",
       "3  /media/data_cifs2/apra/work/labwork/data/exter...     699       39   \n",
       "4  /media/data_cifs2/apra/work/labwork/data/exter...    2890       39   \n",
       "\n",
       "     action camera  \n",
       "0     salat  cam01  \n",
       "1       tea  cam01  \n",
       "2   pancake  cam01  \n",
       "3   cereals  cam01  \n",
       "4  friedegg  cam01  "
      ]
     },
     "execution_count": 99,
     "metadata": {},
     "output_type": "execute_result"
    }
   ],
   "source": [
    "video_df.head()"
   ]
  },
  {
   "cell_type": "code",
   "execution_count": 136,
   "metadata": {},
   "outputs": [],
   "source": [
    "channel = []\n",
    "for video in video_df.path.values:\n",
    "    if video.parent.stem != 'stereo':\n",
    "        channel.append(None)\n",
    "    else:\n",
    "        val = int(video.stem[-1])\n",
    "        channel.append(val)"
   ]
  },
  {
   "cell_type": "code",
   "execution_count": 134,
   "metadata": {},
   "outputs": [
    {
     "data": {
      "text/plain": [
       "[None, None, None, None, None]"
      ]
     },
     "execution_count": 134,
     "metadata": {},
     "output_type": "execute_result"
    }
   ],
   "source": [
    "channel[:5]"
   ]
  },
  {
   "cell_type": "code",
   "execution_count": 137,
   "metadata": {},
   "outputs": [],
   "source": [
    "video_df['channel'] = channel"
   ]
  },
  {
   "cell_type": "code",
   "execution_count": 140,
   "metadata": {},
   "outputs": [
    {
     "data": {
      "text/plain": [
       "dtype('float64')"
      ]
     },
     "execution_count": 140,
     "metadata": {},
     "output_type": "execute_result"
    }
   ],
   "source": [
    "video_df.channel.dtype"
   ]
  },
  {
   "cell_type": "code",
   "execution_count": 104,
   "metadata": {},
   "outputs": [
    {
     "data": {
      "text/html": [
       "<div>\n",
       "<style scoped>\n",
       "    .dataframe tbody tr th:only-of-type {\n",
       "        vertical-align: middle;\n",
       "    }\n",
       "\n",
       "    .dataframe tbody tr th {\n",
       "        vertical-align: top;\n",
       "    }\n",
       "\n",
       "    .dataframe thead th {\n",
       "        text-align: right;\n",
       "    }\n",
       "</style>\n",
       "<table border=\"1\" class=\"dataframe\">\n",
       "  <thead>\n",
       "    <tr style=\"text-align: right;\">\n",
       "      <th></th>\n",
       "      <th>path</th>\n",
       "      <th>length</th>\n",
       "      <th>patient</th>\n",
       "      <th>action</th>\n",
       "      <th>camera</th>\n",
       "      <th>channel</th>\n",
       "    </tr>\n",
       "  </thead>\n",
       "  <tbody>\n",
       "    <tr>\n",
       "      <th>0</th>\n",
       "      <td>/media/data_cifs2/apra/work/labwork/data/exter...</td>\n",
       "      <td>2669</td>\n",
       "      <td>39</td>\n",
       "      <td>salat</td>\n",
       "      <td>cam01</td>\n",
       "      <td>NaN</td>\n",
       "    </tr>\n",
       "    <tr>\n",
       "      <th>1</th>\n",
       "      <td>/media/data_cifs2/apra/work/labwork/data/exter...</td>\n",
       "      <td>1304</td>\n",
       "      <td>39</td>\n",
       "      <td>tea</td>\n",
       "      <td>cam01</td>\n",
       "      <td>NaN</td>\n",
       "    </tr>\n",
       "    <tr>\n",
       "      <th>2</th>\n",
       "      <td>/media/data_cifs2/apra/work/labwork/data/exter...</td>\n",
       "      <td>8990</td>\n",
       "      <td>39</td>\n",
       "      <td>pancake</td>\n",
       "      <td>cam01</td>\n",
       "      <td>NaN</td>\n",
       "    </tr>\n",
       "    <tr>\n",
       "      <th>3</th>\n",
       "      <td>/media/data_cifs2/apra/work/labwork/data/exter...</td>\n",
       "      <td>699</td>\n",
       "      <td>39</td>\n",
       "      <td>cereals</td>\n",
       "      <td>cam01</td>\n",
       "      <td>NaN</td>\n",
       "    </tr>\n",
       "    <tr>\n",
       "      <th>4</th>\n",
       "      <td>/media/data_cifs2/apra/work/labwork/data/exter...</td>\n",
       "      <td>2890</td>\n",
       "      <td>39</td>\n",
       "      <td>friedegg</td>\n",
       "      <td>cam01</td>\n",
       "      <td>NaN</td>\n",
       "    </tr>\n",
       "  </tbody>\n",
       "</table>\n",
       "</div>"
      ],
      "text/plain": [
       "                                                path  length  patient  \\\n",
       "0  /media/data_cifs2/apra/work/labwork/data/exter...    2669       39   \n",
       "1  /media/data_cifs2/apra/work/labwork/data/exter...    1304       39   \n",
       "2  /media/data_cifs2/apra/work/labwork/data/exter...    8990       39   \n",
       "3  /media/data_cifs2/apra/work/labwork/data/exter...     699       39   \n",
       "4  /media/data_cifs2/apra/work/labwork/data/exter...    2890       39   \n",
       "\n",
       "     action camera  channel  \n",
       "0     salat  cam01      NaN  \n",
       "1       tea  cam01      NaN  \n",
       "2   pancake  cam01      NaN  \n",
       "3   cereals  cam01      NaN  \n",
       "4  friedegg  cam01      NaN  "
      ]
     },
     "execution_count": 104,
     "metadata": {},
     "output_type": "execute_result"
    }
   ],
   "source": [
    "video_df.head()"
   ]
  },
  {
   "cell_type": "code",
   "execution_count": 142,
   "metadata": {},
   "outputs": [],
   "source": [
    "video_id = [f'{p}_{a}_{ca}'\n",
    "            if np.isnan(float(ch))\n",
    "            else f'{p}_{a}_{ca}_{int(ch)}'\n",
    "            for p, a, ca, ch in zip(\n",
    "                video_df.patient, \n",
    "                video_df.action, \n",
    "                video_df.camera, \n",
    "                video_df.channel)]"
   ]
  },
  {
   "cell_type": "code",
   "execution_count": 143,
   "metadata": {},
   "outputs": [
    {
     "data": {
      "text/plain": [
       "['39_salat_cam01',\n",
       " '39_tea_cam01',\n",
       " '39_pancake_cam01',\n",
       " '39_cereals_cam01',\n",
       " '39_friedegg_cam01']"
      ]
     },
     "execution_count": 143,
     "metadata": {},
     "output_type": "execute_result"
    }
   ],
   "source": [
    "video_id[:5]"
   ]
  },
  {
   "cell_type": "code",
   "execution_count": 144,
   "metadata": {},
   "outputs": [],
   "source": [
    "video_df['id'] = video_id"
   ]
  },
  {
   "cell_type": "code",
   "execution_count": 145,
   "metadata": {},
   "outputs": [
    {
     "data": {
      "text/html": [
       "<div>\n",
       "<style scoped>\n",
       "    .dataframe tbody tr th:only-of-type {\n",
       "        vertical-align: middle;\n",
       "    }\n",
       "\n",
       "    .dataframe tbody tr th {\n",
       "        vertical-align: top;\n",
       "    }\n",
       "\n",
       "    .dataframe thead th {\n",
       "        text-align: right;\n",
       "    }\n",
       "</style>\n",
       "<table border=\"1\" class=\"dataframe\">\n",
       "  <thead>\n",
       "    <tr style=\"text-align: right;\">\n",
       "      <th></th>\n",
       "      <th>path</th>\n",
       "      <th>length</th>\n",
       "      <th>patient</th>\n",
       "      <th>action</th>\n",
       "      <th>camera</th>\n",
       "      <th>channel</th>\n",
       "      <th>id</th>\n",
       "    </tr>\n",
       "  </thead>\n",
       "  <tbody>\n",
       "    <tr>\n",
       "      <th>24</th>\n",
       "      <td>/media/data_cifs2/apra/work/labwork/data/exter...</td>\n",
       "      <td>8990</td>\n",
       "      <td>39</td>\n",
       "      <td>pancake</td>\n",
       "      <td>stereo</td>\n",
       "      <td>1.0</td>\n",
       "      <td>39_pancake_stereo_1</td>\n",
       "    </tr>\n",
       "    <tr>\n",
       "      <th>25</th>\n",
       "      <td>/media/data_cifs2/apra/work/labwork/data/exter...</td>\n",
       "      <td>1811</td>\n",
       "      <td>39</td>\n",
       "      <td>juice</td>\n",
       "      <td>stereo</td>\n",
       "      <td>1.0</td>\n",
       "      <td>39_juice_stereo_1</td>\n",
       "    </tr>\n",
       "    <tr>\n",
       "      <th>26</th>\n",
       "      <td>/media/data_cifs2/apra/work/labwork/data/exter...</td>\n",
       "      <td>1524</td>\n",
       "      <td>39</td>\n",
       "      <td>sandwich</td>\n",
       "      <td>stereo</td>\n",
       "      <td>1.0</td>\n",
       "      <td>39_sandwich_stereo_1</td>\n",
       "    </tr>\n",
       "    <tr>\n",
       "      <th>27</th>\n",
       "      <td>/media/data_cifs2/apra/work/labwork/data/exter...</td>\n",
       "      <td>2890</td>\n",
       "      <td>39</td>\n",
       "      <td>friedegg</td>\n",
       "      <td>stereo</td>\n",
       "      <td>1.0</td>\n",
       "      <td>39_friedegg_stereo_1</td>\n",
       "    </tr>\n",
       "    <tr>\n",
       "      <th>28</th>\n",
       "      <td>/media/data_cifs2/apra/work/labwork/data/exter...</td>\n",
       "      <td>4407</td>\n",
       "      <td>39</td>\n",
       "      <td>scrambledegg</td>\n",
       "      <td>stereo</td>\n",
       "      <td>1.0</td>\n",
       "      <td>39_scrambledegg_stereo_1</td>\n",
       "    </tr>\n",
       "  </tbody>\n",
       "</table>\n",
       "</div>"
      ],
      "text/plain": [
       "                                                 path  length  patient  \\\n",
       "24  /media/data_cifs2/apra/work/labwork/data/exter...    8990       39   \n",
       "25  /media/data_cifs2/apra/work/labwork/data/exter...    1811       39   \n",
       "26  /media/data_cifs2/apra/work/labwork/data/exter...    1524       39   \n",
       "27  /media/data_cifs2/apra/work/labwork/data/exter...    2890       39   \n",
       "28  /media/data_cifs2/apra/work/labwork/data/exter...    4407       39   \n",
       "\n",
       "          action  camera  channel                        id  \n",
       "24       pancake  stereo      1.0       39_pancake_stereo_1  \n",
       "25         juice  stereo      1.0         39_juice_stereo_1  \n",
       "26      sandwich  stereo      1.0      39_sandwich_stereo_1  \n",
       "27      friedegg  stereo      1.0      39_friedegg_stereo_1  \n",
       "28  scrambledegg  stereo      1.0  39_scrambledegg_stereo_1  "
      ]
     },
     "execution_count": 145,
     "metadata": {},
     "output_type": "execute_result"
    }
   ],
   "source": [
    "video_df[video_df.camera == 'stereo'].head()"
   ]
  },
  {
   "cell_type": "code",
   "execution_count": 148,
   "metadata": {},
   "outputs": [],
   "source": [
    "video_df.to_csv(str(dir_meta / 'video_meta.csv'), index=False)"
   ]
  },
  {
   "cell_type": "markdown",
   "metadata": {},
   "source": [
    "### Coarse Segmentations"
   ]
  },
  {
   "cell_type": "code",
   "execution_count": 211,
   "metadata": {},
   "outputs": [],
   "source": [
    "coarse_df = pd.DataFrame(coarse_paths, columns=['path'])"
   ]
  },
  {
   "cell_type": "code",
   "execution_count": 212,
   "metadata": {},
   "outputs": [
    {
     "data": {
      "text/html": [
       "<div>\n",
       "<style scoped>\n",
       "    .dataframe tbody tr th:only-of-type {\n",
       "        vertical-align: middle;\n",
       "    }\n",
       "\n",
       "    .dataframe tbody tr th {\n",
       "        vertical-align: top;\n",
       "    }\n",
       "\n",
       "    .dataframe thead th {\n",
       "        text-align: right;\n",
       "    }\n",
       "</style>\n",
       "<table border=\"1\" class=\"dataframe\">\n",
       "  <thead>\n",
       "    <tr style=\"text-align: right;\">\n",
       "      <th></th>\n",
       "      <th>path</th>\n",
       "    </tr>\n",
       "  </thead>\n",
       "  <tbody>\n",
       "    <tr>\n",
       "      <th>0</th>\n",
       "      <td>/media/data_cifs2/apra/work/labwork/data/exter...</td>\n",
       "    </tr>\n",
       "    <tr>\n",
       "      <th>1</th>\n",
       "      <td>/media/data_cifs2/apra/work/labwork/data/exter...</td>\n",
       "    </tr>\n",
       "    <tr>\n",
       "      <th>2</th>\n",
       "      <td>/media/data_cifs2/apra/work/labwork/data/exter...</td>\n",
       "    </tr>\n",
       "    <tr>\n",
       "      <th>3</th>\n",
       "      <td>/media/data_cifs2/apra/work/labwork/data/exter...</td>\n",
       "    </tr>\n",
       "    <tr>\n",
       "      <th>4</th>\n",
       "      <td>/media/data_cifs2/apra/work/labwork/data/exter...</td>\n",
       "    </tr>\n",
       "  </tbody>\n",
       "</table>\n",
       "</div>"
      ],
      "text/plain": [
       "                                                path\n",
       "0  /media/data_cifs2/apra/work/labwork/data/exter...\n",
       "1  /media/data_cifs2/apra/work/labwork/data/exter...\n",
       "2  /media/data_cifs2/apra/work/labwork/data/exter...\n",
       "3  /media/data_cifs2/apra/work/labwork/data/exter...\n",
       "4  /media/data_cifs2/apra/work/labwork/data/exter..."
      ]
     },
     "execution_count": 212,
     "metadata": {},
     "output_type": "execute_result"
    }
   ],
   "source": [
    "coarse_df.head()"
   ]
  },
  {
   "cell_type": "code",
   "execution_count": 213,
   "metadata": {},
   "outputs": [],
   "source": [
    "patient, action, camera, channel = [], [], [], []\n",
    "for path in coarse_df.path.values:\n",
    "    splits = path.stem.split('_')\n",
    "    action.append(splits[-1])\n",
    "    patient.append(int(splits[0][1:]))\n",
    "    \n",
    "    if 'stereo' in splits[1]:\n",
    "        camera.append('stereo')\n",
    "        channel.append(int(splits[1][-2:]))\n",
    "    else:\n",
    "        camera.append(splits[1])\n",
    "        channel.append(None)"
   ]
  },
  {
   "cell_type": "code",
   "execution_count": 214,
   "metadata": {},
   "outputs": [
    {
     "data": {
      "text/plain": [
       "['cereals', 'cereals', 'cereals', 'cereals', 'cereals']"
      ]
     },
     "execution_count": 214,
     "metadata": {},
     "output_type": "execute_result"
    }
   ],
   "source": [
    "action[:5]"
   ]
  },
  {
   "cell_type": "code",
   "execution_count": 215,
   "metadata": {},
   "outputs": [
    {
     "data": {
      "text/plain": [
       "[18, 54, 34, 13, 51]"
      ]
     },
     "execution_count": 215,
     "metadata": {},
     "output_type": "execute_result"
    }
   ],
   "source": [
    "patient[:5]"
   ]
  },
  {
   "cell_type": "code",
   "execution_count": 216,
   "metadata": {},
   "outputs": [],
   "source": [
    "data_dict = {'patient' : patient, \n",
    "             'action' : action,\n",
    "             'camera' : camera, \n",
    "             'channel' : channel}\n"
   ]
  },
  {
   "cell_type": "code",
   "execution_count": 217,
   "metadata": {},
   "outputs": [],
   "source": [
    "for key, val in data_dict.items():\n",
    "    coarse_df[key] = val"
   ]
  },
  {
   "cell_type": "code",
   "execution_count": 218,
   "metadata": {},
   "outputs": [
    {
     "data": {
      "text/html": [
       "<div>\n",
       "<style scoped>\n",
       "    .dataframe tbody tr th:only-of-type {\n",
       "        vertical-align: middle;\n",
       "    }\n",
       "\n",
       "    .dataframe tbody tr th {\n",
       "        vertical-align: top;\n",
       "    }\n",
       "\n",
       "    .dataframe thead th {\n",
       "        text-align: right;\n",
       "    }\n",
       "</style>\n",
       "<table border=\"1\" class=\"dataframe\">\n",
       "  <thead>\n",
       "    <tr style=\"text-align: right;\">\n",
       "      <th></th>\n",
       "      <th>path</th>\n",
       "      <th>patient</th>\n",
       "      <th>action</th>\n",
       "      <th>camera</th>\n",
       "      <th>channel</th>\n",
       "    </tr>\n",
       "  </thead>\n",
       "  <tbody>\n",
       "    <tr>\n",
       "      <th>0</th>\n",
       "      <td>/media/data_cifs2/apra/work/labwork/data/exter...</td>\n",
       "      <td>18</td>\n",
       "      <td>cereals</td>\n",
       "      <td>webcam02</td>\n",
       "      <td>NaN</td>\n",
       "    </tr>\n",
       "    <tr>\n",
       "      <th>1</th>\n",
       "      <td>/media/data_cifs2/apra/work/labwork/data/exter...</td>\n",
       "      <td>54</td>\n",
       "      <td>cereals</td>\n",
       "      <td>cam01</td>\n",
       "      <td>NaN</td>\n",
       "    </tr>\n",
       "    <tr>\n",
       "      <th>2</th>\n",
       "      <td>/media/data_cifs2/apra/work/labwork/data/exter...</td>\n",
       "      <td>34</td>\n",
       "      <td>cereals</td>\n",
       "      <td>stereo</td>\n",
       "      <td>1.0</td>\n",
       "    </tr>\n",
       "    <tr>\n",
       "      <th>3</th>\n",
       "      <td>/media/data_cifs2/apra/work/labwork/data/exter...</td>\n",
       "      <td>13</td>\n",
       "      <td>cereals</td>\n",
       "      <td>cam01</td>\n",
       "      <td>NaN</td>\n",
       "    </tr>\n",
       "    <tr>\n",
       "      <th>4</th>\n",
       "      <td>/media/data_cifs2/apra/work/labwork/data/exter...</td>\n",
       "      <td>51</td>\n",
       "      <td>cereals</td>\n",
       "      <td>webcam02</td>\n",
       "      <td>NaN</td>\n",
       "    </tr>\n",
       "  </tbody>\n",
       "</table>\n",
       "</div>"
      ],
      "text/plain": [
       "                                                path  patient   action  \\\n",
       "0  /media/data_cifs2/apra/work/labwork/data/exter...       18  cereals   \n",
       "1  /media/data_cifs2/apra/work/labwork/data/exter...       54  cereals   \n",
       "2  /media/data_cifs2/apra/work/labwork/data/exter...       34  cereals   \n",
       "3  /media/data_cifs2/apra/work/labwork/data/exter...       13  cereals   \n",
       "4  /media/data_cifs2/apra/work/labwork/data/exter...       51  cereals   \n",
       "\n",
       "     camera  channel  \n",
       "0  webcam02      NaN  \n",
       "1     cam01      NaN  \n",
       "2    stereo      1.0  \n",
       "3     cam01      NaN  \n",
       "4  webcam02      NaN  "
      ]
     },
     "execution_count": 218,
     "metadata": {},
     "output_type": "execute_result"
    }
   ],
   "source": [
    "coarse_df.head()"
   ]
  },
  {
   "cell_type": "code",
   "execution_count": 219,
   "metadata": {},
   "outputs": [],
   "source": [
    "coarse_id = [f'{p}_{a}_{ca}'\n",
    "            if np.isnan(float(ch))\n",
    "            else f'{p}_{a}_{ca}_{int(ch)}'\n",
    "            for p, a, ca, ch in zip(\n",
    "                coarse_df.patient, \n",
    "                coarse_df.action, \n",
    "                coarse_df.camera, \n",
    "                coarse_df.channel)]"
   ]
  },
  {
   "cell_type": "code",
   "execution_count": 220,
   "metadata": {},
   "outputs": [],
   "source": [
    "coarse_df['id'] = coarse_id"
   ]
  },
  {
   "cell_type": "code",
   "execution_count": 221,
   "metadata": {},
   "outputs": [
    {
     "data": {
      "text/html": [
       "<div>\n",
       "<style scoped>\n",
       "    .dataframe tbody tr th:only-of-type {\n",
       "        vertical-align: middle;\n",
       "    }\n",
       "\n",
       "    .dataframe tbody tr th {\n",
       "        vertical-align: top;\n",
       "    }\n",
       "\n",
       "    .dataframe thead th {\n",
       "        text-align: right;\n",
       "    }\n",
       "</style>\n",
       "<table border=\"1\" class=\"dataframe\">\n",
       "  <thead>\n",
       "    <tr style=\"text-align: right;\">\n",
       "      <th></th>\n",
       "      <th>path</th>\n",
       "      <th>patient</th>\n",
       "      <th>action</th>\n",
       "      <th>camera</th>\n",
       "      <th>channel</th>\n",
       "      <th>id</th>\n",
       "    </tr>\n",
       "  </thead>\n",
       "  <tbody>\n",
       "    <tr>\n",
       "      <th>0</th>\n",
       "      <td>/media/data_cifs2/apra/work/labwork/data/exter...</td>\n",
       "      <td>18</td>\n",
       "      <td>cereals</td>\n",
       "      <td>webcam02</td>\n",
       "      <td>NaN</td>\n",
       "      <td>18_cereals_webcam02</td>\n",
       "    </tr>\n",
       "    <tr>\n",
       "      <th>1</th>\n",
       "      <td>/media/data_cifs2/apra/work/labwork/data/exter...</td>\n",
       "      <td>54</td>\n",
       "      <td>cereals</td>\n",
       "      <td>cam01</td>\n",
       "      <td>NaN</td>\n",
       "      <td>54_cereals_cam01</td>\n",
       "    </tr>\n",
       "    <tr>\n",
       "      <th>2</th>\n",
       "      <td>/media/data_cifs2/apra/work/labwork/data/exter...</td>\n",
       "      <td>34</td>\n",
       "      <td>cereals</td>\n",
       "      <td>stereo</td>\n",
       "      <td>1.0</td>\n",
       "      <td>34_cereals_stereo_1</td>\n",
       "    </tr>\n",
       "    <tr>\n",
       "      <th>3</th>\n",
       "      <td>/media/data_cifs2/apra/work/labwork/data/exter...</td>\n",
       "      <td>13</td>\n",
       "      <td>cereals</td>\n",
       "      <td>cam01</td>\n",
       "      <td>NaN</td>\n",
       "      <td>13_cereals_cam01</td>\n",
       "    </tr>\n",
       "    <tr>\n",
       "      <th>4</th>\n",
       "      <td>/media/data_cifs2/apra/work/labwork/data/exter...</td>\n",
       "      <td>51</td>\n",
       "      <td>cereals</td>\n",
       "      <td>webcam02</td>\n",
       "      <td>NaN</td>\n",
       "      <td>51_cereals_webcam02</td>\n",
       "    </tr>\n",
       "  </tbody>\n",
       "</table>\n",
       "</div>"
      ],
      "text/plain": [
       "                                                path  patient   action  \\\n",
       "0  /media/data_cifs2/apra/work/labwork/data/exter...       18  cereals   \n",
       "1  /media/data_cifs2/apra/work/labwork/data/exter...       54  cereals   \n",
       "2  /media/data_cifs2/apra/work/labwork/data/exter...       34  cereals   \n",
       "3  /media/data_cifs2/apra/work/labwork/data/exter...       13  cereals   \n",
       "4  /media/data_cifs2/apra/work/labwork/data/exter...       51  cereals   \n",
       "\n",
       "     camera  channel                   id  \n",
       "0  webcam02      NaN  18_cereals_webcam02  \n",
       "1     cam01      NaN     54_cereals_cam01  \n",
       "2    stereo      1.0  34_cereals_stereo_1  \n",
       "3     cam01      NaN     13_cereals_cam01  \n",
       "4  webcam02      NaN  51_cereals_webcam02  "
      ]
     },
     "execution_count": 221,
     "metadata": {},
     "output_type": "execute_result"
    }
   ],
   "source": [
    "coarse_df.head()"
   ]
  },
  {
   "cell_type": "code",
   "execution_count": 226,
   "metadata": {},
   "outputs": [],
   "source": [
    "last_frames = []\n",
    "for path in coarse_df.path.values:\n",
    "    with open(str(path), 'r') as f:\n",
    "        for l in f: pass\n",
    "        last_frames.append(int(l.split('-')[1].split(' ')[0]))"
   ]
  },
  {
   "cell_type": "code",
   "execution_count": 230,
   "metadata": {},
   "outputs": [],
   "source": [
    "coarse_df['length'] = last_frames"
   ]
  },
  {
   "cell_type": "code",
   "execution_count": 231,
   "metadata": {},
   "outputs": [
    {
     "data": {
      "text/html": [
       "<div>\n",
       "<style scoped>\n",
       "    .dataframe tbody tr th:only-of-type {\n",
       "        vertical-align: middle;\n",
       "    }\n",
       "\n",
       "    .dataframe tbody tr th {\n",
       "        vertical-align: top;\n",
       "    }\n",
       "\n",
       "    .dataframe thead th {\n",
       "        text-align: right;\n",
       "    }\n",
       "</style>\n",
       "<table border=\"1\" class=\"dataframe\">\n",
       "  <thead>\n",
       "    <tr style=\"text-align: right;\">\n",
       "      <th></th>\n",
       "      <th>path</th>\n",
       "      <th>patient</th>\n",
       "      <th>action</th>\n",
       "      <th>camera</th>\n",
       "      <th>channel</th>\n",
       "      <th>id</th>\n",
       "      <th>length</th>\n",
       "    </tr>\n",
       "  </thead>\n",
       "  <tbody>\n",
       "    <tr>\n",
       "      <th>0</th>\n",
       "      <td>/media/data_cifs2/apra/work/labwork/data/exter...</td>\n",
       "      <td>18</td>\n",
       "      <td>cereals</td>\n",
       "      <td>webcam02</td>\n",
       "      <td>NaN</td>\n",
       "      <td>18_cereals_webcam02</td>\n",
       "      <td>465</td>\n",
       "    </tr>\n",
       "    <tr>\n",
       "      <th>1</th>\n",
       "      <td>/media/data_cifs2/apra/work/labwork/data/exter...</td>\n",
       "      <td>54</td>\n",
       "      <td>cereals</td>\n",
       "      <td>cam01</td>\n",
       "      <td>NaN</td>\n",
       "      <td>54_cereals_cam01</td>\n",
       "      <td>747</td>\n",
       "    </tr>\n",
       "    <tr>\n",
       "      <th>2</th>\n",
       "      <td>/media/data_cifs2/apra/work/labwork/data/exter...</td>\n",
       "      <td>34</td>\n",
       "      <td>cereals</td>\n",
       "      <td>stereo</td>\n",
       "      <td>1.0</td>\n",
       "      <td>34_cereals_stereo_1</td>\n",
       "      <td>765</td>\n",
       "    </tr>\n",
       "    <tr>\n",
       "      <th>3</th>\n",
       "      <td>/media/data_cifs2/apra/work/labwork/data/exter...</td>\n",
       "      <td>13</td>\n",
       "      <td>cereals</td>\n",
       "      <td>cam01</td>\n",
       "      <td>NaN</td>\n",
       "      <td>13_cereals_cam01</td>\n",
       "      <td>679</td>\n",
       "    </tr>\n",
       "    <tr>\n",
       "      <th>4</th>\n",
       "      <td>/media/data_cifs2/apra/work/labwork/data/exter...</td>\n",
       "      <td>51</td>\n",
       "      <td>cereals</td>\n",
       "      <td>webcam02</td>\n",
       "      <td>NaN</td>\n",
       "      <td>51_cereals_webcam02</td>\n",
       "      <td>711</td>\n",
       "    </tr>\n",
       "  </tbody>\n",
       "</table>\n",
       "</div>"
      ],
      "text/plain": [
       "                                                path  patient   action  \\\n",
       "0  /media/data_cifs2/apra/work/labwork/data/exter...       18  cereals   \n",
       "1  /media/data_cifs2/apra/work/labwork/data/exter...       54  cereals   \n",
       "2  /media/data_cifs2/apra/work/labwork/data/exter...       34  cereals   \n",
       "3  /media/data_cifs2/apra/work/labwork/data/exter...       13  cereals   \n",
       "4  /media/data_cifs2/apra/work/labwork/data/exter...       51  cereals   \n",
       "\n",
       "     camera  channel                   id  length  \n",
       "0  webcam02      NaN  18_cereals_webcam02     465  \n",
       "1     cam01      NaN     54_cereals_cam01     747  \n",
       "2    stereo      1.0  34_cereals_stereo_1     765  \n",
       "3     cam01      NaN     13_cereals_cam01     679  \n",
       "4  webcam02      NaN  51_cereals_webcam02     711  "
      ]
     },
     "execution_count": 231,
     "metadata": {},
     "output_type": "execute_result"
    }
   ],
   "source": [
    "coarse_df.head()"
   ]
  },
  {
   "cell_type": "code",
   "execution_count": 232,
   "metadata": {},
   "outputs": [],
   "source": [
    "coarse_df.to_csv(str(dir_meta / 'coarse_segmentations_meta.csv'), index=False)"
   ]
  },
  {
   "cell_type": "markdown",
   "metadata": {},
   "source": [
    "### Fine Segmentations"
   ]
  },
  {
   "cell_type": "code",
   "execution_count": 195,
   "metadata": {},
   "outputs": [],
   "source": [
    "fine_paths = list(DIR_FINE_SEG.rglob('*.txt'))"
   ]
  },
  {
   "cell_type": "code",
   "execution_count": 197,
   "metadata": {},
   "outputs": [],
   "source": [
    "fine_df = pd.DataFrame(fine_paths, columns=['path'])"
   ]
  },
  {
   "cell_type": "code",
   "execution_count": 198,
   "metadata": {},
   "outputs": [
    {
     "data": {
      "text/html": [
       "<div>\n",
       "<style scoped>\n",
       "    .dataframe tbody tr th:only-of-type {\n",
       "        vertical-align: middle;\n",
       "    }\n",
       "\n",
       "    .dataframe tbody tr th {\n",
       "        vertical-align: top;\n",
       "    }\n",
       "\n",
       "    .dataframe thead th {\n",
       "        text-align: right;\n",
       "    }\n",
       "</style>\n",
       "<table border=\"1\" class=\"dataframe\">\n",
       "  <thead>\n",
       "    <tr style=\"text-align: right;\">\n",
       "      <th></th>\n",
       "      <th>path</th>\n",
       "    </tr>\n",
       "  </thead>\n",
       "  <tbody>\n",
       "    <tr>\n",
       "      <th>0</th>\n",
       "      <td>/media/data_cifs2/apra/work/labwork/data/exter...</td>\n",
       "    </tr>\n",
       "    <tr>\n",
       "      <th>1</th>\n",
       "      <td>/media/data_cifs2/apra/work/labwork/data/exter...</td>\n",
       "    </tr>\n",
       "    <tr>\n",
       "      <th>2</th>\n",
       "      <td>/media/data_cifs2/apra/work/labwork/data/exter...</td>\n",
       "    </tr>\n",
       "    <tr>\n",
       "      <th>3</th>\n",
       "      <td>/media/data_cifs2/apra/work/labwork/data/exter...</td>\n",
       "    </tr>\n",
       "    <tr>\n",
       "      <th>4</th>\n",
       "      <td>/media/data_cifs2/apra/work/labwork/data/exter...</td>\n",
       "    </tr>\n",
       "  </tbody>\n",
       "</table>\n",
       "</div>"
      ],
      "text/plain": [
       "                                                path\n",
       "0  /media/data_cifs2/apra/work/labwork/data/exter...\n",
       "1  /media/data_cifs2/apra/work/labwork/data/exter...\n",
       "2  /media/data_cifs2/apra/work/labwork/data/exter...\n",
       "3  /media/data_cifs2/apra/work/labwork/data/exter...\n",
       "4  /media/data_cifs2/apra/work/labwork/data/exter..."
      ]
     },
     "execution_count": 198,
     "metadata": {},
     "output_type": "execute_result"
    }
   ],
   "source": [
    "fine_df.head()"
   ]
  },
  {
   "cell_type": "code",
   "execution_count": 199,
   "metadata": {},
   "outputs": [],
   "source": [
    "patient, action, camera, channel = [], [], [], []\n",
    "for path in fine_df.path.values:\n",
    "    splits = path.stem.split('_')\n",
    "    action.append(splits[-1])\n",
    "    patient.append(int(splits[0][1:]))\n",
    "    \n",
    "    if 'stereo' in splits[1]:\n",
    "        camera.append('stereo')\n",
    "        channel.append(int(splits[1][-2:]))\n",
    "    else:\n",
    "        camera.append(splits[1])\n",
    "        channel.append(None)"
   ]
  },
  {
   "cell_type": "code",
   "execution_count": 200,
   "metadata": {},
   "outputs": [
    {
     "data": {
      "text/plain": [
       "['cereals', 'cereals', 'cereals', 'cereals', 'cereals']"
      ]
     },
     "execution_count": 200,
     "metadata": {},
     "output_type": "execute_result"
    }
   ],
   "source": [
    "action[:5]"
   ]
  },
  {
   "cell_type": "code",
   "execution_count": 201,
   "metadata": {},
   "outputs": [
    {
     "data": {
      "text/plain": [
       "[5, 18, 25, 8, 34]"
      ]
     },
     "execution_count": 201,
     "metadata": {},
     "output_type": "execute_result"
    }
   ],
   "source": [
    "patient[:5]"
   ]
  },
  {
   "cell_type": "code",
   "execution_count": 202,
   "metadata": {},
   "outputs": [],
   "source": [
    "data_dict = {'patient' : patient, \n",
    "             'action' : action,\n",
    "             'camera' : camera, \n",
    "             'channel' : channel}\n"
   ]
  },
  {
   "cell_type": "code",
   "execution_count": 203,
   "metadata": {},
   "outputs": [],
   "source": [
    "for key, val in data_dict.items():\n",
    "    fine_df[key] = val"
   ]
  },
  {
   "cell_type": "code",
   "execution_count": 204,
   "metadata": {},
   "outputs": [
    {
     "data": {
      "text/html": [
       "<div>\n",
       "<style scoped>\n",
       "    .dataframe tbody tr th:only-of-type {\n",
       "        vertical-align: middle;\n",
       "    }\n",
       "\n",
       "    .dataframe tbody tr th {\n",
       "        vertical-align: top;\n",
       "    }\n",
       "\n",
       "    .dataframe thead th {\n",
       "        text-align: right;\n",
       "    }\n",
       "</style>\n",
       "<table border=\"1\" class=\"dataframe\">\n",
       "  <thead>\n",
       "    <tr style=\"text-align: right;\">\n",
       "      <th></th>\n",
       "      <th>path</th>\n",
       "      <th>patient</th>\n",
       "      <th>action</th>\n",
       "      <th>camera</th>\n",
       "      <th>channel</th>\n",
       "    </tr>\n",
       "  </thead>\n",
       "  <tbody>\n",
       "    <tr>\n",
       "      <th>0</th>\n",
       "      <td>/media/data_cifs2/apra/work/labwork/data/exter...</td>\n",
       "      <td>5</td>\n",
       "      <td>cereals</td>\n",
       "      <td>stereo</td>\n",
       "      <td>1.0</td>\n",
       "    </tr>\n",
       "    <tr>\n",
       "      <th>1</th>\n",
       "      <td>/media/data_cifs2/apra/work/labwork/data/exter...</td>\n",
       "      <td>18</td>\n",
       "      <td>cereals</td>\n",
       "      <td>webcam02</td>\n",
       "      <td>NaN</td>\n",
       "    </tr>\n",
       "    <tr>\n",
       "      <th>2</th>\n",
       "      <td>/media/data_cifs2/apra/work/labwork/data/exter...</td>\n",
       "      <td>25</td>\n",
       "      <td>cereals</td>\n",
       "      <td>stereo</td>\n",
       "      <td>1.0</td>\n",
       "    </tr>\n",
       "    <tr>\n",
       "      <th>3</th>\n",
       "      <td>/media/data_cifs2/apra/work/labwork/data/exter...</td>\n",
       "      <td>8</td>\n",
       "      <td>cereals</td>\n",
       "      <td>cam01</td>\n",
       "      <td>NaN</td>\n",
       "    </tr>\n",
       "    <tr>\n",
       "      <th>4</th>\n",
       "      <td>/media/data_cifs2/apra/work/labwork/data/exter...</td>\n",
       "      <td>34</td>\n",
       "      <td>cereals</td>\n",
       "      <td>stereo</td>\n",
       "      <td>1.0</td>\n",
       "    </tr>\n",
       "  </tbody>\n",
       "</table>\n",
       "</div>"
      ],
      "text/plain": [
       "                                                path  patient   action  \\\n",
       "0  /media/data_cifs2/apra/work/labwork/data/exter...        5  cereals   \n",
       "1  /media/data_cifs2/apra/work/labwork/data/exter...       18  cereals   \n",
       "2  /media/data_cifs2/apra/work/labwork/data/exter...       25  cereals   \n",
       "3  /media/data_cifs2/apra/work/labwork/data/exter...        8  cereals   \n",
       "4  /media/data_cifs2/apra/work/labwork/data/exter...       34  cereals   \n",
       "\n",
       "     camera  channel  \n",
       "0    stereo      1.0  \n",
       "1  webcam02      NaN  \n",
       "2    stereo      1.0  \n",
       "3     cam01      NaN  \n",
       "4    stereo      1.0  "
      ]
     },
     "execution_count": 204,
     "metadata": {},
     "output_type": "execute_result"
    }
   ],
   "source": [
    "fine_df.head()"
   ]
  },
  {
   "cell_type": "code",
   "execution_count": 205,
   "metadata": {},
   "outputs": [],
   "source": [
    "fine_id = [f'{p}_{a}_{ca}'\n",
    "            if np.isnan(float(ch))\n",
    "            else f'{p}_{a}_{ca}_{int(ch)}'\n",
    "            for p, a, ca, ch in zip(\n",
    "                fine_df.patient, \n",
    "                fine_df.action, \n",
    "                fine_df.camera, \n",
    "                fine_df.channel)]"
   ]
  },
  {
   "cell_type": "code",
   "execution_count": 206,
   "metadata": {},
   "outputs": [],
   "source": [
    "fine_df['id'] = fine_id"
   ]
  },
  {
   "cell_type": "code",
   "execution_count": 207,
   "metadata": {},
   "outputs": [
    {
     "data": {
      "text/html": [
       "<div>\n",
       "<style scoped>\n",
       "    .dataframe tbody tr th:only-of-type {\n",
       "        vertical-align: middle;\n",
       "    }\n",
       "\n",
       "    .dataframe tbody tr th {\n",
       "        vertical-align: top;\n",
       "    }\n",
       "\n",
       "    .dataframe thead th {\n",
       "        text-align: right;\n",
       "    }\n",
       "</style>\n",
       "<table border=\"1\" class=\"dataframe\">\n",
       "  <thead>\n",
       "    <tr style=\"text-align: right;\">\n",
       "      <th></th>\n",
       "      <th>path</th>\n",
       "      <th>patient</th>\n",
       "      <th>action</th>\n",
       "      <th>camera</th>\n",
       "      <th>channel</th>\n",
       "      <th>id</th>\n",
       "    </tr>\n",
       "  </thead>\n",
       "  <tbody>\n",
       "    <tr>\n",
       "      <th>0</th>\n",
       "      <td>/media/data_cifs2/apra/work/labwork/data/exter...</td>\n",
       "      <td>5</td>\n",
       "      <td>cereals</td>\n",
       "      <td>stereo</td>\n",
       "      <td>1.0</td>\n",
       "      <td>5_cereals_stereo_1</td>\n",
       "    </tr>\n",
       "    <tr>\n",
       "      <th>1</th>\n",
       "      <td>/media/data_cifs2/apra/work/labwork/data/exter...</td>\n",
       "      <td>18</td>\n",
       "      <td>cereals</td>\n",
       "      <td>webcam02</td>\n",
       "      <td>NaN</td>\n",
       "      <td>18_cereals_webcam02</td>\n",
       "    </tr>\n",
       "    <tr>\n",
       "      <th>2</th>\n",
       "      <td>/media/data_cifs2/apra/work/labwork/data/exter...</td>\n",
       "      <td>25</td>\n",
       "      <td>cereals</td>\n",
       "      <td>stereo</td>\n",
       "      <td>1.0</td>\n",
       "      <td>25_cereals_stereo_1</td>\n",
       "    </tr>\n",
       "    <tr>\n",
       "      <th>3</th>\n",
       "      <td>/media/data_cifs2/apra/work/labwork/data/exter...</td>\n",
       "      <td>8</td>\n",
       "      <td>cereals</td>\n",
       "      <td>cam01</td>\n",
       "      <td>NaN</td>\n",
       "      <td>8_cereals_cam01</td>\n",
       "    </tr>\n",
       "    <tr>\n",
       "      <th>4</th>\n",
       "      <td>/media/data_cifs2/apra/work/labwork/data/exter...</td>\n",
       "      <td>34</td>\n",
       "      <td>cereals</td>\n",
       "      <td>stereo</td>\n",
       "      <td>1.0</td>\n",
       "      <td>34_cereals_stereo_1</td>\n",
       "    </tr>\n",
       "  </tbody>\n",
       "</table>\n",
       "</div>"
      ],
      "text/plain": [
       "                                                path  patient   action  \\\n",
       "0  /media/data_cifs2/apra/work/labwork/data/exter...        5  cereals   \n",
       "1  /media/data_cifs2/apra/work/labwork/data/exter...       18  cereals   \n",
       "2  /media/data_cifs2/apra/work/labwork/data/exter...       25  cereals   \n",
       "3  /media/data_cifs2/apra/work/labwork/data/exter...        8  cereals   \n",
       "4  /media/data_cifs2/apra/work/labwork/data/exter...       34  cereals   \n",
       "\n",
       "     camera  channel                   id  \n",
       "0    stereo      1.0   5_cereals_stereo_1  \n",
       "1  webcam02      NaN  18_cereals_webcam02  \n",
       "2    stereo      1.0  25_cereals_stereo_1  \n",
       "3     cam01      NaN      8_cereals_cam01  \n",
       "4    stereo      1.0  34_cereals_stereo_1  "
      ]
     },
     "execution_count": 207,
     "metadata": {},
     "output_type": "execute_result"
    }
   ],
   "source": [
    "fine_df.head()"
   ]
  },
  {
   "cell_type": "code",
   "execution_count": 233,
   "metadata": {},
   "outputs": [],
   "source": [
    "last_frames = []\n",
    "for path in fine_df.path.values:\n",
    "    with open(str(path), 'r') as f:\n",
    "        for l in f: pass\n",
    "        last_frames.append(int(l.split('-')[1].split(' ')[0]))"
   ]
  },
  {
   "cell_type": "code",
   "execution_count": 234,
   "metadata": {},
   "outputs": [],
   "source": [
    "fine_df['length'] = last_frames"
   ]
  },
  {
   "cell_type": "code",
   "execution_count": 235,
   "metadata": {},
   "outputs": [
    {
     "data": {
      "text/html": [
       "<div>\n",
       "<style scoped>\n",
       "    .dataframe tbody tr th:only-of-type {\n",
       "        vertical-align: middle;\n",
       "    }\n",
       "\n",
       "    .dataframe tbody tr th {\n",
       "        vertical-align: top;\n",
       "    }\n",
       "\n",
       "    .dataframe thead th {\n",
       "        text-align: right;\n",
       "    }\n",
       "</style>\n",
       "<table border=\"1\" class=\"dataframe\">\n",
       "  <thead>\n",
       "    <tr style=\"text-align: right;\">\n",
       "      <th></th>\n",
       "      <th>path</th>\n",
       "      <th>patient</th>\n",
       "      <th>action</th>\n",
       "      <th>camera</th>\n",
       "      <th>channel</th>\n",
       "      <th>id</th>\n",
       "      <th>length</th>\n",
       "    </tr>\n",
       "  </thead>\n",
       "  <tbody>\n",
       "    <tr>\n",
       "      <th>0</th>\n",
       "      <td>/media/data_cifs2/apra/work/labwork/data/exter...</td>\n",
       "      <td>5</td>\n",
       "      <td>cereals</td>\n",
       "      <td>stereo</td>\n",
       "      <td>1.0</td>\n",
       "      <td>5_cereals_stereo_1</td>\n",
       "      <td>1185</td>\n",
       "    </tr>\n",
       "    <tr>\n",
       "      <th>1</th>\n",
       "      <td>/media/data_cifs2/apra/work/labwork/data/exter...</td>\n",
       "      <td>18</td>\n",
       "      <td>cereals</td>\n",
       "      <td>webcam02</td>\n",
       "      <td>NaN</td>\n",
       "      <td>18_cereals_webcam02</td>\n",
       "      <td>465</td>\n",
       "    </tr>\n",
       "    <tr>\n",
       "      <th>2</th>\n",
       "      <td>/media/data_cifs2/apra/work/labwork/data/exter...</td>\n",
       "      <td>25</td>\n",
       "      <td>cereals</td>\n",
       "      <td>stereo</td>\n",
       "      <td>1.0</td>\n",
       "      <td>25_cereals_stereo_1</td>\n",
       "      <td>795</td>\n",
       "    </tr>\n",
       "    <tr>\n",
       "      <th>3</th>\n",
       "      <td>/media/data_cifs2/apra/work/labwork/data/exter...</td>\n",
       "      <td>8</td>\n",
       "      <td>cereals</td>\n",
       "      <td>cam01</td>\n",
       "      <td>NaN</td>\n",
       "      <td>8_cereals_cam01</td>\n",
       "      <td>1097</td>\n",
       "    </tr>\n",
       "    <tr>\n",
       "      <th>4</th>\n",
       "      <td>/media/data_cifs2/apra/work/labwork/data/exter...</td>\n",
       "      <td>34</td>\n",
       "      <td>cereals</td>\n",
       "      <td>stereo</td>\n",
       "      <td>1.0</td>\n",
       "      <td>34_cereals_stereo_1</td>\n",
       "      <td>765</td>\n",
       "    </tr>\n",
       "  </tbody>\n",
       "</table>\n",
       "</div>"
      ],
      "text/plain": [
       "                                                path  patient   action  \\\n",
       "0  /media/data_cifs2/apra/work/labwork/data/exter...        5  cereals   \n",
       "1  /media/data_cifs2/apra/work/labwork/data/exter...       18  cereals   \n",
       "2  /media/data_cifs2/apra/work/labwork/data/exter...       25  cereals   \n",
       "3  /media/data_cifs2/apra/work/labwork/data/exter...        8  cereals   \n",
       "4  /media/data_cifs2/apra/work/labwork/data/exter...       34  cereals   \n",
       "\n",
       "     camera  channel                   id  length  \n",
       "0    stereo      1.0   5_cereals_stereo_1    1185  \n",
       "1  webcam02      NaN  18_cereals_webcam02     465  \n",
       "2    stereo      1.0  25_cereals_stereo_1     795  \n",
       "3     cam01      NaN      8_cereals_cam01    1097  \n",
       "4    stereo      1.0  34_cereals_stereo_1     765  "
      ]
     },
     "execution_count": 235,
     "metadata": {},
     "output_type": "execute_result"
    }
   ],
   "source": [
    "fine_df.head()"
   ]
  },
  {
   "cell_type": "code",
   "execution_count": 236,
   "metadata": {},
   "outputs": [],
   "source": [
    "fine_df.to_csv(str(dir_meta / 'fine_segmentations_meta.csv'), index=False)"
   ]
  },
  {
   "cell_type": "markdown",
   "metadata": {},
   "source": [
    "### 64 Dim FVs"
   ]
  },
  {
   "cell_type": "code",
   "execution_count": 237,
   "metadata": {},
   "outputs": [],
   "source": [
    "all_64_dim_paths = list(DIR_BREAKFAST_DATA.rglob('*.txt'))"
   ]
  },
  {
   "cell_type": "code",
   "execution_count": 241,
   "metadata": {},
   "outputs": [
    {
     "data": {
      "text/plain": [
       "1712"
      ]
     },
     "execution_count": 241,
     "metadata": {},
     "output_type": "execute_result"
    }
   ],
   "source": [
    "len(all_64_dim_paths)"
   ]
  },
  {
   "cell_type": "code",
   "execution_count": 242,
   "metadata": {},
   "outputs": [
    {
     "data": {
      "text/plain": [
       "PosixPath('/media/data_cifs2/apra/work/labwork/data/external/breakfast/Breakfast_data/s1/cereals/P18_webcam02_P18_cereals.txt')"
      ]
     },
     "execution_count": 242,
     "metadata": {},
     "output_type": "execute_result"
    }
   ],
   "source": [
    "all_64_dim_paths[0]"
   ]
  },
  {
   "cell_type": "code",
   "execution_count": 258,
   "metadata": {},
   "outputs": [
    {
     "data": {
      "text/html": [
       "<div>\n",
       "<style scoped>\n",
       "    .dataframe tbody tr th:only-of-type {\n",
       "        vertical-align: middle;\n",
       "    }\n",
       "\n",
       "    .dataframe tbody tr th {\n",
       "        vertical-align: top;\n",
       "    }\n",
       "\n",
       "    .dataframe thead th {\n",
       "        text-align: right;\n",
       "    }\n",
       "</style>\n",
       "<table border=\"1\" class=\"dataframe\">\n",
       "  <thead>\n",
       "    <tr style=\"text-align: right;\">\n",
       "      <th></th>\n",
       "      <th>path</th>\n",
       "    </tr>\n",
       "  </thead>\n",
       "  <tbody>\n",
       "    <tr>\n",
       "      <th>0</th>\n",
       "      <td>/media/data_cifs2/apra/work/labwork/data/exter...</td>\n",
       "    </tr>\n",
       "    <tr>\n",
       "      <th>1</th>\n",
       "      <td>/media/data_cifs2/apra/work/labwork/data/exter...</td>\n",
       "    </tr>\n",
       "    <tr>\n",
       "      <th>2</th>\n",
       "      <td>/media/data_cifs2/apra/work/labwork/data/exter...</td>\n",
       "    </tr>\n",
       "    <tr>\n",
       "      <th>3</th>\n",
       "      <td>/media/data_cifs2/apra/work/labwork/data/exter...</td>\n",
       "    </tr>\n",
       "    <tr>\n",
       "      <th>4</th>\n",
       "      <td>/media/data_cifs2/apra/work/labwork/data/exter...</td>\n",
       "    </tr>\n",
       "  </tbody>\n",
       "</table>\n",
       "</div>"
      ],
      "text/plain": [
       "                                                path\n",
       "0  /media/data_cifs2/apra/work/labwork/data/exter...\n",
       "1  /media/data_cifs2/apra/work/labwork/data/exter...\n",
       "2  /media/data_cifs2/apra/work/labwork/data/exter...\n",
       "3  /media/data_cifs2/apra/work/labwork/data/exter...\n",
       "4  /media/data_cifs2/apra/work/labwork/data/exter..."
      ]
     },
     "execution_count": 258,
     "metadata": {},
     "output_type": "execute_result"
    }
   ],
   "source": [
    "fvs_df = pd.DataFrame(all_64_dim_paths, columns=['path'])\n",
    "fvs_df.head()"
   ]
  },
  {
   "cell_type": "code",
   "execution_count": 259,
   "metadata": {},
   "outputs": [],
   "source": [
    "patient, action, camera, channel = [], [], [], []\n",
    "for path in fvs_df.path.values:\n",
    "    splits = path.stem.split('_')\n",
    "    action.append(splits[-1])\n",
    "    patient.append(int(splits[0][1:]))\n",
    "    \n",
    "    if 'stereo' in splits[1]:\n",
    "        camera.append('stereo')\n",
    "        channel.append(int(splits[1][-2:]))\n",
    "    else:\n",
    "        camera.append(splits[1])\n",
    "        channel.append(None)"
   ]
  },
  {
   "cell_type": "code",
   "execution_count": 260,
   "metadata": {},
   "outputs": [
    {
     "data": {
      "text/plain": [
       "['cereals', 'cereals', 'cereals', 'cereals', 'cereals']"
      ]
     },
     "execution_count": 260,
     "metadata": {},
     "output_type": "execute_result"
    }
   ],
   "source": [
    "action[:5]"
   ]
  },
  {
   "cell_type": "code",
   "execution_count": 261,
   "metadata": {},
   "outputs": [
    {
     "data": {
      "text/plain": [
       "[18, 54, 34, 13, 51]"
      ]
     },
     "execution_count": 261,
     "metadata": {},
     "output_type": "execute_result"
    }
   ],
   "source": [
    "patient[:5]"
   ]
  },
  {
   "cell_type": "code",
   "execution_count": 262,
   "metadata": {},
   "outputs": [],
   "source": [
    "data_dict = {'patient' : patient, \n",
    "             'action' : action,\n",
    "             'camera' : camera, \n",
    "             'channel' : channel}\n"
   ]
  },
  {
   "cell_type": "code",
   "execution_count": 263,
   "metadata": {},
   "outputs": [],
   "source": [
    "for key, val in data_dict.items():\n",
    "    fvs_df[key] = val"
   ]
  },
  {
   "cell_type": "code",
   "execution_count": 264,
   "metadata": {},
   "outputs": [
    {
     "data": {
      "text/html": [
       "<div>\n",
       "<style scoped>\n",
       "    .dataframe tbody tr th:only-of-type {\n",
       "        vertical-align: middle;\n",
       "    }\n",
       "\n",
       "    .dataframe tbody tr th {\n",
       "        vertical-align: top;\n",
       "    }\n",
       "\n",
       "    .dataframe thead th {\n",
       "        text-align: right;\n",
       "    }\n",
       "</style>\n",
       "<table border=\"1\" class=\"dataframe\">\n",
       "  <thead>\n",
       "    <tr style=\"text-align: right;\">\n",
       "      <th></th>\n",
       "      <th>path</th>\n",
       "      <th>patient</th>\n",
       "      <th>action</th>\n",
       "      <th>camera</th>\n",
       "      <th>channel</th>\n",
       "    </tr>\n",
       "  </thead>\n",
       "  <tbody>\n",
       "    <tr>\n",
       "      <th>0</th>\n",
       "      <td>/media/data_cifs2/apra/work/labwork/data/exter...</td>\n",
       "      <td>18</td>\n",
       "      <td>cereals</td>\n",
       "      <td>webcam02</td>\n",
       "      <td>NaN</td>\n",
       "    </tr>\n",
       "    <tr>\n",
       "      <th>1</th>\n",
       "      <td>/media/data_cifs2/apra/work/labwork/data/exter...</td>\n",
       "      <td>54</td>\n",
       "      <td>cereals</td>\n",
       "      <td>cam01</td>\n",
       "      <td>NaN</td>\n",
       "    </tr>\n",
       "    <tr>\n",
       "      <th>2</th>\n",
       "      <td>/media/data_cifs2/apra/work/labwork/data/exter...</td>\n",
       "      <td>34</td>\n",
       "      <td>cereals</td>\n",
       "      <td>stereo</td>\n",
       "      <td>1.0</td>\n",
       "    </tr>\n",
       "    <tr>\n",
       "      <th>3</th>\n",
       "      <td>/media/data_cifs2/apra/work/labwork/data/exter...</td>\n",
       "      <td>13</td>\n",
       "      <td>cereals</td>\n",
       "      <td>cam01</td>\n",
       "      <td>NaN</td>\n",
       "    </tr>\n",
       "    <tr>\n",
       "      <th>4</th>\n",
       "      <td>/media/data_cifs2/apra/work/labwork/data/exter...</td>\n",
       "      <td>51</td>\n",
       "      <td>cereals</td>\n",
       "      <td>webcam02</td>\n",
       "      <td>NaN</td>\n",
       "    </tr>\n",
       "  </tbody>\n",
       "</table>\n",
       "</div>"
      ],
      "text/plain": [
       "                                                path  patient   action  \\\n",
       "0  /media/data_cifs2/apra/work/labwork/data/exter...       18  cereals   \n",
       "1  /media/data_cifs2/apra/work/labwork/data/exter...       54  cereals   \n",
       "2  /media/data_cifs2/apra/work/labwork/data/exter...       34  cereals   \n",
       "3  /media/data_cifs2/apra/work/labwork/data/exter...       13  cereals   \n",
       "4  /media/data_cifs2/apra/work/labwork/data/exter...       51  cereals   \n",
       "\n",
       "     camera  channel  \n",
       "0  webcam02      NaN  \n",
       "1     cam01      NaN  \n",
       "2    stereo      1.0  \n",
       "3     cam01      NaN  \n",
       "4  webcam02      NaN  "
      ]
     },
     "execution_count": 264,
     "metadata": {},
     "output_type": "execute_result"
    }
   ],
   "source": [
    "fvs_df.head()"
   ]
  },
  {
   "cell_type": "code",
   "execution_count": 265,
   "metadata": {},
   "outputs": [],
   "source": [
    "fvs_id = [f'{p}_{a}_{ca}'\n",
    "          if np.isnan(float(ch))\n",
    "          else f'{p}_{a}_{ca}_{int(ch)}'\n",
    "          for p, a, ca, ch in zip(\n",
    "              fvs_df.patient, \n",
    "              fvs_df.action, \n",
    "              fvs_df.camera, \n",
    "              fvs_df.channel)]"
   ]
  },
  {
   "cell_type": "code",
   "execution_count": 266,
   "metadata": {},
   "outputs": [
    {
     "data": {
      "text/plain": [
       "['18_cereals_webcam02',\n",
       " '54_cereals_cam01',\n",
       " '34_cereals_stereo_1',\n",
       " '13_cereals_cam01',\n",
       " '51_cereals_webcam02']"
      ]
     },
     "execution_count": 266,
     "metadata": {},
     "output_type": "execute_result"
    }
   ],
   "source": [
    "fvs_id[:5]"
   ]
  },
  {
   "cell_type": "code",
   "execution_count": 268,
   "metadata": {},
   "outputs": [],
   "source": [
    "fvs_df['id'] = fvs_id"
   ]
  },
  {
   "cell_type": "code",
   "execution_count": 269,
   "metadata": {},
   "outputs": [
    {
     "data": {
      "text/html": [
       "<div>\n",
       "<style scoped>\n",
       "    .dataframe tbody tr th:only-of-type {\n",
       "        vertical-align: middle;\n",
       "    }\n",
       "\n",
       "    .dataframe tbody tr th {\n",
       "        vertical-align: top;\n",
       "    }\n",
       "\n",
       "    .dataframe thead th {\n",
       "        text-align: right;\n",
       "    }\n",
       "</style>\n",
       "<table border=\"1\" class=\"dataframe\">\n",
       "  <thead>\n",
       "    <tr style=\"text-align: right;\">\n",
       "      <th></th>\n",
       "      <th>path</th>\n",
       "      <th>patient</th>\n",
       "      <th>action</th>\n",
       "      <th>camera</th>\n",
       "      <th>channel</th>\n",
       "      <th>id</th>\n",
       "    </tr>\n",
       "  </thead>\n",
       "  <tbody>\n",
       "    <tr>\n",
       "      <th>0</th>\n",
       "      <td>/media/data_cifs2/apra/work/labwork/data/exter...</td>\n",
       "      <td>18</td>\n",
       "      <td>cereals</td>\n",
       "      <td>webcam02</td>\n",
       "      <td>NaN</td>\n",
       "      <td>18_cereals_webcam02</td>\n",
       "    </tr>\n",
       "    <tr>\n",
       "      <th>1</th>\n",
       "      <td>/media/data_cifs2/apra/work/labwork/data/exter...</td>\n",
       "      <td>54</td>\n",
       "      <td>cereals</td>\n",
       "      <td>cam01</td>\n",
       "      <td>NaN</td>\n",
       "      <td>54_cereals_cam01</td>\n",
       "    </tr>\n",
       "    <tr>\n",
       "      <th>2</th>\n",
       "      <td>/media/data_cifs2/apra/work/labwork/data/exter...</td>\n",
       "      <td>34</td>\n",
       "      <td>cereals</td>\n",
       "      <td>stereo</td>\n",
       "      <td>1.0</td>\n",
       "      <td>34_cereals_stereo_1</td>\n",
       "    </tr>\n",
       "    <tr>\n",
       "      <th>3</th>\n",
       "      <td>/media/data_cifs2/apra/work/labwork/data/exter...</td>\n",
       "      <td>13</td>\n",
       "      <td>cereals</td>\n",
       "      <td>cam01</td>\n",
       "      <td>NaN</td>\n",
       "      <td>13_cereals_cam01</td>\n",
       "    </tr>\n",
       "    <tr>\n",
       "      <th>4</th>\n",
       "      <td>/media/data_cifs2/apra/work/labwork/data/exter...</td>\n",
       "      <td>51</td>\n",
       "      <td>cereals</td>\n",
       "      <td>webcam02</td>\n",
       "      <td>NaN</td>\n",
       "      <td>51_cereals_webcam02</td>\n",
       "    </tr>\n",
       "  </tbody>\n",
       "</table>\n",
       "</div>"
      ],
      "text/plain": [
       "                                                path  patient   action  \\\n",
       "0  /media/data_cifs2/apra/work/labwork/data/exter...       18  cereals   \n",
       "1  /media/data_cifs2/apra/work/labwork/data/exter...       54  cereals   \n",
       "2  /media/data_cifs2/apra/work/labwork/data/exter...       34  cereals   \n",
       "3  /media/data_cifs2/apra/work/labwork/data/exter...       13  cereals   \n",
       "4  /media/data_cifs2/apra/work/labwork/data/exter...       51  cereals   \n",
       "\n",
       "     camera  channel                   id  \n",
       "0  webcam02      NaN  18_cereals_webcam02  \n",
       "1     cam01      NaN     54_cereals_cam01  \n",
       "2    stereo      1.0  34_cereals_stereo_1  \n",
       "3     cam01      NaN     13_cereals_cam01  \n",
       "4  webcam02      NaN  51_cereals_webcam02  "
      ]
     },
     "execution_count": 269,
     "metadata": {},
     "output_type": "execute_result"
    }
   ],
   "source": [
    "fvs_df.head()"
   ]
  },
  {
   "cell_type": "code",
   "execution_count": 274,
   "metadata": {},
   "outputs": [],
   "source": [
    "data_length = []\n",
    "for path in fvs_df.path.values:\n",
    "    data_length.append(len(pd.read_table(str(path), index_col=0, header=0)))"
   ]
  },
  {
   "cell_type": "code",
   "execution_count": 277,
   "metadata": {},
   "outputs": [],
   "source": [
    "fvs_df['length'] = data_length"
   ]
  },
  {
   "cell_type": "code",
   "execution_count": 278,
   "metadata": {},
   "outputs": [
    {
     "data": {
      "text/html": [
       "<div>\n",
       "<style scoped>\n",
       "    .dataframe tbody tr th:only-of-type {\n",
       "        vertical-align: middle;\n",
       "    }\n",
       "\n",
       "    .dataframe tbody tr th {\n",
       "        vertical-align: top;\n",
       "    }\n",
       "\n",
       "    .dataframe thead th {\n",
       "        text-align: right;\n",
       "    }\n",
       "</style>\n",
       "<table border=\"1\" class=\"dataframe\">\n",
       "  <thead>\n",
       "    <tr style=\"text-align: right;\">\n",
       "      <th></th>\n",
       "      <th>path</th>\n",
       "      <th>patient</th>\n",
       "      <th>action</th>\n",
       "      <th>camera</th>\n",
       "      <th>channel</th>\n",
       "      <th>id</th>\n",
       "      <th>length</th>\n",
       "    </tr>\n",
       "  </thead>\n",
       "  <tbody>\n",
       "    <tr>\n",
       "      <th>0</th>\n",
       "      <td>/media/data_cifs2/apra/work/labwork/data/exter...</td>\n",
       "      <td>18</td>\n",
       "      <td>cereals</td>\n",
       "      <td>webcam02</td>\n",
       "      <td>NaN</td>\n",
       "      <td>18_cereals_webcam02</td>\n",
       "      <td>461</td>\n",
       "    </tr>\n",
       "    <tr>\n",
       "      <th>1</th>\n",
       "      <td>/media/data_cifs2/apra/work/labwork/data/exter...</td>\n",
       "      <td>54</td>\n",
       "      <td>cereals</td>\n",
       "      <td>cam01</td>\n",
       "      <td>NaN</td>\n",
       "      <td>54_cereals_cam01</td>\n",
       "      <td>743</td>\n",
       "    </tr>\n",
       "    <tr>\n",
       "      <th>2</th>\n",
       "      <td>/media/data_cifs2/apra/work/labwork/data/exter...</td>\n",
       "      <td>34</td>\n",
       "      <td>cereals</td>\n",
       "      <td>stereo</td>\n",
       "      <td>1.0</td>\n",
       "      <td>34_cereals_stereo_1</td>\n",
       "      <td>761</td>\n",
       "    </tr>\n",
       "    <tr>\n",
       "      <th>3</th>\n",
       "      <td>/media/data_cifs2/apra/work/labwork/data/exter...</td>\n",
       "      <td>13</td>\n",
       "      <td>cereals</td>\n",
       "      <td>cam01</td>\n",
       "      <td>NaN</td>\n",
       "      <td>13_cereals_cam01</td>\n",
       "      <td>675</td>\n",
       "    </tr>\n",
       "    <tr>\n",
       "      <th>4</th>\n",
       "      <td>/media/data_cifs2/apra/work/labwork/data/exter...</td>\n",
       "      <td>51</td>\n",
       "      <td>cereals</td>\n",
       "      <td>webcam02</td>\n",
       "      <td>NaN</td>\n",
       "      <td>51_cereals_webcam02</td>\n",
       "      <td>707</td>\n",
       "    </tr>\n",
       "  </tbody>\n",
       "</table>\n",
       "</div>"
      ],
      "text/plain": [
       "                                                path  patient   action  \\\n",
       "0  /media/data_cifs2/apra/work/labwork/data/exter...       18  cereals   \n",
       "1  /media/data_cifs2/apra/work/labwork/data/exter...       54  cereals   \n",
       "2  /media/data_cifs2/apra/work/labwork/data/exter...       34  cereals   \n",
       "3  /media/data_cifs2/apra/work/labwork/data/exter...       13  cereals   \n",
       "4  /media/data_cifs2/apra/work/labwork/data/exter...       51  cereals   \n",
       "\n",
       "     camera  channel                   id  length  \n",
       "0  webcam02      NaN  18_cereals_webcam02     461  \n",
       "1     cam01      NaN     54_cereals_cam01     743  \n",
       "2    stereo      1.0  34_cereals_stereo_1     761  \n",
       "3     cam01      NaN     13_cereals_cam01     675  \n",
       "4  webcam02      NaN  51_cereals_webcam02     707  "
      ]
     },
     "execution_count": 278,
     "metadata": {},
     "output_type": "execute_result"
    }
   ],
   "source": [
    "fvs_df.head()"
   ]
  },
  {
   "cell_type": "code",
   "execution_count": 279,
   "metadata": {},
   "outputs": [],
   "source": [
    "fvs_df.to_csv(str(dir_meta / '64dim_fvs_meta.csv'), index=False)"
   ]
  },
  {
   "cell_type": "markdown",
   "metadata": {},
   "source": [
    "### I3D FVs"
   ]
  },
  {
   "cell_type": "code",
   "execution_count": 283,
   "metadata": {},
   "outputs": [],
   "source": [
    "all_i3d_paths = list(DIR_I3D_FVS.rglob('*.npy'))"
   ]
  },
  {
   "cell_type": "code",
   "execution_count": 284,
   "metadata": {},
   "outputs": [
    {
     "data": {
      "text/plain": [
       "1712"
      ]
     },
     "execution_count": 284,
     "metadata": {},
     "output_type": "execute_result"
    }
   ],
   "source": [
    "len(all_i3d_paths)"
   ]
  },
  {
   "cell_type": "code",
   "execution_count": 285,
   "metadata": {},
   "outputs": [
    {
     "data": {
      "text/plain": [
       "PosixPath('/media/data_cifs2/apra/work/labwork/data/external/breakfast/i3d_fvs/P23_webcam01_P23_milk.npy')"
      ]
     },
     "execution_count": 285,
     "metadata": {},
     "output_type": "execute_result"
    }
   ],
   "source": [
    "all_i3d_paths[0]"
   ]
  },
  {
   "cell_type": "code",
   "execution_count": 296,
   "metadata": {},
   "outputs": [
    {
     "data": {
      "text/html": [
       "<div>\n",
       "<style scoped>\n",
       "    .dataframe tbody tr th:only-of-type {\n",
       "        vertical-align: middle;\n",
       "    }\n",
       "\n",
       "    .dataframe tbody tr th {\n",
       "        vertical-align: top;\n",
       "    }\n",
       "\n",
       "    .dataframe thead th {\n",
       "        text-align: right;\n",
       "    }\n",
       "</style>\n",
       "<table border=\"1\" class=\"dataframe\">\n",
       "  <thead>\n",
       "    <tr style=\"text-align: right;\">\n",
       "      <th></th>\n",
       "      <th>path</th>\n",
       "    </tr>\n",
       "  </thead>\n",
       "  <tbody>\n",
       "    <tr>\n",
       "      <th>0</th>\n",
       "      <td>/media/data_cifs2/apra/work/labwork/data/exter...</td>\n",
       "    </tr>\n",
       "    <tr>\n",
       "      <th>1</th>\n",
       "      <td>/media/data_cifs2/apra/work/labwork/data/exter...</td>\n",
       "    </tr>\n",
       "    <tr>\n",
       "      <th>2</th>\n",
       "      <td>/media/data_cifs2/apra/work/labwork/data/exter...</td>\n",
       "    </tr>\n",
       "    <tr>\n",
       "      <th>3</th>\n",
       "      <td>/media/data_cifs2/apra/work/labwork/data/exter...</td>\n",
       "    </tr>\n",
       "    <tr>\n",
       "      <th>4</th>\n",
       "      <td>/media/data_cifs2/apra/work/labwork/data/exter...</td>\n",
       "    </tr>\n",
       "  </tbody>\n",
       "</table>\n",
       "</div>"
      ],
      "text/plain": [
       "                                                path\n",
       "0  /media/data_cifs2/apra/work/labwork/data/exter...\n",
       "1  /media/data_cifs2/apra/work/labwork/data/exter...\n",
       "2  /media/data_cifs2/apra/work/labwork/data/exter...\n",
       "3  /media/data_cifs2/apra/work/labwork/data/exter...\n",
       "4  /media/data_cifs2/apra/work/labwork/data/exter..."
      ]
     },
     "execution_count": 296,
     "metadata": {},
     "output_type": "execute_result"
    }
   ],
   "source": [
    "i3d_df = pd.DataFrame(all_i3d_paths, columns=['path'])\n",
    "i3d_df.head()"
   ]
  },
  {
   "cell_type": "code",
   "execution_count": 297,
   "metadata": {},
   "outputs": [],
   "source": [
    "patient, action, camera, channel = [], [], [], []\n",
    "for path in i3d_df.path.values:\n",
    "    splits = path.stem.split('_')\n",
    "    action.append(splits[-1])\n",
    "    patient.append(int(splits[0][1:]))\n",
    "    \n",
    "    if 'stereo' in splits[1]:\n",
    "        camera.append('stereo')\n",
    "        channel.append(int(splits[1][-2:]))\n",
    "    else:\n",
    "        camera.append(splits[1])\n",
    "        channel.append(None)"
   ]
  },
  {
   "cell_type": "code",
   "execution_count": 298,
   "metadata": {},
   "outputs": [
    {
     "data": {
      "text/plain": [
       "['milk', 'tea', 'cereals', 'friedegg', 'tea']"
      ]
     },
     "execution_count": 298,
     "metadata": {},
     "output_type": "execute_result"
    }
   ],
   "source": [
    "action[:5]"
   ]
  },
  {
   "cell_type": "code",
   "execution_count": 299,
   "metadata": {},
   "outputs": [
    {
     "data": {
      "text/plain": [
       "[23, 14, 18, 49, 17]"
      ]
     },
     "execution_count": 299,
     "metadata": {},
     "output_type": "execute_result"
    }
   ],
   "source": [
    "patient[:5]"
   ]
  },
  {
   "cell_type": "code",
   "execution_count": 300,
   "metadata": {},
   "outputs": [],
   "source": [
    "data_dict = {'patient' : patient, \n",
    "             'action' : action,\n",
    "             'camera' : camera, \n",
    "             'channel' : channel}\n"
   ]
  },
  {
   "cell_type": "code",
   "execution_count": 301,
   "metadata": {},
   "outputs": [],
   "source": [
    "for key, val in data_dict.items():\n",
    "    i3d_df[key] = val"
   ]
  },
  {
   "cell_type": "code",
   "execution_count": 302,
   "metadata": {},
   "outputs": [
    {
     "data": {
      "text/html": [
       "<div>\n",
       "<style scoped>\n",
       "    .dataframe tbody tr th:only-of-type {\n",
       "        vertical-align: middle;\n",
       "    }\n",
       "\n",
       "    .dataframe tbody tr th {\n",
       "        vertical-align: top;\n",
       "    }\n",
       "\n",
       "    .dataframe thead th {\n",
       "        text-align: right;\n",
       "    }\n",
       "</style>\n",
       "<table border=\"1\" class=\"dataframe\">\n",
       "  <thead>\n",
       "    <tr style=\"text-align: right;\">\n",
       "      <th></th>\n",
       "      <th>path</th>\n",
       "      <th>patient</th>\n",
       "      <th>action</th>\n",
       "      <th>camera</th>\n",
       "      <th>channel</th>\n",
       "    </tr>\n",
       "  </thead>\n",
       "  <tbody>\n",
       "    <tr>\n",
       "      <th>0</th>\n",
       "      <td>/media/data_cifs2/apra/work/labwork/data/exter...</td>\n",
       "      <td>23</td>\n",
       "      <td>milk</td>\n",
       "      <td>webcam01</td>\n",
       "      <td>NaN</td>\n",
       "    </tr>\n",
       "    <tr>\n",
       "      <th>1</th>\n",
       "      <td>/media/data_cifs2/apra/work/labwork/data/exter...</td>\n",
       "      <td>14</td>\n",
       "      <td>tea</td>\n",
       "      <td>webcam01</td>\n",
       "      <td>NaN</td>\n",
       "    </tr>\n",
       "    <tr>\n",
       "      <th>2</th>\n",
       "      <td>/media/data_cifs2/apra/work/labwork/data/exter...</td>\n",
       "      <td>18</td>\n",
       "      <td>cereals</td>\n",
       "      <td>webcam02</td>\n",
       "      <td>NaN</td>\n",
       "    </tr>\n",
       "    <tr>\n",
       "      <th>3</th>\n",
       "      <td>/media/data_cifs2/apra/work/labwork/data/exter...</td>\n",
       "      <td>49</td>\n",
       "      <td>friedegg</td>\n",
       "      <td>webcam01</td>\n",
       "      <td>NaN</td>\n",
       "    </tr>\n",
       "    <tr>\n",
       "      <th>4</th>\n",
       "      <td>/media/data_cifs2/apra/work/labwork/data/exter...</td>\n",
       "      <td>17</td>\n",
       "      <td>tea</td>\n",
       "      <td>webcam02</td>\n",
       "      <td>NaN</td>\n",
       "    </tr>\n",
       "  </tbody>\n",
       "</table>\n",
       "</div>"
      ],
      "text/plain": [
       "                                                path  patient    action  \\\n",
       "0  /media/data_cifs2/apra/work/labwork/data/exter...       23      milk   \n",
       "1  /media/data_cifs2/apra/work/labwork/data/exter...       14       tea   \n",
       "2  /media/data_cifs2/apra/work/labwork/data/exter...       18   cereals   \n",
       "3  /media/data_cifs2/apra/work/labwork/data/exter...       49  friedegg   \n",
       "4  /media/data_cifs2/apra/work/labwork/data/exter...       17       tea   \n",
       "\n",
       "     camera  channel  \n",
       "0  webcam01      NaN  \n",
       "1  webcam01      NaN  \n",
       "2  webcam02      NaN  \n",
       "3  webcam01      NaN  \n",
       "4  webcam02      NaN  "
      ]
     },
     "execution_count": 302,
     "metadata": {},
     "output_type": "execute_result"
    }
   ],
   "source": [
    "i3d_df.head()"
   ]
  },
  {
   "cell_type": "code",
   "execution_count": 303,
   "metadata": {},
   "outputs": [],
   "source": [
    "i3d_id = [f'{p}_{a}_{ca}'\n",
    "          if np.isnan(float(ch))\n",
    "          else f'{p}_{a}_{ca}_{int(ch)}'\n",
    "          for p, a, ca, ch in zip(\n",
    "              i3d_df.patient, \n",
    "              i3d_df.action, \n",
    "              i3d_df.camera, \n",
    "              i3d_df.channel)]"
   ]
  },
  {
   "cell_type": "code",
   "execution_count": 306,
   "metadata": {},
   "outputs": [
    {
     "data": {
      "text/plain": [
       "['23_milk_webcam01',\n",
       " '14_tea_webcam01',\n",
       " '18_cereals_webcam02',\n",
       " '49_friedegg_webcam01',\n",
       " '17_tea_webcam02']"
      ]
     },
     "execution_count": 306,
     "metadata": {},
     "output_type": "execute_result"
    }
   ],
   "source": [
    "i3d_id[:5]"
   ]
  },
  {
   "cell_type": "code",
   "execution_count": 307,
   "metadata": {},
   "outputs": [],
   "source": [
    "i3d_df['id'] = i3d_id"
   ]
  },
  {
   "cell_type": "code",
   "execution_count": 308,
   "metadata": {},
   "outputs": [
    {
     "data": {
      "text/html": [
       "<div>\n",
       "<style scoped>\n",
       "    .dataframe tbody tr th:only-of-type {\n",
       "        vertical-align: middle;\n",
       "    }\n",
       "\n",
       "    .dataframe tbody tr th {\n",
       "        vertical-align: top;\n",
       "    }\n",
       "\n",
       "    .dataframe thead th {\n",
       "        text-align: right;\n",
       "    }\n",
       "</style>\n",
       "<table border=\"1\" class=\"dataframe\">\n",
       "  <thead>\n",
       "    <tr style=\"text-align: right;\">\n",
       "      <th></th>\n",
       "      <th>path</th>\n",
       "      <th>patient</th>\n",
       "      <th>action</th>\n",
       "      <th>camera</th>\n",
       "      <th>channel</th>\n",
       "      <th>id</th>\n",
       "    </tr>\n",
       "  </thead>\n",
       "  <tbody>\n",
       "    <tr>\n",
       "      <th>0</th>\n",
       "      <td>/media/data_cifs2/apra/work/labwork/data/exter...</td>\n",
       "      <td>23</td>\n",
       "      <td>milk</td>\n",
       "      <td>webcam01</td>\n",
       "      <td>NaN</td>\n",
       "      <td>23_milk_webcam01</td>\n",
       "    </tr>\n",
       "    <tr>\n",
       "      <th>1</th>\n",
       "      <td>/media/data_cifs2/apra/work/labwork/data/exter...</td>\n",
       "      <td>14</td>\n",
       "      <td>tea</td>\n",
       "      <td>webcam01</td>\n",
       "      <td>NaN</td>\n",
       "      <td>14_tea_webcam01</td>\n",
       "    </tr>\n",
       "    <tr>\n",
       "      <th>2</th>\n",
       "      <td>/media/data_cifs2/apra/work/labwork/data/exter...</td>\n",
       "      <td>18</td>\n",
       "      <td>cereals</td>\n",
       "      <td>webcam02</td>\n",
       "      <td>NaN</td>\n",
       "      <td>18_cereals_webcam02</td>\n",
       "    </tr>\n",
       "    <tr>\n",
       "      <th>3</th>\n",
       "      <td>/media/data_cifs2/apra/work/labwork/data/exter...</td>\n",
       "      <td>49</td>\n",
       "      <td>friedegg</td>\n",
       "      <td>webcam01</td>\n",
       "      <td>NaN</td>\n",
       "      <td>49_friedegg_webcam01</td>\n",
       "    </tr>\n",
       "    <tr>\n",
       "      <th>4</th>\n",
       "      <td>/media/data_cifs2/apra/work/labwork/data/exter...</td>\n",
       "      <td>17</td>\n",
       "      <td>tea</td>\n",
       "      <td>webcam02</td>\n",
       "      <td>NaN</td>\n",
       "      <td>17_tea_webcam02</td>\n",
       "    </tr>\n",
       "  </tbody>\n",
       "</table>\n",
       "</div>"
      ],
      "text/plain": [
       "                                                path  patient    action  \\\n",
       "0  /media/data_cifs2/apra/work/labwork/data/exter...       23      milk   \n",
       "1  /media/data_cifs2/apra/work/labwork/data/exter...       14       tea   \n",
       "2  /media/data_cifs2/apra/work/labwork/data/exter...       18   cereals   \n",
       "3  /media/data_cifs2/apra/work/labwork/data/exter...       49  friedegg   \n",
       "4  /media/data_cifs2/apra/work/labwork/data/exter...       17       tea   \n",
       "\n",
       "     camera  channel                    id  \n",
       "0  webcam01      NaN      23_milk_webcam01  \n",
       "1  webcam01      NaN       14_tea_webcam01  \n",
       "2  webcam02      NaN   18_cereals_webcam02  \n",
       "3  webcam01      NaN  49_friedegg_webcam01  \n",
       "4  webcam02      NaN       17_tea_webcam02  "
      ]
     },
     "execution_count": 308,
     "metadata": {},
     "output_type": "execute_result"
    }
   ],
   "source": [
    "i3d_df.head()"
   ]
  },
  {
   "cell_type": "code",
   "execution_count": 318,
   "metadata": {},
   "outputs": [],
   "source": [
    "data_length = []\n",
    "for path in i3d_df.path.values:\n",
    "    # See this post for mmap_mode\n",
    "    # https://stackoverflow.com/questions/52889798/obtain-lengths-of-vectors-without-loading-multiple-npy-files\n",
    "    data_length.append(len(np.load(str(path), mmap_mode='r')))"
   ]
  },
  {
   "cell_type": "code",
   "execution_count": 319,
   "metadata": {},
   "outputs": [],
   "source": [
    "i3d_df['length'] = data_length"
   ]
  },
  {
   "cell_type": "code",
   "execution_count": 320,
   "metadata": {},
   "outputs": [
    {
     "data": {
      "text/html": [
       "<div>\n",
       "<style scoped>\n",
       "    .dataframe tbody tr th:only-of-type {\n",
       "        vertical-align: middle;\n",
       "    }\n",
       "\n",
       "    .dataframe tbody tr th {\n",
       "        vertical-align: top;\n",
       "    }\n",
       "\n",
       "    .dataframe thead th {\n",
       "        text-align: right;\n",
       "    }\n",
       "</style>\n",
       "<table border=\"1\" class=\"dataframe\">\n",
       "  <thead>\n",
       "    <tr style=\"text-align: right;\">\n",
       "      <th></th>\n",
       "      <th>path</th>\n",
       "      <th>patient</th>\n",
       "      <th>action</th>\n",
       "      <th>camera</th>\n",
       "      <th>channel</th>\n",
       "      <th>id</th>\n",
       "      <th>length</th>\n",
       "    </tr>\n",
       "  </thead>\n",
       "  <tbody>\n",
       "    <tr>\n",
       "      <th>0</th>\n",
       "      <td>/media/data_cifs2/apra/work/labwork/data/exter...</td>\n",
       "      <td>23</td>\n",
       "      <td>milk</td>\n",
       "      <td>webcam01</td>\n",
       "      <td>NaN</td>\n",
       "      <td>23_milk_webcam01</td>\n",
       "      <td>1246</td>\n",
       "    </tr>\n",
       "    <tr>\n",
       "      <th>1</th>\n",
       "      <td>/media/data_cifs2/apra/work/labwork/data/exter...</td>\n",
       "      <td>14</td>\n",
       "      <td>tea</td>\n",
       "      <td>webcam01</td>\n",
       "      <td>NaN</td>\n",
       "      <td>14_tea_webcam01</td>\n",
       "      <td>397</td>\n",
       "    </tr>\n",
       "    <tr>\n",
       "      <th>2</th>\n",
       "      <td>/media/data_cifs2/apra/work/labwork/data/exter...</td>\n",
       "      <td>18</td>\n",
       "      <td>cereals</td>\n",
       "      <td>webcam02</td>\n",
       "      <td>NaN</td>\n",
       "      <td>18_cereals_webcam02</td>\n",
       "      <td>461</td>\n",
       "    </tr>\n",
       "    <tr>\n",
       "      <th>3</th>\n",
       "      <td>/media/data_cifs2/apra/work/labwork/data/exter...</td>\n",
       "      <td>49</td>\n",
       "      <td>friedegg</td>\n",
       "      <td>webcam01</td>\n",
       "      <td>NaN</td>\n",
       "      <td>49_friedegg_webcam01</td>\n",
       "      <td>5174</td>\n",
       "    </tr>\n",
       "    <tr>\n",
       "      <th>4</th>\n",
       "      <td>/media/data_cifs2/apra/work/labwork/data/exter...</td>\n",
       "      <td>17</td>\n",
       "      <td>tea</td>\n",
       "      <td>webcam02</td>\n",
       "      <td>NaN</td>\n",
       "      <td>17_tea_webcam02</td>\n",
       "      <td>703</td>\n",
       "    </tr>\n",
       "  </tbody>\n",
       "</table>\n",
       "</div>"
      ],
      "text/plain": [
       "                                                path  patient    action  \\\n",
       "0  /media/data_cifs2/apra/work/labwork/data/exter...       23      milk   \n",
       "1  /media/data_cifs2/apra/work/labwork/data/exter...       14       tea   \n",
       "2  /media/data_cifs2/apra/work/labwork/data/exter...       18   cereals   \n",
       "3  /media/data_cifs2/apra/work/labwork/data/exter...       49  friedegg   \n",
       "4  /media/data_cifs2/apra/work/labwork/data/exter...       17       tea   \n",
       "\n",
       "     camera  channel                    id  length  \n",
       "0  webcam01      NaN      23_milk_webcam01    1246  \n",
       "1  webcam01      NaN       14_tea_webcam01     397  \n",
       "2  webcam02      NaN   18_cereals_webcam02     461  \n",
       "3  webcam01      NaN  49_friedegg_webcam01    5174  \n",
       "4  webcam02      NaN       17_tea_webcam02     703  "
      ]
     },
     "execution_count": 320,
     "metadata": {},
     "output_type": "execute_result"
    }
   ],
   "source": [
    "i3d_df.head()"
   ]
  },
  {
   "cell_type": "code",
   "execution_count": 321,
   "metadata": {},
   "outputs": [],
   "source": [
    "i3d_df.to_csv(str(dir_meta / 'i3d_fvs_meta.csv'), index=False)"
   ]
  }
 ],
 "metadata": {
  "anaconda-cloud": {},
  "kernelspec": {
   "display_name": "Python 3",
   "language": "python",
   "name": "python3"
  },
  "language_info": {
   "codemirror_mode": {
    "name": "ipython",
    "version": 3
   },
   "file_extension": ".py",
   "mimetype": "text/x-python",
   "name": "python",
   "nbconvert_exporter": "python",
   "pygments_lexer": "ipython3",
   "version": "3.6.10"
  }
 },
 "nbformat": 4,
 "nbformat_minor": 4
}
