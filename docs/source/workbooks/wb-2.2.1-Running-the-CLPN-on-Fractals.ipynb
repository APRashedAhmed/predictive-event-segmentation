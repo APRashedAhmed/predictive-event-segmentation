{
 "cells": [
  {
   "cell_type": "markdown",
   "metadata": {},
   "source": [
    "# 2.2.1 Running the CLPN on Fractals\n",
    "\n",
    "Assuming the data are there, this NB finetunes the model and tests on the fractals data."
   ]
  },
  {
   "cell_type": "markdown",
   "metadata": {},
   "source": [
    "## Jupyter Extensions"
   ]
  },
  {
   "cell_type": "markdown",
   "metadata": {},
   "source": [
    "Load [watermark](https://github.com/rasbt/watermark) to see the state of the machine and environment that's running the notebook. To make sense of the options, take a look at the [usage](https://github.com/rasbt/watermark#usage) section of the readme."
   ]
  },
  {
   "cell_type": "code",
   "execution_count": 1,
   "metadata": {},
   "outputs": [
    {
     "name": "stdout",
     "output_type": "stream",
     "text": [
      "Mon Aug 31 2020 21:56:05 \n",
      "\n",
      "compiler   : GCC 7.3.0\n",
      "system     : Linux\n",
      "release    : 4.15.0-112-generic\n",
      "machine    : x86_64\n",
      "processor  : x86_64\n",
      "CPU cores  : 16\n",
      "interpreter: 64bit\n",
      "host name  : serrep5\n",
      "Git hash   : 30d08fc86cb3c4c628329c2702b07de4bc816826\n",
      "Git branch : master\n"
     ]
    }
   ],
   "source": [
    "# Load `watermark` extension\n",
    "%load_ext watermark\n",
    "# Display the status of the machine and other non-code related info\n",
    "%watermark -n -m -g -b -t -h"
   ]
  },
  {
   "cell_type": "markdown",
   "metadata": {},
   "source": [
    "Load [autoreload](https://ipython.org/ipython-doc/3/config/extensions/autoreload.html) which will always reload modules marked with `%aimport`.\n",
    "\n",
    "This behavior can be inverted by running `autoreload 2` which will set everything to be auto-reloaded *except* for modules marked with `%aimport`."
   ]
  },
  {
   "cell_type": "code",
   "execution_count": 2,
   "metadata": {},
   "outputs": [],
   "source": [
    "# Load `autoreload` extension\n",
    "%load_ext autoreload\n",
    "# Set autoreload behavior\n",
    "%autoreload 1"
   ]
  },
  {
   "cell_type": "markdown",
   "metadata": {},
   "source": [
    "Load `matplotlib` in one of the more `jupyter`-friendly [rich-output modes](https://ipython.readthedocs.io/en/stable/interactive/plotting.html). Some options (that may or may not have worked) are `inline`, `notebook`, and `gtk`."
   ]
  },
  {
   "cell_type": "code",
   "execution_count": 3,
   "metadata": {},
   "outputs": [],
   "source": [
    "# Set the matplotlib mode\n",
    "%matplotlib inline"
   ]
  },
  {
   "cell_type": "markdown",
   "metadata": {},
   "source": [
    "## Conda Env\n"
   ]
  },
  {
   "cell_type": "code",
   "execution_count": 4,
   "metadata": {
    "collapsed": true,
    "jupyter": {
     "outputs_hidden": true
    }
   },
   "outputs": [
    {
     "name": "stdout",
     "output_type": "stream",
     "text": [
      "# packages in environment at /media/data/conda/abdullah/envs/pn:\n",
      "#\n",
      "# Name                    Version                   Build  Channel\n",
      "_libgcc_mutex             0.1                        main    defaults\n",
      "_tflow_select             2.1.0                       gpu    defaults\n",
      "absl-py                   0.9.0                    py37_0    defaults\n",
      "argon2-cffi               20.1.0           py37h8f50634_1    conda-forge\n",
      "astor                     0.8.1                    py37_0    defaults\n",
      "attrs                     20.1.0                     py_0    defaults\n",
      "backcall                  0.2.0              pyh9f0ad1d_0    conda-forge\n",
      "backports                 1.0                        py_2    conda-forge\n",
      "backports.functools_lru_cache 1.6.1                      py_0    conda-forge\n",
      "beautifulsoup4            4.9.1                    py37_0    defaults\n",
      "blas                      1.0                         mkl    defaults\n",
      "bleach                    3.1.5              pyh9f0ad1d_0    conda-forge\n",
      "brotlipy                  0.7.0           py37h7b6447c_1000    defaults\n",
      "c-ares                    1.15.0            h7b6447c_1001    defaults\n",
      "ca-certificates           2020.6.20            hecda079_0    conda-forge\n",
      "certifi                   2020.6.20        py37hc8dfbb8_0    conda-forge\n",
      "cffi                      1.14.2           py37he30daa8_0    defaults\n",
      "chardet                   3.0.4                 py37_1003    defaults\n",
      "codecov                   2.1.9              pyh9f0ad1d_0    conda-forge\n",
      "coloredlogs               14.0             py37hc8dfbb8_1    conda-forge\n",
      "coverage                  5.2.1            py37h8f50634_0    conda-forge\n",
      "cryptography              3.0              py37h1ba5d50_0    defaults\n",
      "cudatoolkit               10.0.130                      0    defaults\n",
      "cudnn                     7.6.5                cuda10.0_0    defaults\n",
      "cupti                     10.0.130                      0    defaults\n",
      "cycler                    0.10.0                   py37_0    defaults\n",
      "dbus                      1.13.16              hb2f20db_0    defaults\n",
      "decorator                 4.4.2                      py_0    conda-forge\n",
      "defusedxml                0.6.0                      py_0    conda-forge\n",
      "entrypoints               0.3             py37hc8dfbb8_1001    conda-forge\n",
      "expat                     2.2.9                he6710b0_2    defaults\n",
      "flake8                    3.8.3                      py_1    conda-forge\n",
      "fontconfig                2.13.0               h9420a91_0    defaults\n",
      "freetype                  2.10.2               h5ab3b9f_0    defaults\n",
      "gast                      0.2.2                    py37_0    defaults\n",
      "glib                      2.65.0               h3eb4bd4_0    defaults\n",
      "google-pasta              0.2.0                      py_0    defaults\n",
      "grpcio                    1.31.0           py37hf8bcb03_0    defaults\n",
      "gst-plugins-base          1.14.0               hbbd80ab_1    defaults\n",
      "gstreamer                 1.14.0               hb31296c_0    defaults\n",
      "h5py                      2.10.0           py37hd6299e0_1    defaults\n",
      "hdf5                      1.10.6               hb1b8bf9_0    defaults\n",
      "hickle                    2.1.0                    pypi_0    pypi\n",
      "humanfriendly             8.2              py37hc8dfbb8_0    conda-forge\n",
      "icu                       58.2                 he6710b0_3    defaults\n",
      "idna                      2.10                       py_0    defaults\n",
      "imageio                   2.9.0                      py_0    defaults\n",
      "importlib-metadata        1.7.0                    py37_0    defaults\n",
      "importlib_metadata        1.7.0                         0    defaults\n",
      "iniconfig                 1.0.1                      py_0    defaults\n",
      "intel-openmp              2020.2                      254    defaults\n",
      "ipykernel                 5.3.4            py37h43977f1_0    conda-forge\n",
      "ipython                   7.17.0           py37hc6149b9_0    conda-forge\n",
      "ipython_genutils          0.2.0                      py_1    conda-forge\n",
      "jedi                      0.15.2                   py37_0    conda-forge\n",
      "jinja2                    2.11.2             pyh9f0ad1d_0    conda-forge\n",
      "jpeg                      9b                   h024ee3a_2    defaults\n",
      "json5                     0.9.4              pyh9f0ad1d_0    conda-forge\n",
      "jsonschema                3.2.0            py37hc8dfbb8_1    conda-forge\n",
      "jupyter_client            6.1.7                      py_0    conda-forge\n",
      "jupyter_core              4.6.3            py37hc8dfbb8_1    conda-forge\n",
      "jupyterlab                2.2.6                      py_0    conda-forge\n",
      "jupyterlab_server         1.2.0                      py_0    conda-forge\n",
      "keras                     2.3.1                         0    defaults\n",
      "keras-applications        1.0.8                      py_1    defaults\n",
      "keras-base                2.3.1                    py37_0    defaults\n",
      "keras-preprocessing       1.1.0                      py_1    defaults\n",
      "kiwisolver                1.2.0            py37hfd86e86_0    defaults\n",
      "lcms2                     2.11                 h396b838_0    defaults\n",
      "ld_impl_linux-64          2.33.1               h53a641e_7    defaults\n",
      "libedit                   3.1.20191231         h14c3975_1    defaults\n",
      "libffi                    3.3                  he6710b0_2    defaults\n",
      "libgcc-ng                 9.1.0                hdf63c60_0    defaults\n",
      "libgfortran-ng            7.3.0                hdf63c60_0    defaults\n",
      "libpng                    1.6.37               hbc83047_0    defaults\n",
      "libprotobuf               3.13.0               hd408876_0    defaults\n",
      "libsodium                 1.0.18               h516909a_0    conda-forge\n",
      "libstdcxx-ng              9.1.0                hdf63c60_0    defaults\n",
      "libtiff                   4.1.0                h2733197_1    defaults\n",
      "libuuid                   1.0.3                h1bed415_2    defaults\n",
      "libxcb                    1.14                 h7b6447c_0    defaults\n",
      "libxml2                   2.9.10               he19cac6_1    defaults\n",
      "lz4-c                     1.9.2                he6710b0_1    defaults\n",
      "markdown                  3.2.2                    py37_0    defaults\n",
      "markupsafe                1.1.1            py37h8f50634_1    conda-forge\n",
      "matplotlib                3.3.1                         0    defaults\n",
      "matplotlib-base           3.3.1            py37h817c723_0    defaults\n",
      "mccabe                    0.6.1                      py_1    conda-forge\n",
      "mistune                   0.8.4           py37h8f50634_1001    conda-forge\n",
      "mkl                       2020.2                      256    defaults\n",
      "mkl-service               2.3.0            py37he904b0f_0    defaults\n",
      "mkl_fft                   1.1.0            py37h23d657b_0    defaults\n",
      "mkl_random                1.1.1            py37h0573a6f_0    defaults\n",
      "more-itertools            8.4.0                      py_0    defaults\n",
      "nbconvert                 5.6.1            py37hc8dfbb8_1    conda-forge\n",
      "nbformat                  5.0.7                      py_0    conda-forge\n",
      "ncurses                   6.2                  he6710b0_1    defaults\n",
      "networkx                  2.5                      pypi_0    pypi\n",
      "notebook                  6.1.3            py37hc8dfbb8_0    conda-forge\n",
      "numpy                     1.19.1           py37hbc911f0_0    defaults\n",
      "numpy-base                1.19.1           py37hfa32c7d_0    defaults\n",
      "olefile                   0.46                     py37_0    defaults\n",
      "openssl                   1.1.1g               h516909a_1    conda-forge\n",
      "opt_einsum                3.1.0                      py_0    defaults\n",
      "packaging                 20.4                       py_0    defaults\n",
      "pandoc                    2.10.1               h516909a_0    conda-forge\n",
      "pandocfilters             1.4.2                      py_1    conda-forge\n",
      "parso                     0.5.2                      py_0    defaults\n",
      "pcre                      8.44                 he6710b0_0    defaults\n",
      "pexpect                   4.8.0            py37hc8dfbb8_1    conda-forge\n",
      "pickleshare               0.7.5           py37hc8dfbb8_1001    conda-forge\n",
      "pillow                    7.2.0            py37hb39fc2d_0    defaults\n",
      "pip                       20.2.2                   py37_0    defaults\n",
      "pluggy                    0.13.1                   py37_0    defaults\n",
      "predictive-event-segmentation 0+untagged.59.g99efcf3           dev_0    <develop>\n",
      "prednet                   0+untagged.73.gb4e5a5b           dev_0    <develop>\n",
      "prometheus_client         0.8.0              pyh9f0ad1d_0    conda-forge\n",
      "prompt-toolkit            3.0.6                      py_0    conda-forge\n",
      "protobuf                  3.13.0           py37hf484d3e_0    defaults\n",
      "ptyprocess                0.6.0                   py_1001    conda-forge\n",
      "py                        1.9.0                      py_0    defaults\n",
      "pycodestyle               2.6.0              pyh9f0ad1d_0    conda-forge\n",
      "pycparser                 2.20                       py_2    defaults\n",
      "pyflakes                  2.2.0              pyh9f0ad1d_0    conda-forge\n",
      "pygments                  2.6.1                      py_0    conda-forge\n",
      "pyopenssl                 19.1.0                     py_1    defaults\n",
      "pyparsing                 2.4.7                      py_0    defaults\n",
      "pyqt                      5.9.2            py37h05f1152_2    defaults\n",
      "pyrsistent                0.16.0           py37h8f50634_0    conda-forge\n",
      "pysocks                   1.7.1                    py37_1    defaults\n",
      "pytest                    6.0.1            py37hc8dfbb8_0    conda-forge\n",
      "python                    3.7.7                hcff3b4d_5    defaults\n",
      "python-dateutil           2.8.1                      py_0    defaults\n",
      "python_abi                3.7                     1_cp37m    conda-forge\n",
      "pyyaml                    5.3.1            py37h8f50634_0    conda-forge\n",
      "pyzmq                     19.0.2           py37hac76be4_0    conda-forge\n",
      "qt                        5.9.7                h5867ecd_1    defaults\n",
      "readline                  8.0                  h7b6447c_0    defaults\n",
      "requests                  2.24.0                     py_0    defaults\n",
      "scipy                     1.5.2            py37h0b6359f_0    defaults\n",
      "send2trash                1.5.0                      py_0    conda-forge\n",
      "setuptools                49.6.0                   py37_0    defaults\n",
      "sip                       4.19.8           py37hf484d3e_0    defaults\n",
      "six                       1.15.0                     py_0    defaults\n",
      "soupsieve                 2.0.1                      py_0    defaults\n",
      "sqlite                    3.33.0               h62c20be_0    defaults\n",
      "tensorboard               1.15.0             pyhb230dea_0    defaults\n",
      "tensorflow                1.15.0          gpu_py37h0f0df58_0    defaults\n",
      "tensorflow-base           1.15.0          gpu_py37h9dcbed7_0    defaults\n",
      "tensorflow-estimator      1.15.1             pyh2649769_0    defaults\n",
      "tensorflow-gpu            1.15.0               h0d30ee6_0    defaults\n",
      "termcolor                 1.1.0                    py37_1    defaults\n",
      "terminado                 0.8.3            py37hc8dfbb8_1    conda-forge\n",
      "testpath                  0.4.4                      py_0    conda-forge\n",
      "tk                        8.6.10               hbc83047_0    defaults\n",
      "toml                      0.10.1                     py_0    defaults\n",
      "tornado                   6.0.4            py37h7b6447c_1    defaults\n",
      "traitlets                 4.3.3            py37hc8dfbb8_1    conda-forge\n",
      "urllib3                   1.25.10                    py_0    defaults\n",
      "versioneer                0.18                       py_1    conda-forge\n",
      "watermark                 2.0.2                      py_0    conda-forge\n",
      "wcwidth                   0.2.5              pyh9f0ad1d_1    conda-forge\n",
      "webencodings              0.5.1                    py37_1    defaults\n",
      "werkzeug                  0.16.1                     py_0    defaults\n",
      "wheel                     0.35.1                     py_0    defaults\n",
      "wrapt                     1.12.1           py37h7b6447c_1    defaults\n",
      "xz                        5.2.5                h7b6447c_0    defaults\n",
      "yaml                      0.2.5                h7b6447c_0    defaults\n",
      "zeromq                    4.3.2                he1b5a44_3    conda-forge\n",
      "zipp                      3.1.0                      py_0    defaults\n",
      "zlib                      1.2.11               h7b6447c_3    defaults\n",
      "zstd                      1.4.5                h9ceee32_0    defaults\n"
     ]
    }
   ],
   "source": [
    "!conda list"
   ]
  },
  {
   "cell_type": "markdown",
   "metadata": {},
   "source": [
    "## Imports"
   ]
  },
  {
   "cell_type": "code",
   "execution_count": 5,
   "metadata": {},
   "outputs": [
    {
     "name": "stderr",
     "output_type": "stream",
     "text": [
      "Using TensorFlow backend.\n"
     ]
    },
    {
     "name": "stdout",
     "output_type": "stream",
     "text": [
      "PIL.Image  7.2.0\n",
      "networkx   2.5\n",
      "numpy      1.19.1\n",
      "prednet    0+untagged.74.g57d9b43\n",
      "matplotlib 3.3.1\n",
      "prevseg    0+untagged.61.g30d08fc\n",
      "CPython 3.7.7\n",
      "IPython 7.17.0\n"
     ]
    }
   ],
   "source": [
    "from pprint import pprint\n",
    "import os\n",
    "import numpy as np\n",
    "from six.moves import cPickle\n",
    "import matplotlib\n",
    "import matplotlib.pyplot as plt\n",
    "import matplotlib.gridspec as gridspec\n",
    "import networkx as nx\n",
    "from keras import backend as K\n",
    "from keras.preprocessing.image import Iterator\n",
    "from keras.models import Model, model_from_json\n",
    "from keras.layers import Input, Dense, Flatten\n",
    "from keras.callbacks import LearningRateScheduler, ModelCheckpoint\n",
    "from PIL import Image, ImageOps\n",
    "\n",
    "%aimport prevseg.index\n",
    "import prevseg.index as index\n",
    "%aimport prevseg.schapiro\n",
    "import prevseg.schapiro as sch\n",
    "from prevseg.schapiro import graph, walk\n",
    "\n",
    "%aimport prednet.kitti_settings\n",
    "import prednet.kitti_settings as ks\n",
    "%aimport prednet.prednet_base\n",
    "import prednet.prednet_base as pn\n",
    "%aimport prednet.data_utils\n",
    "import prednet.data_utils as utils\n",
    "\n",
    "# Keep track of versions of everything\n",
    "%watermark -v -iv"
   ]
  },
  {
   "cell_type": "markdown",
   "metadata": {},
   "source": [
    "## Creating the Schapiro Datasets"
   ]
  },
  {
   "cell_type": "code",
   "execution_count": 6,
   "metadata": {},
   "outputs": [],
   "source": [
    "batch_size = 14\n",
    "n_pentagons = 3\n",
    "max_steps = 100\n",
    "n_paths = 1\n",
    "source = 1\n",
    "\n",
    "paths_data = list(index.DIR_SCH_FRACTALS_RS.iterdir())\n",
    "np.random.shuffle(paths_data)\n",
    "paths_data = paths_data[:5*n_pentagons]\n",
    "array_data = np.array([np.load(str(path)) for path in paths_data])\n",
    "\n",
    "G = sch.graph.schapiro_graph(n_pentagons=n_pentagons)\n",
    "\n",
    "mapping = {node : path.stem for node, path in zip(range(len(G.nodes)), paths_data)}"
   ]
  },
  {
   "cell_type": "code",
   "execution_count": 7,
   "metadata": {},
   "outputs": [
    {
     "data": {
      "text/plain": [
       "(14, 100, 3, 128, 160)"
      ]
     },
     "execution_count": 7,
     "metadata": {},
     "output_type": "execute_result"
    }
   ],
   "source": [
    "def iter_single_sample(G, mode, max_steps, source=None): \n",
    "    if mode == 'random':\n",
    "        iter_walk = sch.walk.walk_random(G, steps=max_steps, source=source)\n",
    "    elif mode == 'euclidean':\n",
    "        iter_walk = sch.walk.walk_euclidean(G, source=source)\n",
    "    elif mode == 'hamiltonian':\n",
    "        iter_walk = sch.walk.walk_hamiltonian(G, source=source)\n",
    "    else:\n",
    "        raise ValueError('Invalid mode entered')\n",
    "\n",
    "    for sample in iter_walk:\n",
    "        yield array_data[sample[0]], sample[0]\n",
    "\n",
    "def iter_batch_sample(G, mode, max_steps, batch_size, source=None):\n",
    "    iter_batch = zip(*[iter_single_sample(G, mode, max_steps, source=source) \n",
    "                       for _ in range(batch_size)])\n",
    "    for batch in iter_batch:\n",
    "        data, nodes = zip(*batch)\n",
    "        yield data, nodes\n",
    "\n",
    "def iter_batch_dataset(G, mode, max_steps, batch_size, n_paths, source=None):       \n",
    "    for _ in range(n_paths):\n",
    "        data, nodes = zip(*list(iter_batch_sample(\n",
    "            G, mode, max_steps, batch_size, source=source)))\n",
    "        yield np.moveaxis(np.array(data), 0, 1), nodes\n",
    "\n",
    "fine_tune_data_iter = iter_batch_dataset(G, 'random', max_steps, batch_size, n_paths)\n",
    "fine_tune_data, fine_tune_nodes = next(fine_tune_data_iter)\n",
    "fine_tune_data.shape"
   ]
  },
  {
   "cell_type": "markdown",
   "metadata": {},
   "source": [
    "### Testing Dataset"
   ]
  },
  {
   "cell_type": "code",
   "execution_count": 8,
   "metadata": {},
   "outputs": [],
   "source": [
    "euclidean_iter = iter_batch_dataset(G, 'euclidean', None, 1, n_paths, source=source)\n",
    "_, euclidean_nodes = next(euclidean_iter)"
   ]
  },
  {
   "cell_type": "code",
   "execution_count": 9,
   "metadata": {},
   "outputs": [
    {
     "data": {
      "text/plain": [
       "[1,\n",
       " 4,\n",
       " 3,\n",
       " 2,\n",
       " 4,\n",
       " 5,\n",
       " 8,\n",
       " 9,\n",
       " 7,\n",
       " 8,\n",
       " 6,\n",
       " 7,\n",
       " 5,\n",
       " 6,\n",
       " 9,\n",
       " 10,\n",
       " 13,\n",
       " 14,\n",
       " 12,\n",
       " 13,\n",
       " 11,\n",
       " 12,\n",
       " 10,\n",
       " 11,\n",
       " 14,\n",
       " 0,\n",
       " 3,\n",
       " 1,\n",
       " 2,\n",
       " 0]"
      ]
     },
     "execution_count": 9,
     "metadata": {},
     "output_type": "execute_result"
    }
   ],
   "source": [
    "euclidean_nodes = list(np.array(euclidean_nodes).reshape(30))\n",
    "euclidean_nodes"
   ]
  },
  {
   "cell_type": "code",
   "execution_count": 10,
   "metadata": {},
   "outputs": [
    {
     "data": {
      "text/plain": [
       "(1, 36, 3, 128, 160)"
      ]
     },
     "execution_count": 10,
     "metadata": {},
     "output_type": "execute_result"
    }
   ],
   "source": [
    "# Inlcude some non-important steps the start to allow the hidden state to adapt\n",
    "initial_padding = [1,0,1,0,1,0]\n",
    "test_walk_nodes = initial_padding + euclidean_nodes\n",
    "\n",
    "test_data = np.expand_dims(np.array([array_data[n] for n in test_walk_nodes]),0)\n",
    "test_data.shape"
   ]
  },
  {
   "cell_type": "markdown",
   "metadata": {},
   "source": [
    "### Using Sequence Generators"
   ]
  },
  {
   "cell_type": "code",
   "execution_count": 11,
   "metadata": {},
   "outputs": [
    {
     "name": "stdout",
     "output_type": "stream",
     "text": [
      "Created mapping as follows:\n",
      "{0: '77', 1: '56', 2: '40', 3: '38', 4: '4', 5: '55', 6: '73', 7: '37', 8: '51', 9: '29', 10: '1', 11: '13', 12: '9', 13: '28', 14: '66'}\n",
      "0 (14, 100, 3, 128, 160)\n"
     ]
    }
   ],
   "source": [
    "class ShapiroFractalsDataset(Iterator):\n",
    "    modes = set(('random', 'euclidean', 'hamiltonian'))\n",
    "    def __init__(self, batch_size=32, n_pentagons=3, max_steps=128, n_paths=128,\n",
    "                 mapping=None, mode='random', debug=False, seed=None, shuffle=False):\n",
    "        self.batch_size = batch_size\n",
    "        self.n_pentagons = n_pentagons\n",
    "        self.max_steps = max_steps\n",
    "        self.n_paths = n_paths\n",
    "        self.mapping = mapping\n",
    "        self.mode = mode\n",
    "        self.debug = debug\n",
    "        assert self.mode in self.modes\n",
    "        \n",
    "        self.G = graph.schapiro_graph(n_pentagons=n_pentagons)\n",
    "        \n",
    "        self.load_node_stimuli()\n",
    "        \n",
    "        self.mapping = {node : path.stem\n",
    "                        for node, path in zip(range(len(self.G.nodes)),\n",
    "                                              self.paths_data)}\n",
    "        print(f'Created mapping as follows:\\n{self.mapping}')\n",
    "        \n",
    "        if self.debug:\n",
    "            self.sample_transform = lambda sample : sample\n",
    "        else:\n",
    "            self.sample_transform = lambda sample : self.array_data[sample]\n",
    "        super().__init__(self.n_paths, self.batch_size, shuffle, seed)\n",
    "        \n",
    "    def load_node_stimuli(self):\n",
    "        # Load the fractal images into memory\n",
    "        assert index.DIR_SCH_FRACTALS_RS.exists()\n",
    "        if self.mapping:\n",
    "            self.paths_data = [index.DIR_SCH_FRACTALS_RS / (name+'.npy')\n",
    "                               for name in self.mapping.values()]\n",
    "        else:\n",
    "            paths_data = list(index.DIR_SCH_FRACTALS_RS.iterdir())\n",
    "            np.random.shuffle(paths_data)\n",
    "            self.paths_data = paths_data[:5*self.n_pentagons]\n",
    "        self.array_data = np.array([np.load(str(path)) for path in self.paths_data])\n",
    "        \n",
    "    def iter_single_sample(self): \n",
    "        if self.mode == 'random':\n",
    "            iter_walk = sch.walk.walk_random(self.G, steps=self.max_steps)\n",
    "        elif self.mode == 'euclidean':\n",
    "            iter_walk = sch.walk.walk_euclidean(self.G)\n",
    "        elif self.mode == 'hamiltonian':\n",
    "            iter_walk = sch.walk.walk_hamiltonian(self.G)\n",
    "\n",
    "        for sample in iter_walk:\n",
    "            yield self.array_data[sample[0]], sample[0]\n",
    "        \n",
    "    def iter_batch_sample(self):\n",
    "        iter_batch = zip(*[self.iter_single_sample()\n",
    "                           for _ in range(self.batch_size)])\n",
    "        for batch in iter_batch:\n",
    "            data, nodes = zip(*batch)\n",
    "            yield data, nodes\n",
    "        \n",
    "    def iter_batch_dataset(self):   \n",
    "        for _ in range(self.n_paths):\n",
    "            data, nodes = zip(*list(self.iter_batch_sample()))\n",
    "            yield np.moveaxis(np.array(data), 0, 1), nodes\n",
    "        \n",
    "    def __iter__(self):\n",
    "        return self.iter_batch_dataset()\n",
    "    \n",
    "    def __getitem__(self, null):\n",
    "        data_iter = self.iter_batch_dataset()\n",
    "        data = next(data_iter)[0]\n",
    "        data2 = np.zeros(data.shape)\n",
    "        data2[:,:-1,:,:,:] = data[:,1:,:,:,:]\n",
    "        return data, data2\n",
    "    \n",
    "max_steps = 100\n",
    "epochs = 1\n",
    "batch_size = 14\n",
    "n_paths = 1\n",
    "\n",
    "iter_ds = ShapiroFractalsDataset(batch_size=batch_size, max_steps=max_steps, n_paths=n_paths,\n",
    "                                 mapping=mapping)\n",
    "for _ in range(epochs):\n",
    "    for i, batch in enumerate(iter_ds):\n",
    "        print(i, batch[0].shape)\n",
    "        if i > max_steps+5:\n",
    "            print('bad')\n",
    "            break"
   ]
  },
  {
   "cell_type": "markdown",
   "metadata": {},
   "source": [
    "### Reference Schapiro Graph"
   ]
  },
  {
   "cell_type": "code",
   "execution_count": 12,
   "metadata": {},
   "outputs": [
    {
     "data": {
      "image/png": "[encoded data removed]",
      "text/plain": [
       "<Figure size 432x288 with 1 Axes>"
      ]
     },
     "metadata": {},
     "output_type": "display_data"
    }
   ],
   "source": [
    "nx.draw(G, with_labels=True, font_weight='bold')\n",
    "plt.show()"
   ]
  },
  {
   "cell_type": "markdown",
   "metadata": {},
   "source": [
    "## Fine Tuning on the Fractals"
   ]
  },
  {
   "cell_type": "code",
   "execution_count": 17,
   "metadata": {},
   "outputs": [],
   "source": [
    "nt = fine_tune_data.shape[1]\n",
    "extrap_start_time = 10  # starting at this time step, the prediction from the previous time step will be treated as the actual input\n",
    "orig_weights_file = str(ks.WEIGHTS_DIR / 'tensorflow_weights/prednet_kitti_weights.hdf5')  # original t+1 weights\n",
    "orig_json_file = str(ks.WEIGHTS_DIR / 'prednet_kitti_model.json')\n",
    "\n",
    "fractals_weights_file = str(ks.WEIGHTS_DIR / 'tensorflow_weights/prednet_kitti_weights-fractals_finetuned.hdf5')  # where new weights will be saved\n",
    "fractals_json_file = str(ks.WEIGHTS_DIR / 'prednet_kitti_model-fractals_finetuned.json')"
   ]
  },
  {
   "cell_type": "code",
   "execution_count": 19,
   "metadata": {},
   "outputs": [
    {
     "name": "stdout",
     "output_type": "stream",
     "text": [
      "WARNING:tensorflow:From /media/data/conda/abdullah/envs/pn/lib/python3.7/site-packages/tensorflow_core/python/ops/resource_variable_ops.py:1630: calling BaseResourceVariable.__init__ (from tensorflow.python.ops.resource_variable_ops) with constraint is deprecated and will be removed in a future version.\n",
      "Instructions for updating:\n",
      "If using Keras pass *_constraint arguments to layers.\n",
      "WARNING:tensorflow:From /media/data/conda/abdullah/envs/pn/lib/python3.7/site-packages/keras/backend/tensorflow_backend.py:4070: The name tf.nn.max_pool is deprecated. Please use tf.nn.max_pool2d instead.\n",
      "\n",
      "Created mapping as follows:\n",
      "{0: '32', 1: '26', 2: '80', 3: '69', 4: '49', 5: '33', 6: '14', 7: '15', 8: '31', 9: '50', 10: '89', 11: '20', 12: '11', 13: '81', 14: '58'}\n",
      "Created mapping as follows:\n",
      "{0: '32', 1: '26', 2: '80', 3: '69', 4: '49', 5: '33', 6: '14', 7: '15', 8: '31', 9: '50', 10: '89', 11: '20', 12: '11', 13: '81', 14: '58'}\n",
      "WARNING:tensorflow:From /media/data/conda/abdullah/envs/pn/lib/python3.7/site-packages/tensorflow_core/python/ops/math_grad.py:1424: where (from tensorflow.python.ops.array_ops) is deprecated and will be removed in a future version.\n",
      "Instructions for updating:\n",
      "Use tf.where in 2.0, which has the same broadcast rule as np.where\n",
      "WARNING:tensorflow:From /media/data/conda/abdullah/envs/pn/lib/python3.7/site-packages/keras/backend/tensorflow_backend.py:422: The name tf.global_variables is deprecated. Please use tf.compat.v1.global_variables instead.\n",
      "\n",
      "Epoch 1/150\n"
     ]
    },
    {
     "ename": "ResourceExhaustedError",
     "evalue": "2 root error(s) found.\n  (0) Resource exhausted: OOM when allocating tensor with shape[14,48,128,160] and type float on /job:localhost/replica:0/task:0/device:GPU:0 by allocator GPU_0_bfc\n\t [[{{node prednet_1_1/while/convolution_17}}]]\nHint: If you want to see a list of allocated tensors when OOM happens, add report_tensor_allocations_upon_oom to RunOptions for current allocation info.\n\n\t [[Mean/_1123]]\nHint: If you want to see a list of allocated tensors when OOM happens, add report_tensor_allocations_upon_oom to RunOptions for current allocation info.\n\n  (1) Resource exhausted: OOM when allocating tensor with shape[14,48,128,160] and type float on /job:localhost/replica:0/task:0/device:GPU:0 by allocator GPU_0_bfc\n\t [[{{node prednet_1_1/while/convolution_17}}]]\nHint: If you want to see a list of allocated tensors when OOM happens, add report_tensor_allocations_upon_oom to RunOptions for current allocation info.\n\n0 successful operations.\n0 derived errors ignored.",
     "output_type": "error",
     "traceback": [
      "\u001b[0;31m---------------------------------------------------------------------------\u001b[0m",
      "\u001b[0;31mResourceExhaustedError\u001b[0m                    Traceback (most recent call last)",
      "\u001b[0;32m<ipython-input-19-cbadbe90528b>\u001b[0m in \u001b[0;36m<module>\u001b[0;34m\u001b[0m\n\u001b[1;32m     36\u001b[0m     \u001b[0mcallbacks\u001b[0m\u001b[0;34m.\u001b[0m\u001b[0mappend\u001b[0m\u001b[0;34m(\u001b[0m\u001b[0mModelCheckpoint\u001b[0m\u001b[0;34m(\u001b[0m\u001b[0mfilepath\u001b[0m\u001b[0;34m=\u001b[0m\u001b[0mextrap_weights_file\u001b[0m\u001b[0;34m,\u001b[0m \u001b[0mmonitor\u001b[0m\u001b[0;34m=\u001b[0m\u001b[0;34m'val_loss'\u001b[0m\u001b[0;34m,\u001b[0m \u001b[0msave_best_only\u001b[0m\u001b[0;34m=\u001b[0m\u001b[0;32mTrue\u001b[0m\u001b[0;34m)\u001b[0m\u001b[0;34m)\u001b[0m\u001b[0;34m\u001b[0m\u001b[0;34m\u001b[0m\u001b[0m\n\u001b[1;32m     37\u001b[0m history = model.fit_generator(train_generator, samples_per_epoch, nb_epoch, callbacks=callbacks,\n\u001b[0;32m---> 38\u001b[0;31m                 validation_data=None)\n\u001b[0m\u001b[1;32m     39\u001b[0m \u001b[0;34m\u001b[0m\u001b[0m\n\u001b[1;32m     40\u001b[0m \u001b[0;32mif\u001b[0m \u001b[0msave_model\u001b[0m\u001b[0;34m:\u001b[0m\u001b[0;34m\u001b[0m\u001b[0;34m\u001b[0m\u001b[0m\n",
      "\u001b[0;32m/media/data/conda/abdullah/envs/pn/lib/python3.7/site-packages/keras/legacy/interfaces.py\u001b[0m in \u001b[0;36mwrapper\u001b[0;34m(*args, **kwargs)\u001b[0m\n\u001b[1;32m     89\u001b[0m                 warnings.warn('Update your `' + object_name + '` call to the ' +\n\u001b[1;32m     90\u001b[0m                               'Keras 2 API: ' + signature, stacklevel=2)\n\u001b[0;32m---> 91\u001b[0;31m             \u001b[0;32mreturn\u001b[0m \u001b[0mfunc\u001b[0m\u001b[0;34m(\u001b[0m\u001b[0;34m*\u001b[0m\u001b[0margs\u001b[0m\u001b[0;34m,\u001b[0m \u001b[0;34m**\u001b[0m\u001b[0mkwargs\u001b[0m\u001b[0;34m)\u001b[0m\u001b[0;34m\u001b[0m\u001b[0;34m\u001b[0m\u001b[0m\n\u001b[0m\u001b[1;32m     92\u001b[0m         \u001b[0mwrapper\u001b[0m\u001b[0;34m.\u001b[0m\u001b[0m_original_function\u001b[0m \u001b[0;34m=\u001b[0m \u001b[0mfunc\u001b[0m\u001b[0;34m\u001b[0m\u001b[0;34m\u001b[0m\u001b[0m\n\u001b[1;32m     93\u001b[0m         \u001b[0;32mreturn\u001b[0m \u001b[0mwrapper\u001b[0m\u001b[0;34m\u001b[0m\u001b[0;34m\u001b[0m\u001b[0m\n",
      "\u001b[0;32m/media/data/conda/abdullah/envs/pn/lib/python3.7/site-packages/keras/engine/training.py\u001b[0m in \u001b[0;36mfit_generator\u001b[0;34m(self, generator, steps_per_epoch, epochs, verbose, callbacks, validation_data, validation_steps, validation_freq, class_weight, max_queue_size, workers, use_multiprocessing, shuffle, initial_epoch)\u001b[0m\n\u001b[1;32m   1730\u001b[0m             \u001b[0muse_multiprocessing\u001b[0m\u001b[0;34m=\u001b[0m\u001b[0muse_multiprocessing\u001b[0m\u001b[0;34m,\u001b[0m\u001b[0;34m\u001b[0m\u001b[0;34m\u001b[0m\u001b[0m\n\u001b[1;32m   1731\u001b[0m             \u001b[0mshuffle\u001b[0m\u001b[0;34m=\u001b[0m\u001b[0mshuffle\u001b[0m\u001b[0;34m,\u001b[0m\u001b[0;34m\u001b[0m\u001b[0;34m\u001b[0m\u001b[0m\n\u001b[0;32m-> 1732\u001b[0;31m             initial_epoch=initial_epoch)\n\u001b[0m\u001b[1;32m   1733\u001b[0m \u001b[0;34m\u001b[0m\u001b[0m\n\u001b[1;32m   1734\u001b[0m     \u001b[0;34m@\u001b[0m\u001b[0minterfaces\u001b[0m\u001b[0;34m.\u001b[0m\u001b[0mlegacy_generator_methods_support\u001b[0m\u001b[0;34m\u001b[0m\u001b[0;34m\u001b[0m\u001b[0m\n",
      "\u001b[0;32m/media/data/conda/abdullah/envs/pn/lib/python3.7/site-packages/keras/engine/training_generator.py\u001b[0m in \u001b[0;36mfit_generator\u001b[0;34m(model, generator, steps_per_epoch, epochs, verbose, callbacks, validation_data, validation_steps, validation_freq, class_weight, max_queue_size, workers, use_multiprocessing, shuffle, initial_epoch)\u001b[0m\n\u001b[1;32m    218\u001b[0m                                             \u001b[0msample_weight\u001b[0m\u001b[0;34m=\u001b[0m\u001b[0msample_weight\u001b[0m\u001b[0;34m,\u001b[0m\u001b[0;34m\u001b[0m\u001b[0;34m\u001b[0m\u001b[0m\n\u001b[1;32m    219\u001b[0m                                             \u001b[0mclass_weight\u001b[0m\u001b[0;34m=\u001b[0m\u001b[0mclass_weight\u001b[0m\u001b[0;34m,\u001b[0m\u001b[0;34m\u001b[0m\u001b[0;34m\u001b[0m\u001b[0m\n\u001b[0;32m--> 220\u001b[0;31m                                             reset_metrics=False)\n\u001b[0m\u001b[1;32m    221\u001b[0m \u001b[0;34m\u001b[0m\u001b[0m\n\u001b[1;32m    222\u001b[0m                 \u001b[0mouts\u001b[0m \u001b[0;34m=\u001b[0m \u001b[0mto_list\u001b[0m\u001b[0;34m(\u001b[0m\u001b[0mouts\u001b[0m\u001b[0;34m)\u001b[0m\u001b[0;34m\u001b[0m\u001b[0;34m\u001b[0m\u001b[0m\n",
      "\u001b[0;32m/media/data/conda/abdullah/envs/pn/lib/python3.7/site-packages/keras/engine/training.py\u001b[0m in \u001b[0;36mtrain_on_batch\u001b[0;34m(self, x, y, sample_weight, class_weight, reset_metrics)\u001b[0m\n\u001b[1;32m   1512\u001b[0m             \u001b[0mins\u001b[0m \u001b[0;34m=\u001b[0m \u001b[0mx\u001b[0m \u001b[0;34m+\u001b[0m \u001b[0my\u001b[0m \u001b[0;34m+\u001b[0m \u001b[0msample_weights\u001b[0m\u001b[0;34m\u001b[0m\u001b[0;34m\u001b[0m\u001b[0m\n\u001b[1;32m   1513\u001b[0m         \u001b[0mself\u001b[0m\u001b[0;34m.\u001b[0m\u001b[0m_make_train_function\u001b[0m\u001b[0;34m(\u001b[0m\u001b[0;34m)\u001b[0m\u001b[0;34m\u001b[0m\u001b[0;34m\u001b[0m\u001b[0m\n\u001b[0;32m-> 1514\u001b[0;31m         \u001b[0moutputs\u001b[0m \u001b[0;34m=\u001b[0m \u001b[0mself\u001b[0m\u001b[0;34m.\u001b[0m\u001b[0mtrain_function\u001b[0m\u001b[0;34m(\u001b[0m\u001b[0mins\u001b[0m\u001b[0;34m)\u001b[0m\u001b[0;34m\u001b[0m\u001b[0;34m\u001b[0m\u001b[0m\n\u001b[0m\u001b[1;32m   1515\u001b[0m \u001b[0;34m\u001b[0m\u001b[0m\n\u001b[1;32m   1516\u001b[0m         \u001b[0;32mif\u001b[0m \u001b[0mreset_metrics\u001b[0m\u001b[0;34m:\u001b[0m\u001b[0;34m\u001b[0m\u001b[0;34m\u001b[0m\u001b[0m\n",
      "\u001b[0;32m/media/data/conda/abdullah/envs/pn/lib/python3.7/site-packages/tensorflow_core/python/keras/backend.py\u001b[0m in \u001b[0;36m__call__\u001b[0;34m(self, inputs)\u001b[0m\n\u001b[1;32m   3474\u001b[0m \u001b[0;34m\u001b[0m\u001b[0m\n\u001b[1;32m   3475\u001b[0m     fetched = self._callable_fn(*array_vals,\n\u001b[0;32m-> 3476\u001b[0;31m                                 run_metadata=self.run_metadata)\n\u001b[0m\u001b[1;32m   3477\u001b[0m     \u001b[0mself\u001b[0m\u001b[0;34m.\u001b[0m\u001b[0m_call_fetch_callbacks\u001b[0m\u001b[0;34m(\u001b[0m\u001b[0mfetched\u001b[0m\u001b[0;34m[\u001b[0m\u001b[0;34m-\u001b[0m\u001b[0mlen\u001b[0m\u001b[0;34m(\u001b[0m\u001b[0mself\u001b[0m\u001b[0;34m.\u001b[0m\u001b[0m_fetches\u001b[0m\u001b[0;34m)\u001b[0m\u001b[0;34m:\u001b[0m\u001b[0;34m]\u001b[0m\u001b[0;34m)\u001b[0m\u001b[0;34m\u001b[0m\u001b[0;34m\u001b[0m\u001b[0m\n\u001b[1;32m   3478\u001b[0m     output_structure = nest.pack_sequence_as(\n",
      "\u001b[0;32m/media/data/conda/abdullah/envs/pn/lib/python3.7/site-packages/tensorflow_core/python/client/session.py\u001b[0m in \u001b[0;36m__call__\u001b[0;34m(self, *args, **kwargs)\u001b[0m\n\u001b[1;32m   1470\u001b[0m         ret = tf_session.TF_SessionRunCallable(self._session._session,\n\u001b[1;32m   1471\u001b[0m                                                \u001b[0mself\u001b[0m\u001b[0;34m.\u001b[0m\u001b[0m_handle\u001b[0m\u001b[0;34m,\u001b[0m \u001b[0margs\u001b[0m\u001b[0;34m,\u001b[0m\u001b[0;34m\u001b[0m\u001b[0;34m\u001b[0m\u001b[0m\n\u001b[0;32m-> 1472\u001b[0;31m                                                run_metadata_ptr)\n\u001b[0m\u001b[1;32m   1473\u001b[0m         \u001b[0;32mif\u001b[0m \u001b[0mrun_metadata\u001b[0m\u001b[0;34m:\u001b[0m\u001b[0;34m\u001b[0m\u001b[0;34m\u001b[0m\u001b[0m\n\u001b[1;32m   1474\u001b[0m           \u001b[0mproto_data\u001b[0m \u001b[0;34m=\u001b[0m \u001b[0mtf_session\u001b[0m\u001b[0;34m.\u001b[0m\u001b[0mTF_GetBuffer\u001b[0m\u001b[0;34m(\u001b[0m\u001b[0mrun_metadata_ptr\u001b[0m\u001b[0;34m)\u001b[0m\u001b[0;34m\u001b[0m\u001b[0;34m\u001b[0m\u001b[0m\n",
      "\u001b[0;31mResourceExhaustedError\u001b[0m: 2 root error(s) found.\n  (0) Resource exhausted: OOM when allocating tensor with shape[14,48,128,160] and type float on /job:localhost/replica:0/task:0/device:GPU:0 by allocator GPU_0_bfc\n\t [[{{node prednet_1_1/while/convolution_17}}]]\nHint: If you want to see a list of allocated tensors when OOM happens, add report_tensor_allocations_upon_oom to RunOptions for current allocation info.\n\n\t [[Mean/_1123]]\nHint: If you want to see a list of allocated tensors when OOM happens, add report_tensor_allocations_upon_oom to RunOptions for current allocation info.\n\n  (1) Resource exhausted: OOM when allocating tensor with shape[14,48,128,160] and type float on /job:localhost/replica:0/task:0/device:GPU:0 by allocator GPU_0_bfc\n\t [[{{node prednet_1_1/while/convolution_17}}]]\nHint: If you want to see a list of allocated tensors when OOM happens, add report_tensor_allocations_upon_oom to RunOptions for current allocation info.\n\n0 successful operations.\n0 derived errors ignored."
     ]
    }
   ],
   "source": [
    "save_model = False\n",
    "nb_epoch = 150\n",
    "batch_size = 14\n",
    "samples_per_epoch = None\n",
    "N_seq_val = 50  # number of sequences to use for validation\n",
    "\n",
    "# Load t+1 model\n",
    "f = open(orig_json_file, 'r')\n",
    "json_string = f.read()\n",
    "f.close()\n",
    "orig_model = model_from_json(json_string, custom_objects = {'PredNet': pn.PredNet})\n",
    "orig_model.load_weights(orig_weights_file)\n",
    "\n",
    "layer_config = orig_model.layers[1].get_config()\n",
    "layer_config['output_mode'] = 'prediction'\n",
    "data_format = layer_config['data_format'] if 'data_format' in layer_config else layer_config['dim_ordering']\n",
    "prednet = pn.PredNet(weights=orig_model.layers[1].get_weights(), **layer_config)\n",
    "\n",
    "input_shape = list(orig_model.layers[0].batch_input_shape[1:])\n",
    "input_shape[0] = nt\n",
    "\n",
    "inputs = Input(input_shape)\n",
    "predictions = prednet(inputs)\n",
    "model = Model(inputs=inputs, outputs=predictions)\n",
    "model.compile(loss='mean_absolute_error', optimizer='adam')\n",
    "\n",
    "train_generator = ShapiroFractalsDataset(batch_size=batch_size, max_steps=max_steps, n_paths=n_paths,\n",
    "                                    mapping=mapping)\n",
    "val_generator = ShapiroFractalsDataset(batch_size=batch_size, max_steps=max_steps, n_paths=n_paths,\n",
    "                                  mapping=mapping)\n",
    "                                  \n",
    "lr_schedule = lambda epoch: 0.001 if epoch < 75 else 0.0001    # start with lr of 0.001 and then drop to 0.0001 after 75 epochs\n",
    "callbacks = [LearningRateScheduler(lr_schedule)]\n",
    "if save_model:\n",
    "    if not os.path.exists(WEIGHTS_DIR): os.mkdir(WEIGHTS_DIR)\n",
    "    callbacks.append(ModelCheckpoint(filepath=extrap_weights_file, monitor='val_loss', save_best_only=True))\n",
    "history = model.fit_generator(train_generator, samples_per_epoch, nb_epoch, callbacks=callbacks,\n",
    "                validation_data=None)\n",
    "\n",
    "if save_model:\n",
    "    json_string = model.to_json()\n",
    "    with open(extrap_json_file, \"w\") as f:\n",
    "        f.write(json_string)"
   ]
  },
  {
   "cell_type": "markdown",
   "metadata": {},
   "source": [
    "Ran out of GPU memory so I'm doing something wrong. Need to investigate the sequence generator."
   ]
  },
  {
   "cell_type": "markdown",
   "metadata": {},
   "source": [
    "## Inspecting the PN Sequence Generator"
   ]
  },
  {
   "cell_type": "code",
   "execution_count": 15,
   "metadata": {},
   "outputs": [],
   "source": [
    "train_file = str(ks.DATA_DIR / 'X_train.hkl')\n",
    "train_sources = str(ks.DATA_DIR / 'sources_train.hkl')\n",
    "train_generator = utils.SequenceGenerator(\n",
    "    train_file, \n",
    "    train_sources, \n",
    "    nt=15, \n",
    "    batch_size=batch_size, \n",
    "    shuffle=True, \n",
    "    output_mode='prediction')"
   ]
  },
  {
   "cell_type": "code",
   "execution_count": 21,
   "metadata": {},
   "outputs": [
    {
     "name": "stdout",
     "output_type": "stream",
     "text": [
      "(14, 15, 128, 160, 3)\n"
     ]
    }
   ],
   "source": [
    "for val in train_generator:\n",
    "    print(val[0].shape)\n",
    "    break"
   ]
  },
  {
   "cell_type": "markdown",
   "metadata": {},
   "source": [
    "Might be trying to load the whole sequence into memory. Try just 15 frames. Also channels are last here..."
   ]
  },
  {
   "cell_type": "markdown",
   "metadata": {},
   "source": [
    "## Training with batch_size=4\n",
    "\n",
    "Turns out it wasn't path length but the batch size."
   ]
  },
  {
   "cell_type": "code",
   "execution_count": 13,
   "metadata": {},
   "outputs": [],
   "source": [
    "nt = fine_tune_data.shape[1]\n",
    "extrap_start_time = 10  # starting at this time step, the prediction from the previous time step will be treated as the actual input\n",
    "orig_weights_file = str(ks.WEIGHTS_DIR / 'tensorflow_weights/prednet_kitti_weights.hdf5')  # original t+1 weights\n",
    "orig_json_file = str(ks.WEIGHTS_DIR / 'prednet_kitti_model.json')\n",
    "\n",
    "fractals_weights_file = str(ks.WEIGHTS_DIR / 'tensorflow_weights/prednet_kitti_weights-fractals_finetuned.hdf5')  # where new weights will be saved\n",
    "fractals_json_file = str(ks.WEIGHTS_DIR / 'prednet_kitti_model-fractals_finetuned.json')"
   ]
  },
  {
   "cell_type": "code",
   "execution_count": null,
   "metadata": {},
   "outputs": [
    {
     "name": "stdout",
     "output_type": "stream",
     "text": [
      "Created mapping as follows:\n",
      "{0: '77', 1: '56', 2: '40', 3: '38', 4: '4', 5: '55', 6: '73', 7: '37', 8: '51', 9: '29', 10: '1', 11: '13', 12: '9', 13: '28', 14: '66'}\n",
      "Created mapping as follows:\n",
      "{0: '77', 1: '56', 2: '40', 3: '38', 4: '4', 5: '55', 6: '73', 7: '37', 8: '51', 9: '29', 10: '1', 11: '13', 12: '9', 13: '28', 14: '66'}\n",
      "Epoch 1/150\n",
      "25/25 [==============================] - 154s 6s/step - loss: 78.2621\n",
      "Epoch 2/150\n",
      "25/25 [==============================] - 127s 5s/step - loss: 78.1808\n",
      "Epoch 3/150\n",
      " 9/25 [=========>....................] - ETA: 1:19 - loss: 78.1867"
     ]
    }
   ],
   "source": [
    "save_model = False\n",
    "nb_epoch = 150\n",
    "batch_size = 4\n",
    "samples_per_epoch = None\n",
    "N_seq_val = 50  # number of sequences to use for validation\n",
    "max_steps = 100\n",
    "n_paths = 100\n",
    "nt = max_steps\n",
    "\n",
    "# Load t+1 model\n",
    "f = open(orig_json_file, 'r')\n",
    "json_string = f.read()\n",
    "f.close()\n",
    "orig_model = model_from_json(json_string, custom_objects = {'PredNet': pn.PredNet})\n",
    "orig_model.load_weights(orig_weights_file)\n",
    "\n",
    "layer_config = orig_model.layers[1].get_config()\n",
    "layer_config['output_mode'] = 'prediction'\n",
    "data_format = layer_config['data_format'] if 'data_format' in layer_config else layer_config['dim_ordering']\n",
    "prednet = pn.PredNet(weights=orig_model.layers[1].get_weights(), **layer_config)\n",
    "\n",
    "input_shape = list(orig_model.layers[0].batch_input_shape[1:])\n",
    "input_shape[0] = nt\n",
    "\n",
    "inputs = Input(input_shape)\n",
    "predictions = prednet(inputs)\n",
    "model = Model(inputs=inputs, outputs=predictions)\n",
    "model.compile(loss='mean_absolute_error', optimizer='adam')\n",
    "\n",
    "train_generator = ShapiroFractalsDataset(batch_size=batch_size, max_steps=max_steps, n_paths=n_paths,\n",
    "                                    mapping=mapping)\n",
    "val_generator = ShapiroFractalsDataset(batch_size=batch_size, max_steps=max_steps, n_paths=n_paths,\n",
    "                                  mapping=mapping)\n",
    "                                  \n",
    "lr_schedule = lambda epoch: 0.0001 if epoch < 75 else 0.0000333    # start with lr of 0.001 and then drop to 0.0001 after 75 epochs\n",
    "callbacks = [LearningRateScheduler(lr_schedule)]\n",
    "if save_model:\n",
    "    if not os.path.exists(WEIGHTS_DIR): os.mkdir(WEIGHTS_DIR)\n",
    "    callbacks.append(ModelCheckpoint(filepath=extrap_weights_file, monitor='val_loss', save_best_only=True))\n",
    "history = model.fit_generator(train_generator, samples_per_epoch, nb_epoch, callbacks=callbacks,\n",
    "                validation_data=None)\n",
    "\n",
    "if save_model:\n",
    "    json_string = model.to_json()\n",
    "    with open(extrap_json_file, \"w\") as f:\n",
    "        f.write(json_string)"
   ]
  },
  {
   "cell_type": "code",
   "execution_count": null,
   "metadata": {},
   "outputs": [],
   "source": []
  }
 ],
 "metadata": {
  "anaconda-cloud": {},
  "kernelspec": {
   "display_name": "Python 3",
   "language": "python",
   "name": "python3"
  },
  "language_info": {
   "codemirror_mode": {
    "name": "ipython",
    "version": 3
   },
   "file_extension": ".py",
   "mimetype": "text/x-python",
   "name": "python",
   "nbconvert_exporter": "python",
   "pygments_lexer": "ipython3",
   "version": "3.7.7"
  }
 },
 "nbformat": 4,
 "nbformat_minor": 4
}
