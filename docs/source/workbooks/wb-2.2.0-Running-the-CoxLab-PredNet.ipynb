{
 "cells": [
  {
   "cell_type": "markdown",
   "metadata": {},
   "source": [
    "# 2.2.0 Creating MDS Plots for PredNet\n",
    "\n",
    "Creating MDS (or some other dim redux) plots on the nodes "
   ]
  },
  {
   "cell_type": "markdown",
   "metadata": {},
   "source": [
    "## Jupyter Extensions"
   ]
  },
  {
   "cell_type": "markdown",
   "metadata": {},
   "source": [
    "Load [watermark](https://github.com/rasbt/watermark) to see the state of the machine and environment that's running the notebook. To make sense of the options, take a look at the [usage](https://github.com/rasbt/watermark#usage) section of the readme."
   ]
  },
  {
   "cell_type": "code",
   "execution_count": 1,
   "metadata": {},
   "outputs": [
    {
     "name": "stdout",
     "output_type": "stream",
     "text": [
      "Tue Aug 25 2020 13:56:37 \n",
      "\n",
      "compiler   : GCC 7.5.0\n",
      "system     : Linux\n",
      "release    : 5.4.0-42-generic\n",
      "machine    : x86_64\n",
      "processor  : x86_64\n",
      "CPU cores  : 4\n",
      "interpreter: 64bit\n",
      "host name  : apra-x3\n",
      "Git hash   : ce168efca421431682bca49963f4398116969e68\n",
      "Git branch : master\n"
     ]
    }
   ],
   "source": [
    "# Load `watermark` extension\n",
    "%load_ext watermark\n",
    "# Display the status of the machine and other non-code related info\n",
    "%watermark -n -m -g -b -t -h"
   ]
  },
  {
   "cell_type": "markdown",
   "metadata": {},
   "source": [
    "Load [autoreload](https://ipython.org/ipython-doc/3/config/extensions/autoreload.html) which will always reload modules marked with `%aimport`.\n",
    "\n",
    "This behavior can be inverted by running `autoreload 2` which will set everything to be auto-reloaded *except* for modules marked with `%aimport`."
   ]
  },
  {
   "cell_type": "code",
   "execution_count": 2,
   "metadata": {},
   "outputs": [],
   "source": [
    "# Load `autoreload` extension\n",
    "%load_ext autoreload\n",
    "# Set autoreload behavior\n",
    "%autoreload 1"
   ]
  },
  {
   "cell_type": "markdown",
   "metadata": {},
   "source": [
    "Load `matplotlib` in one of the more `jupyter`-friendly [rich-output modes](https://ipython.readthedocs.io/en/stable/interactive/plotting.html). Some options (that may or may not have worked) are `inline`, `notebook`, and `gtk`."
   ]
  },
  {
   "cell_type": "code",
   "execution_count": 3,
   "metadata": {},
   "outputs": [],
   "source": [
    "# Set the matplotlib mode\n",
    "%matplotlib inline"
   ]
  },
  {
   "cell_type": "markdown",
   "metadata": {},
   "source": [
    "## Conda Env\n"
   ]
  },
  {
   "cell_type": "code",
   "execution_count": 4,
   "metadata": {
    "collapsed": true,
    "jupyter": {
     "outputs_hidden": true
    }
   },
   "outputs": [
    {
     "name": "stdout",
     "output_type": "stream",
     "text": [
      "# packages in environment at /home/apra/miniconda3/envs/pn:\n",
      "#\n",
      "# Name                    Version                   Build  Channel\n",
      "_libgcc_mutex             0.1                 conda_forge    conda-forge\n",
      "_openmp_mutex             4.5                       1_gnu    conda-forge\n",
      "_tflow_select             2.1.0                       gpu    anaconda\n",
      "absl-py                   0.9.0            py37hc8dfbb8_1    conda-forge\n",
      "argon2-cffi               20.1.0                   pypi_0    pypi\n",
      "astor                     0.8.1              pyh9f0ad1d_0    conda-forge\n",
      "async-generator           1.10                     pypi_0    pypi\n",
      "attrs                     20.1.0             pyh9f0ad1d_0    conda-forge\n",
      "babel                     2.8.0                    pypi_0    pypi\n",
      "backcall                  0.2.0                    pypi_0    pypi\n",
      "beautifulsoup4            4.9.1                      py_1    conda-forge\n",
      "bleach                    3.1.5                    pypi_0    pypi\n",
      "brotlipy                  0.7.0           py37h8f50634_1000    conda-forge\n",
      "c-ares                    1.16.1               h516909a_2    conda-forge\n",
      "ca-certificates           2020.6.20            hecda079_0    conda-forge\n",
      "certifi                   2020.6.20        py37hc8dfbb8_0    conda-forge\n",
      "cffi                      1.14.1           py37h2b28604_0    conda-forge\n",
      "chardet                   3.0.4           py37hc8dfbb8_1006    conda-forge\n",
      "codecov                   2.1.9              pyh9f0ad1d_0    conda-forge\n",
      "coloredlogs               14.0             py37hc8dfbb8_1    conda-forge\n",
      "coverage                  5.2.1            py37h8f50634_0    conda-forge\n",
      "cryptography              3.0              py37hb09aad4_0    conda-forge\n",
      "cudatoolkit               10.0.130                      0    anaconda\n",
      "cudnn                     7.6.5                cuda10.0_0    anaconda\n",
      "cupti                     10.0.130                      0    anaconda\n",
      "cycler                    0.10.0                     py_2    conda-forge\n",
      "decorator                 4.4.2                    pypi_0    pypi\n",
      "defusedxml                0.7.0rc1                 pypi_0    pypi\n",
      "dill                      0.3.2                    pypi_0    pypi\n",
      "entrypoints               0.3                      pypi_0    pypi\n",
      "ffmpeg-python             0.2.0                    pypi_0    pypi\n",
      "flake8                    3.8.3                      py_1    conda-forge\n",
      "freetype                  2.10.2               he06d7ca_0    conda-forge\n",
      "future                    0.18.2                   pypi_0    pypi\n",
      "gast                      0.2.2                      py_0    conda-forge\n",
      "google-pasta              0.2.0              pyh8c360ce_0    conda-forge\n",
      "grpcio                    1.31.0           py37hb0870dc_0    conda-forge\n",
      "h5py                      2.10.0          nompi_py37h90cd8ad_104    conda-forge\n",
      "hdf5                      1.10.6          nompi_h3c11f04_101    conda-forge\n",
      "hickle                    2.1.0                    pypi_0    pypi\n",
      "humanfriendly             8.2              py37hc8dfbb8_0    conda-forge\n",
      "idna                      2.10               pyh9f0ad1d_0    conda-forge\n",
      "imageio                   2.9.0                      py_0    conda-forge\n",
      "imageio-ffmpeg            0.4.2                    pypi_0    pypi\n",
      "importlib-metadata        1.7.0            py37hc8dfbb8_0    conda-forge\n",
      "importlib_metadata        1.7.0                         0    conda-forge\n",
      "iniconfig                 1.0.1              pyh9f0ad1d_0    conda-forge\n",
      "ipykernel                 5.3.4                    pypi_0    pypi\n",
      "ipython                   7.17.0                   pypi_0    pypi\n",
      "ipython-genutils          0.2.0                    pypi_0    pypi\n",
      "ipython_genutils          0.2.0                    py37_0    defaults\n",
      "jedi                      0.17.2                   pypi_0    pypi\n",
      "jinja2                    3.0.0a1                  pypi_0    pypi\n",
      "jpeg                      9d                   h516909a_0    conda-forge\n",
      "json5                     0.9.5                    pypi_0    pypi\n",
      "jsonschema                3.2.0                    pypi_0    pypi\n",
      "jupyter-client            6.1.6                    pypi_0    pypi\n",
      "jupyter-core              4.6.3                    pypi_0    pypi\n",
      "jupyter-server            1.0.0rc7                 pypi_0    pypi\n",
      "jupyter_client            6.1.6                      py_0    defaults\n",
      "jupyter_core              4.6.3                    py37_0    defaults\n",
      "jupyterlab                3.0.0a14                 pypi_0    pypi\n",
      "jupyterlab-pygments       0.1.1                    pypi_0    pypi\n",
      "jupyterlab-server         2.0.0b2                  pypi_0    pypi\n",
      "jupyterlab_server         1.2.0                      py_0    defaults\n",
      "keras                     2.3.1                    py37_0    conda-forge\n",
      "keras-applications        1.0.8                      py_1    conda-forge\n",
      "keras-preprocessing       1.1.0                      py_0    conda-forge\n",
      "kiwisolver                1.2.0            py37h99015e2_0    conda-forge\n",
      "lcms2                     2.11                 hbd6801e_0    conda-forge\n",
      "ld_impl_linux-64          2.34                 hc38a660_9    conda-forge\n",
      "libblas                   3.8.0               17_openblas    conda-forge\n",
      "libcblas                  3.8.0               17_openblas    conda-forge\n",
      "libffi                    3.2.1             he1b5a44_1007    conda-forge\n",
      "libgcc-ng                 9.3.0               h24d8f2e_16    conda-forge\n",
      "libgfortran-ng            7.5.0               hdf63c60_16    conda-forge\n",
      "libgomp                   9.3.0               h24d8f2e_16    conda-forge\n",
      "libgpuarray               0.7.6             h14c3975_1003    conda-forge\n",
      "liblapack                 3.8.0               17_openblas    conda-forge\n",
      "libopenblas               0.3.10          pthreads_hb3c22a3_4    conda-forge\n",
      "libpng                    1.6.37               hed695b0_2    conda-forge\n",
      "libprotobuf               3.13.0               h8b12597_0    conda-forge\n",
      "libsodium                 1.0.18               h7b6447c_0    defaults\n",
      "libstdcxx-ng              9.3.0               hdf63c60_16    conda-forge\n",
      "libtiff                   4.1.0                hc7e4089_6    conda-forge\n",
      "libwebp-base              1.1.0                h516909a_3    conda-forge\n",
      "lz4-c                     1.9.2                he1b5a44_3    conda-forge\n",
      "mako                      1.1.3              pyh9f0ad1d_0    conda-forge\n",
      "markdown                  3.2.2                      py_0    conda-forge\n",
      "markupsafe                1.1.1            py37h8f50634_1    conda-forge\n",
      "matplotlib                3.3.1                         1    conda-forge\n",
      "matplotlib-base           3.3.1            py37hd478181_1    conda-forge\n",
      "mccabe                    0.6.1                      py_1    conda-forge\n",
      "mistune                   0.8.4                    pypi_0    pypi\n",
      "more-itertools            8.4.0                      py_0    conda-forge\n",
      "nbclassic                 0.2.0rc4                 pypi_0    pypi\n",
      "nbclient                  0.4.1                    pypi_0    pypi\n",
      "nbconvert                 6.0.0b7                  pypi_0    pypi\n",
      "nbformat                  5.0.7                    pypi_0    pypi\n",
      "ncurses                   6.2                  he1b5a44_1    conda-forge\n",
      "nest-asyncio              1.4.0                    pypi_0    pypi\n",
      "notebook                  6.1.3                    pypi_0    pypi\n",
      "numpy                     1.19.1           py37h7ea13bd_2    conda-forge\n",
      "olefile                   0.46                       py_0    conda-forge\n",
      "openssl                   1.1.1g               h516909a_1    conda-forge\n",
      "opt-einsum                3.3.0                    pypi_0    pypi\n",
      "opt_einsum                3.3.0                      py_0    conda-forge\n",
      "packaging                 20.4               pyh9f0ad1d_0    conda-forge\n",
      "pandoc                    2.10.1                        0    defaults\n",
      "pandocfilters             1.4.2                    py37_1    defaults\n",
      "parso                     0.7.1                    pypi_0    pypi\n",
      "pexpect                   4.8.0                    pypi_0    pypi\n",
      "pickleshare               0.7.5                    pypi_0    pypi\n",
      "pillow                    7.2.0            py37h718be6c_1    conda-forge\n",
      "pip                       20.2.2                     py_0    conda-forge\n",
      "pluggy                    0.13.1           py37hc8dfbb8_2    conda-forge\n",
      "prednet                   0+untagged.69.g843b452.dirty           dev_0    <develop>\n",
      "prometheus-client         0.8.0                    pypi_0    pypi\n",
      "prometheus_client         0.8.0                      py_0    defaults\n",
      "prompt-toolkit            3.0.6                    pypi_0    pypi\n",
      "protobuf                  3.13.0           py37h3340039_0    conda-forge\n",
      "ptyprocess                0.6.0                    pypi_0    pypi\n",
      "py                        1.9.0              pyh9f0ad1d_0    conda-forge\n",
      "pycodestyle               2.6.0              pyh9f0ad1d_0    conda-forge\n",
      "pycparser                 2.20               pyh9f0ad1d_2    conda-forge\n",
      "pyflakes                  2.2.0              pyh9f0ad1d_0    conda-forge\n",
      "pygments                  2.6.1                    pypi_0    pypi\n",
      "pygpu                     0.7.6           py37h03ebfcd_1001    conda-forge\n",
      "pyopenssl                 19.1.0                     py_1    conda-forge\n",
      "pyparsing                 2.4.7              pyh9f0ad1d_0    conda-forge\n",
      "pyrsistent                0.16.0                   pypi_0    pypi\n",
      "pysocks                   1.7.1            py37hc8dfbb8_1    conda-forge\n",
      "pytest                    6.0.1            py37hc8dfbb8_0    conda-forge\n",
      "python                    3.7.8           h6f2ec95_1_cpython    conda-forge\n",
      "python-dateutil           2.8.1                      py_0    conda-forge\n",
      "python_abi                3.7                     1_cp37m    conda-forge\n",
      "pytz                      2020.1                   pypi_0    pypi\n",
      "pyyaml                    5.3.1            py37h8f50634_0    conda-forge\n",
      "pyzmq                     19.0.2                   pypi_0    pypi\n",
      "readline                  8.0                  he28a2e2_2    conda-forge\n",
      "requests                  2.24.0             pyh9f0ad1d_0    conda-forge\n",
      "scikit-video              1.1.11                   pypi_0    pypi\n",
      "scipy                     1.5.2            py37hb14ef9d_0    conda-forge\n",
      "send2trash                1.6.0b1                  pypi_0    pypi\n",
      "setuptools                49.6.0           py37hc8dfbb8_0    conda-forge\n",
      "six                       1.15.0             pyh9f0ad1d_0    conda-forge\n",
      "soupsieve                 2.0.1                      py_1    conda-forge\n",
      "sqlite                    3.33.0               h4cf870e_0    conda-forge\n",
      "tensorboard               1.15.0                   py37_0    conda-forge\n",
      "tensorflow                1.15.0          gpu_py37h0f0df58_0    anaconda\n",
      "tensorflow-base           1.15.0          gpu_py37h9dcbed7_0    anaconda\n",
      "tensorflow-estimator      1.15.1             pyh2649769_0    anaconda\n",
      "tensorflow-gpu            1.15.3                   pypi_0    pypi\n",
      "termcolor                 1.1.0                      py_2    conda-forge\n",
      "terminado                 0.8.3                    pypi_0    pypi\n",
      "testpath                  0.4.4                    pypi_0    pypi\n",
      "theano                    1.0.3            py37hfc679d8_1    conda-forge\n",
      "tk                        8.6.10               hed695b0_0    conda-forge\n",
      "toml                      0.10.1             pyh9f0ad1d_0    conda-forge\n",
      "toolchain                 2.4.0                         0    anaconda\n",
      "toolchain_c_linux-64      2.4.0                         0    anaconda\n",
      "toolchain_cxx_linux-64    2.4.0                         0    anaconda\n",
      "tornado                   6.0.4            py37h8f50634_1    conda-forge\n",
      "traitlets                 5.0.0rc2                 pypi_0    pypi\n",
      "urllib3                   1.25.10                    py_0    conda-forge\n",
      "versioneer                0.18                       py_1    conda-forge\n",
      "watermark                 2.0.2                      py_0    conda-forge\n",
      "wcwidth                   0.2.5                    pypi_0    pypi\n",
      "webencodings              0.5.1                    pypi_0    pypi\n",
      "werkzeug                  0.16.1                     py_0    conda-forge\n",
      "wheel                     0.35.1                   pypi_0    pypi\n",
      "wrapt                     1.12.1           py37h8f50634_1    conda-forge\n",
      "xz                        5.2.5                h516909a_1    conda-forge\n",
      "yaml                      0.2.5                h516909a_0    conda-forge\n",
      "zeromq                    4.3.2                he6710b0_2    defaults\n",
      "zipp                      3.1.0                      py_0    conda-forge\n",
      "zlib                      1.2.11            h516909a_1007    conda-forge\n",
      "zstd                      1.4.5                h6597ccf_2    conda-forge\n"
     ]
    }
   ],
   "source": [
    "!conda list"
   ]
  },
  {
   "cell_type": "markdown",
   "metadata": {},
   "source": [
    "## Imports"
   ]
  },
  {
   "cell_type": "code",
   "execution_count": 4,
   "metadata": {},
   "outputs": [
    {
     "name": "stdout",
     "output_type": "stream",
     "text": [
      "networkx          2.4\n",
      "numpy             1.19.1\n",
      "logging           0.5.1.2\n",
      "PIL.Image         7.2.0\n",
      "pytorch_lightning 0.8.5\n",
      "prevseg           0+untagged.47.g3a3dff8.dirty\n",
      "torch             1.6.0\n",
      "CPython 3.8.5\n",
      "IPython 7.16.1\n"
     ]
    }
   ],
   "source": [
    "import gc\n",
    "import logging\n",
    "from argparse import Namespace\n",
    "from pathlib import Path\n",
    "\n",
    "import numpy as np\n",
    "import networkx as nx\n",
    "import matplotlib.pyplot as plt\n",
    "import torch\n",
    "import pytorch_lightning as pl\n",
    "from PIL import Image, ImageOps\n",
    "from torch.utils.data import IterableDataset, DataLoader\n",
    "\n",
    "%aimport prevseg.constants\n",
    "import prevseg.constants as const\n",
    "%aimport prevseg.index\n",
    "import prevseg.index as index\n",
    "%aimport prevseg.dataloaders.schapiro\n",
    "import prevseg.dataloaders.schapiro as sch\n",
    "%aimport prevseg.schapiro\n",
    "from prevseg.schapiro import walk, graph\n",
    "%aimport prevseg.models.prednet\n",
    "import prevseg.models.prednet as prednet\n",
    "\n",
    "# Keep track of versions of everything\n",
    "%watermark -v -iv"
   ]
  }
 ],
 "metadata": {
  "anaconda-cloud": {},
  "kernelspec": {
   "display_name": "Python 3",
   "language": "python",
   "name": "python3"
  },
  "language_info": {
   "codemirror_mode": {
    "name": "ipython",
    "version": 3
   },
   "file_extension": ".py",
   "mimetype": "text/x-python",
   "name": "python",
   "nbconvert_exporter": "python",
   "pygments_lexer": "ipython3",
   "version": "3.7.8"
  }
 },
 "nbformat": 4,
 "nbformat_minor": 4
}
