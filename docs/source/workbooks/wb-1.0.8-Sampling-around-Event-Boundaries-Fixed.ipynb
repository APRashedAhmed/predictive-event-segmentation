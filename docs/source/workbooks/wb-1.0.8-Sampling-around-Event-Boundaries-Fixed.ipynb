{
 "cells": [
  {
   "cell_type": "markdown",
   "metadata": {},
   "source": [
    "# 4.0.8 Sampling around Event Boundaries Fixed\n",
    "\n",
    "A notebook that aims to credo 4.0.4 but with the correct data assembled in 4.0.6, and do so for both 64 Dim and I3D."
   ]
  },
  {
   "cell_type": "markdown",
   "metadata": {},
   "source": [
    "## Jupyter Extensions"
   ]
  },
  {
   "cell_type": "markdown",
   "metadata": {},
   "source": [
    "Load [watermark](https://github.com/rasbt/watermark) to see the state of the machine and environment that's running the notebook. To make sense of the options, take a look at the [usage](https://github.com/rasbt/watermark#usage) section of the readme."
   ]
  },
  {
   "cell_type": "code",
   "execution_count": 1,
   "metadata": {},
   "outputs": [
    {
     "name": "stdout",
     "output_type": "stream",
     "text": [
      "Wed Feb 26 2020 16:05:56 \n",
      "\n",
      "CPython 3.6.10\n",
      "IPython 7.12.0\n",
      "\n",
      "torch 1.2.0\n",
      "torchvision 0.1.8\n",
      "cv2 3.4.2\n",
      "h5py 2.8.0\n",
      "pandas 1.0.1\n",
      "matplotlib 3.1.3\n",
      "seaborn 0.10.0\n",
      "jupyterlab 1.2.6\n",
      "lab 0+untagged.29.g1bb7899.dirty\n",
      "\n",
      "compiler   : GCC 7.3.0\n",
      "system     : Linux\n",
      "release    : 4.15.0-76-generic\n",
      "machine    : x86_64\n",
      "processor  : x86_64\n",
      "CPU cores  : 16\n",
      "interpreter: 64bit\n",
      "Git hash   : 1bb789928298409106529d6e8942da764a7e8865\n",
      "Git branch : master\n"
     ]
    }
   ],
   "source": [
    "# Load `watermark` extension\n",
    "%load_ext watermark\n",
    "# Display the status of the machine and packages. Add more as necessary.\n",
    "%watermark -v -n -m -g -b -t -p torch,torchvision,cv2,h5py,pandas,matplotlib,seaborn,jupyterlab,lab"
   ]
  },
  {
   "cell_type": "markdown",
   "metadata": {},
   "source": [
    "Load [autoreload](https://ipython.org/ipython-doc/3/config/extensions/autoreload.html) which will always reload modules marked with `%aimport`.\n",
    "\n",
    "This behavior can be inverted by running `autoreload 2` which will set everything to be auto-reloaded *except* for modules marked with `%aimport`."
   ]
  },
  {
   "cell_type": "code",
   "execution_count": 2,
   "metadata": {},
   "outputs": [],
   "source": [
    "# Load `autoreload` extension\n",
    "%load_ext autoreload\n",
    "# Set autoreload behavior\n",
    "%autoreload 1"
   ]
  },
  {
   "cell_type": "markdown",
   "metadata": {},
   "source": [
    "Load `matplotlib` in one of the more `jupyter`-friendly [rich-output modes](https://ipython.readthedocs.io/en/stable/interactive/plotting.html). Some options (that may or may not have worked) are `inline`, `notebook`, and `gtk`."
   ]
  },
  {
   "cell_type": "code",
   "execution_count": 3,
   "metadata": {},
   "outputs": [],
   "source": [
    "# Set the matplotlib mode\n",
    "%matplotlib inline"
   ]
  },
  {
   "cell_type": "markdown",
   "metadata": {},
   "source": [
    "## Imports"
   ]
  },
  {
   "cell_type": "code",
   "execution_count": 4,
   "metadata": {},
   "outputs": [],
   "source": [
    "from pathlib import Path\n",
    "\n",
    "import cv2\n",
    "import numpy as np\n",
    "import pandas as pd\n",
    "import seaborn as sns\n",
    "import pickle\n",
    "import matplotlib.pyplot as plt\n",
    "from tqdm import tqdm"
   ]
  },
  {
   "cell_type": "markdown",
   "metadata": {},
   "source": [
    "Local imports that may or may not be autoreloaded. This section contains things that will likely have to be re-imported multiple times, and have additions or subtractions made throughout the project."
   ]
  },
  {
   "cell_type": "code",
   "execution_count": 5,
   "metadata": {},
   "outputs": [],
   "source": [
    "# Constants to be used throughout the package\n",
    "%aimport lab.index\n",
    "from lab.index import DIR_DATA_INT, DIR_DATA_RAW\n",
    "%aimport lab.breakfast.constants\n",
    "from lab.breakfast.constants import SEED\n",
    "# Import the data subdirectories\n",
    "%aimport lab.breakfast.index\n",
    "from lab.breakfast.index import (DIR_BREAKFAST, \n",
    "                                 DIR_RAW_BREAKFAST,\n",
    "                                 DIR_BREAKFAST_DATA, \n",
    "                                 DIR_COARSE_SEG, \n",
    "                                 DIR_FINE_SEG,\n",
    "                                )"
   ]
  },
  {
   "cell_type": "markdown",
   "metadata": {},
   "source": [
    "## Initial Setup"
   ]
  },
  {
   "cell_type": "markdown",
   "metadata": {},
   "source": [
    "Set [seaborn defaults](https://seaborn.pydata.org/generated/seaborn.set.html) for matplotlib."
   ]
  },
  {
   "cell_type": "code",
   "execution_count": 6,
   "metadata": {},
   "outputs": [],
   "source": [
    "sns.set()"
   ]
  },
  {
   "cell_type": "code",
   "execution_count": 7,
   "metadata": {},
   "outputs": [
    {
     "data": {
      "text/html": [
       "<div>\n",
       "<style scoped>\n",
       "    .dataframe tbody tr th:only-of-type {\n",
       "        vertical-align: middle;\n",
       "    }\n",
       "\n",
       "    .dataframe tbody tr th {\n",
       "        vertical-align: top;\n",
       "    }\n",
       "\n",
       "    .dataframe thead th {\n",
       "        text-align: right;\n",
       "    }\n",
       "</style>\n",
       "<table border=\"1\" class=\"dataframe\">\n",
       "  <thead>\n",
       "    <tr style=\"text-align: right;\">\n",
       "      <th></th>\n",
       "      <th>path_videos</th>\n",
       "      <th>length</th>\n",
       "      <th>patient</th>\n",
       "      <th>action</th>\n",
       "      <th>camera</th>\n",
       "      <th>channel</th>\n",
       "      <th>id</th>\n",
       "      <th>path_coarse</th>\n",
       "      <th>path_fine</th>\n",
       "      <th>path_64dim_fv</th>\n",
       "      <th>path_i3d</th>\n",
       "    </tr>\n",
       "  </thead>\n",
       "  <tbody>\n",
       "    <tr>\n",
       "      <th>0</th>\n",
       "      <td>/media/data_cifs2/apra/work/labwork/data/exter...</td>\n",
       "      <td>2669</td>\n",
       "      <td>39</td>\n",
       "      <td>salat</td>\n",
       "      <td>cam01</td>\n",
       "      <td>NaN</td>\n",
       "      <td>39_salat_cam01</td>\n",
       "      <td>/media/data_cifs2/apra/work/labwork/data/exter...</td>\n",
       "      <td>NaN</td>\n",
       "      <td>/media/data_cifs2/apra/work/labwork/data/exter...</td>\n",
       "      <td>/media/data_cifs2/apra/work/labwork/data/exter...</td>\n",
       "    </tr>\n",
       "    <tr>\n",
       "      <th>1</th>\n",
       "      <td>/media/data_cifs2/apra/work/labwork/data/exter...</td>\n",
       "      <td>1304</td>\n",
       "      <td>39</td>\n",
       "      <td>tea</td>\n",
       "      <td>cam01</td>\n",
       "      <td>NaN</td>\n",
       "      <td>39_tea_cam01</td>\n",
       "      <td>/media/data_cifs2/apra/work/labwork/data/exter...</td>\n",
       "      <td>NaN</td>\n",
       "      <td>/media/data_cifs2/apra/work/labwork/data/exter...</td>\n",
       "      <td>/media/data_cifs2/apra/work/labwork/data/exter...</td>\n",
       "    </tr>\n",
       "    <tr>\n",
       "      <th>2</th>\n",
       "      <td>/media/data_cifs2/apra/work/labwork/data/exter...</td>\n",
       "      <td>8990</td>\n",
       "      <td>39</td>\n",
       "      <td>pancake</td>\n",
       "      <td>cam01</td>\n",
       "      <td>NaN</td>\n",
       "      <td>39_pancake_cam01</td>\n",
       "      <td>/media/data_cifs2/apra/work/labwork/data/exter...</td>\n",
       "      <td>NaN</td>\n",
       "      <td>/media/data_cifs2/apra/work/labwork/data/exter...</td>\n",
       "      <td>/media/data_cifs2/apra/work/labwork/data/exter...</td>\n",
       "    </tr>\n",
       "    <tr>\n",
       "      <th>3</th>\n",
       "      <td>/media/data_cifs2/apra/work/labwork/data/exter...</td>\n",
       "      <td>699</td>\n",
       "      <td>39</td>\n",
       "      <td>cereals</td>\n",
       "      <td>cam01</td>\n",
       "      <td>NaN</td>\n",
       "      <td>39_cereals_cam01</td>\n",
       "      <td>/media/data_cifs2/apra/work/labwork/data/exter...</td>\n",
       "      <td>NaN</td>\n",
       "      <td>/media/data_cifs2/apra/work/labwork/data/exter...</td>\n",
       "      <td>/media/data_cifs2/apra/work/labwork/data/exter...</td>\n",
       "    </tr>\n",
       "    <tr>\n",
       "      <th>4</th>\n",
       "      <td>/media/data_cifs2/apra/work/labwork/data/exter...</td>\n",
       "      <td>2890</td>\n",
       "      <td>39</td>\n",
       "      <td>friedegg</td>\n",
       "      <td>cam01</td>\n",
       "      <td>NaN</td>\n",
       "      <td>39_friedegg_cam01</td>\n",
       "      <td>/media/data_cifs2/apra/work/labwork/data/exter...</td>\n",
       "      <td>NaN</td>\n",
       "      <td>/media/data_cifs2/apra/work/labwork/data/exter...</td>\n",
       "      <td>/media/data_cifs2/apra/work/labwork/data/exter...</td>\n",
       "    </tr>\n",
       "    <tr>\n",
       "      <th>...</th>\n",
       "      <td>...</td>\n",
       "      <td>...</td>\n",
       "      <td>...</td>\n",
       "      <td>...</td>\n",
       "      <td>...</td>\n",
       "      <td>...</td>\n",
       "      <td>...</td>\n",
       "      <td>...</td>\n",
       "      <td>...</td>\n",
       "      <td>...</td>\n",
       "      <td>...</td>\n",
       "    </tr>\n",
       "    <tr>\n",
       "      <th>1984</th>\n",
       "      <td>/media/data_cifs2/apra/work/labwork/data/exter...</td>\n",
       "      <td>1123</td>\n",
       "      <td>5</td>\n",
       "      <td>coffee</td>\n",
       "      <td>cam01</td>\n",
       "      <td>NaN</td>\n",
       "      <td>5_coffee_cam01</td>\n",
       "      <td>/media/data_cifs2/apra/work/labwork/data/exter...</td>\n",
       "      <td>NaN</td>\n",
       "      <td>/media/data_cifs2/apra/work/labwork/data/exter...</td>\n",
       "      <td>/media/data_cifs2/apra/work/labwork/data/exter...</td>\n",
       "    </tr>\n",
       "    <tr>\n",
       "      <th>1985</th>\n",
       "      <td>/media/data_cifs2/apra/work/labwork/data/exter...</td>\n",
       "      <td>2795</td>\n",
       "      <td>5</td>\n",
       "      <td>juice</td>\n",
       "      <td>stereo</td>\n",
       "      <td>0.0</td>\n",
       "      <td>5_juice_stereo_0</td>\n",
       "      <td>NaN</td>\n",
       "      <td>NaN</td>\n",
       "      <td>NaN</td>\n",
       "      <td>NaN</td>\n",
       "    </tr>\n",
       "    <tr>\n",
       "      <th>1986</th>\n",
       "      <td>/media/data_cifs2/apra/work/labwork/data/exter...</td>\n",
       "      <td>1084</td>\n",
       "      <td>5</td>\n",
       "      <td>milk</td>\n",
       "      <td>stereo</td>\n",
       "      <td>0.0</td>\n",
       "      <td>5_milk_stereo_0</td>\n",
       "      <td>NaN</td>\n",
       "      <td>NaN</td>\n",
       "      <td>NaN</td>\n",
       "      <td>NaN</td>\n",
       "    </tr>\n",
       "    <tr>\n",
       "      <th>1987</th>\n",
       "      <td>/media/data_cifs2/apra/work/labwork/data/exter...</td>\n",
       "      <td>2795</td>\n",
       "      <td>5</td>\n",
       "      <td>juice</td>\n",
       "      <td>stereo</td>\n",
       "      <td>1.0</td>\n",
       "      <td>5_juice_stereo_1</td>\n",
       "      <td>/media/data_cifs2/apra/work/labwork/data/exter...</td>\n",
       "      <td>NaN</td>\n",
       "      <td>/media/data_cifs2/apra/work/labwork/data/exter...</td>\n",
       "      <td>/media/data_cifs2/apra/work/labwork/data/exter...</td>\n",
       "    </tr>\n",
       "    <tr>\n",
       "      <th>1988</th>\n",
       "      <td>/media/data_cifs2/apra/work/labwork/data/exter...</td>\n",
       "      <td>1084</td>\n",
       "      <td>5</td>\n",
       "      <td>milk</td>\n",
       "      <td>stereo</td>\n",
       "      <td>1.0</td>\n",
       "      <td>5_milk_stereo_1</td>\n",
       "      <td>/media/data_cifs2/apra/work/labwork/data/exter...</td>\n",
       "      <td>/media/data_cifs2/apra/work/labwork/data/exter...</td>\n",
       "      <td>/media/data_cifs2/apra/work/labwork/data/exter...</td>\n",
       "      <td>/media/data_cifs2/apra/work/labwork/data/exter...</td>\n",
       "    </tr>\n",
       "  </tbody>\n",
       "</table>\n",
       "<p>1989 rows × 11 columns</p>\n",
       "</div>"
      ],
      "text/plain": [
       "                                            path_videos  length  patient  \\\n",
       "0     /media/data_cifs2/apra/work/labwork/data/exter...    2669       39   \n",
       "1     /media/data_cifs2/apra/work/labwork/data/exter...    1304       39   \n",
       "2     /media/data_cifs2/apra/work/labwork/data/exter...    8990       39   \n",
       "3     /media/data_cifs2/apra/work/labwork/data/exter...     699       39   \n",
       "4     /media/data_cifs2/apra/work/labwork/data/exter...    2890       39   \n",
       "...                                                 ...     ...      ...   \n",
       "1984  /media/data_cifs2/apra/work/labwork/data/exter...    1123        5   \n",
       "1985  /media/data_cifs2/apra/work/labwork/data/exter...    2795        5   \n",
       "1986  /media/data_cifs2/apra/work/labwork/data/exter...    1084        5   \n",
       "1987  /media/data_cifs2/apra/work/labwork/data/exter...    2795        5   \n",
       "1988  /media/data_cifs2/apra/work/labwork/data/exter...    1084        5   \n",
       "\n",
       "        action  camera  channel                 id  \\\n",
       "0        salat   cam01      NaN     39_salat_cam01   \n",
       "1          tea   cam01      NaN       39_tea_cam01   \n",
       "2      pancake   cam01      NaN   39_pancake_cam01   \n",
       "3      cereals   cam01      NaN   39_cereals_cam01   \n",
       "4     friedegg   cam01      NaN  39_friedegg_cam01   \n",
       "...        ...     ...      ...                ...   \n",
       "1984    coffee   cam01      NaN     5_coffee_cam01   \n",
       "1985     juice  stereo      0.0   5_juice_stereo_0   \n",
       "1986      milk  stereo      0.0    5_milk_stereo_0   \n",
       "1987     juice  stereo      1.0   5_juice_stereo_1   \n",
       "1988      milk  stereo      1.0    5_milk_stereo_1   \n",
       "\n",
       "                                            path_coarse  \\\n",
       "0     /media/data_cifs2/apra/work/labwork/data/exter...   \n",
       "1     /media/data_cifs2/apra/work/labwork/data/exter...   \n",
       "2     /media/data_cifs2/apra/work/labwork/data/exter...   \n",
       "3     /media/data_cifs2/apra/work/labwork/data/exter...   \n",
       "4     /media/data_cifs2/apra/work/labwork/data/exter...   \n",
       "...                                                 ...   \n",
       "1984  /media/data_cifs2/apra/work/labwork/data/exter...   \n",
       "1985                                                NaN   \n",
       "1986                                                NaN   \n",
       "1987  /media/data_cifs2/apra/work/labwork/data/exter...   \n",
       "1988  /media/data_cifs2/apra/work/labwork/data/exter...   \n",
       "\n",
       "                                              path_fine  \\\n",
       "0                                                   NaN   \n",
       "1                                                   NaN   \n",
       "2                                                   NaN   \n",
       "3                                                   NaN   \n",
       "4                                                   NaN   \n",
       "...                                                 ...   \n",
       "1984                                                NaN   \n",
       "1985                                                NaN   \n",
       "1986                                                NaN   \n",
       "1987                                                NaN   \n",
       "1988  /media/data_cifs2/apra/work/labwork/data/exter...   \n",
       "\n",
       "                                          path_64dim_fv  \\\n",
       "0     /media/data_cifs2/apra/work/labwork/data/exter...   \n",
       "1     /media/data_cifs2/apra/work/labwork/data/exter...   \n",
       "2     /media/data_cifs2/apra/work/labwork/data/exter...   \n",
       "3     /media/data_cifs2/apra/work/labwork/data/exter...   \n",
       "4     /media/data_cifs2/apra/work/labwork/data/exter...   \n",
       "...                                                 ...   \n",
       "1984  /media/data_cifs2/apra/work/labwork/data/exter...   \n",
       "1985                                                NaN   \n",
       "1986                                                NaN   \n",
       "1987  /media/data_cifs2/apra/work/labwork/data/exter...   \n",
       "1988  /media/data_cifs2/apra/work/labwork/data/exter...   \n",
       "\n",
       "                                               path_i3d  \n",
       "0     /media/data_cifs2/apra/work/labwork/data/exter...  \n",
       "1     /media/data_cifs2/apra/work/labwork/data/exter...  \n",
       "2     /media/data_cifs2/apra/work/labwork/data/exter...  \n",
       "3     /media/data_cifs2/apra/work/labwork/data/exter...  \n",
       "4     /media/data_cifs2/apra/work/labwork/data/exter...  \n",
       "...                                                 ...  \n",
       "1984  /media/data_cifs2/apra/work/labwork/data/exter...  \n",
       "1985                                                NaN  \n",
       "1986                                                NaN  \n",
       "1987  /media/data_cifs2/apra/work/labwork/data/exter...  \n",
       "1988  /media/data_cifs2/apra/work/labwork/data/exter...  \n",
       "\n",
       "[1989 rows x 11 columns]"
      ]
     },
     "execution_count": 7,
     "metadata": {},
     "output_type": "execute_result"
    }
   ],
   "source": [
    "master_df = pd.read_csv(str(DIR_RAW_BREAKFAST / 'master_meta.csv'))\n",
    "master_df"
   ]
  },
  {
   "cell_type": "markdown",
   "metadata": {},
   "source": [
    "## Getting Start Frames and Number of Segments"
   ]
  },
  {
   "cell_type": "code",
   "execution_count": 8,
   "metadata": {},
   "outputs": [
    {
     "name": "stdout",
     "output_type": "stream",
     "text": [
      "1-31 SIL  \n",
      "\n",
      "32-1366 cut_fruit  \n",
      "\n",
      "1367-1421 take_bowl  \n",
      "\n",
      "1422-1551 put_fruit2bowl  \n",
      "\n",
      "1552-1671 cut_fruit  \n",
      "\n",
      "1672-2071 peel_fruit  \n",
      "\n",
      "2072-2401 cut_fruit  \n",
      "\n",
      "2402-2511 put_fruit2bowl  \n",
      "\n",
      "2512-2669 SIL  \n",
      "\n"
     ]
    }
   ],
   "source": [
    "with open(str(master_df.path_coarse.iloc[0]), 'r') as f:\n",
    "    for l in f:\n",
    "        print(l)"
   ]
  },
  {
   "cell_type": "code",
   "execution_count": 9,
   "metadata": {},
   "outputs": [
    {
     "name": "stdout",
     "output_type": "stream",
     "text": [
      "['32', '1367', '1422', '1552', '1672', '2072', '2402', '2512']\n"
     ]
    }
   ],
   "source": [
    "with open(str(master_df.path_coarse.iloc[0]), 'r') as f:\n",
    "    starts = [line.split('-')[0] for line in f][1:]\n",
    "    print(starts)"
   ]
  },
  {
   "cell_type": "code",
   "execution_count": 10,
   "metadata": {},
   "outputs": [
    {
     "data": {
      "text/html": [
       "<div>\n",
       "<style scoped>\n",
       "    .dataframe tbody tr th:only-of-type {\n",
       "        vertical-align: middle;\n",
       "    }\n",
       "\n",
       "    .dataframe tbody tr th {\n",
       "        vertical-align: top;\n",
       "    }\n",
       "\n",
       "    .dataframe thead th {\n",
       "        text-align: right;\n",
       "    }\n",
       "</style>\n",
       "<table border=\"1\" class=\"dataframe\">\n",
       "  <thead>\n",
       "    <tr style=\"text-align: right;\">\n",
       "      <th></th>\n",
       "      <th>path_videos</th>\n",
       "      <th>length</th>\n",
       "      <th>patient</th>\n",
       "      <th>action</th>\n",
       "      <th>camera</th>\n",
       "      <th>channel</th>\n",
       "      <th>id</th>\n",
       "      <th>path_coarse</th>\n",
       "      <th>path_fine</th>\n",
       "      <th>path_64dim_fv</th>\n",
       "      <th>path_i3d</th>\n",
       "    </tr>\n",
       "  </thead>\n",
       "  <tbody>\n",
       "    <tr>\n",
       "      <th>0</th>\n",
       "      <td>/media/data_cifs2/apra/work/labwork/data/exter...</td>\n",
       "      <td>2669</td>\n",
       "      <td>39</td>\n",
       "      <td>salat</td>\n",
       "      <td>cam01</td>\n",
       "      <td>NaN</td>\n",
       "      <td>39_salat_cam01</td>\n",
       "      <td>/media/data_cifs2/apra/work/labwork/data/exter...</td>\n",
       "      <td>NaN</td>\n",
       "      <td>/media/data_cifs2/apra/work/labwork/data/exter...</td>\n",
       "      <td>/media/data_cifs2/apra/work/labwork/data/exter...</td>\n",
       "    </tr>\n",
       "    <tr>\n",
       "      <th>1</th>\n",
       "      <td>/media/data_cifs2/apra/work/labwork/data/exter...</td>\n",
       "      <td>1304</td>\n",
       "      <td>39</td>\n",
       "      <td>tea</td>\n",
       "      <td>cam01</td>\n",
       "      <td>NaN</td>\n",
       "      <td>39_tea_cam01</td>\n",
       "      <td>/media/data_cifs2/apra/work/labwork/data/exter...</td>\n",
       "      <td>NaN</td>\n",
       "      <td>/media/data_cifs2/apra/work/labwork/data/exter...</td>\n",
       "      <td>/media/data_cifs2/apra/work/labwork/data/exter...</td>\n",
       "    </tr>\n",
       "    <tr>\n",
       "      <th>2</th>\n",
       "      <td>/media/data_cifs2/apra/work/labwork/data/exter...</td>\n",
       "      <td>8990</td>\n",
       "      <td>39</td>\n",
       "      <td>pancake</td>\n",
       "      <td>cam01</td>\n",
       "      <td>NaN</td>\n",
       "      <td>39_pancake_cam01</td>\n",
       "      <td>/media/data_cifs2/apra/work/labwork/data/exter...</td>\n",
       "      <td>NaN</td>\n",
       "      <td>/media/data_cifs2/apra/work/labwork/data/exter...</td>\n",
       "      <td>/media/data_cifs2/apra/work/labwork/data/exter...</td>\n",
       "    </tr>\n",
       "    <tr>\n",
       "      <th>3</th>\n",
       "      <td>/media/data_cifs2/apra/work/labwork/data/exter...</td>\n",
       "      <td>699</td>\n",
       "      <td>39</td>\n",
       "      <td>cereals</td>\n",
       "      <td>cam01</td>\n",
       "      <td>NaN</td>\n",
       "      <td>39_cereals_cam01</td>\n",
       "      <td>/media/data_cifs2/apra/work/labwork/data/exter...</td>\n",
       "      <td>NaN</td>\n",
       "      <td>/media/data_cifs2/apra/work/labwork/data/exter...</td>\n",
       "      <td>/media/data_cifs2/apra/work/labwork/data/exter...</td>\n",
       "    </tr>\n",
       "    <tr>\n",
       "      <th>4</th>\n",
       "      <td>/media/data_cifs2/apra/work/labwork/data/exter...</td>\n",
       "      <td>2890</td>\n",
       "      <td>39</td>\n",
       "      <td>friedegg</td>\n",
       "      <td>cam01</td>\n",
       "      <td>NaN</td>\n",
       "      <td>39_friedegg_cam01</td>\n",
       "      <td>/media/data_cifs2/apra/work/labwork/data/exter...</td>\n",
       "      <td>NaN</td>\n",
       "      <td>/media/data_cifs2/apra/work/labwork/data/exter...</td>\n",
       "      <td>/media/data_cifs2/apra/work/labwork/data/exter...</td>\n",
       "    </tr>\n",
       "    <tr>\n",
       "      <th>...</th>\n",
       "      <td>...</td>\n",
       "      <td>...</td>\n",
       "      <td>...</td>\n",
       "      <td>...</td>\n",
       "      <td>...</td>\n",
       "      <td>...</td>\n",
       "      <td>...</td>\n",
       "      <td>...</td>\n",
       "      <td>...</td>\n",
       "      <td>...</td>\n",
       "      <td>...</td>\n",
       "    </tr>\n",
       "    <tr>\n",
       "      <th>1982</th>\n",
       "      <td>/media/data_cifs2/apra/work/labwork/data/exter...</td>\n",
       "      <td>1186</td>\n",
       "      <td>5</td>\n",
       "      <td>cereals</td>\n",
       "      <td>cam01</td>\n",
       "      <td>NaN</td>\n",
       "      <td>5_cereals_cam01</td>\n",
       "      <td>/media/data_cifs2/apra/work/labwork/data/exter...</td>\n",
       "      <td>NaN</td>\n",
       "      <td>/media/data_cifs2/apra/work/labwork/data/exter...</td>\n",
       "      <td>/media/data_cifs2/apra/work/labwork/data/exter...</td>\n",
       "    </tr>\n",
       "    <tr>\n",
       "      <th>1983</th>\n",
       "      <td>/media/data_cifs2/apra/work/labwork/data/exter...</td>\n",
       "      <td>2795</td>\n",
       "      <td>5</td>\n",
       "      <td>juice</td>\n",
       "      <td>cam01</td>\n",
       "      <td>NaN</td>\n",
       "      <td>5_juice_cam01</td>\n",
       "      <td>/media/data_cifs2/apra/work/labwork/data/exter...</td>\n",
       "      <td>NaN</td>\n",
       "      <td>/media/data_cifs2/apra/work/labwork/data/exter...</td>\n",
       "      <td>/media/data_cifs2/apra/work/labwork/data/exter...</td>\n",
       "    </tr>\n",
       "    <tr>\n",
       "      <th>1984</th>\n",
       "      <td>/media/data_cifs2/apra/work/labwork/data/exter...</td>\n",
       "      <td>1123</td>\n",
       "      <td>5</td>\n",
       "      <td>coffee</td>\n",
       "      <td>cam01</td>\n",
       "      <td>NaN</td>\n",
       "      <td>5_coffee_cam01</td>\n",
       "      <td>/media/data_cifs2/apra/work/labwork/data/exter...</td>\n",
       "      <td>NaN</td>\n",
       "      <td>/media/data_cifs2/apra/work/labwork/data/exter...</td>\n",
       "      <td>/media/data_cifs2/apra/work/labwork/data/exter...</td>\n",
       "    </tr>\n",
       "    <tr>\n",
       "      <th>1987</th>\n",
       "      <td>/media/data_cifs2/apra/work/labwork/data/exter...</td>\n",
       "      <td>2795</td>\n",
       "      <td>5</td>\n",
       "      <td>juice</td>\n",
       "      <td>stereo</td>\n",
       "      <td>1.0</td>\n",
       "      <td>5_juice_stereo_1</td>\n",
       "      <td>/media/data_cifs2/apra/work/labwork/data/exter...</td>\n",
       "      <td>NaN</td>\n",
       "      <td>/media/data_cifs2/apra/work/labwork/data/exter...</td>\n",
       "      <td>/media/data_cifs2/apra/work/labwork/data/exter...</td>\n",
       "    </tr>\n",
       "    <tr>\n",
       "      <th>1988</th>\n",
       "      <td>/media/data_cifs2/apra/work/labwork/data/exter...</td>\n",
       "      <td>1084</td>\n",
       "      <td>5</td>\n",
       "      <td>milk</td>\n",
       "      <td>stereo</td>\n",
       "      <td>1.0</td>\n",
       "      <td>5_milk_stereo_1</td>\n",
       "      <td>/media/data_cifs2/apra/work/labwork/data/exter...</td>\n",
       "      <td>/media/data_cifs2/apra/work/labwork/data/exter...</td>\n",
       "      <td>/media/data_cifs2/apra/work/labwork/data/exter...</td>\n",
       "      <td>/media/data_cifs2/apra/work/labwork/data/exter...</td>\n",
       "    </tr>\n",
       "  </tbody>\n",
       "</table>\n",
       "<p>1677 rows × 11 columns</p>\n",
       "</div>"
      ],
      "text/plain": [
       "                                            path_videos  length  patient  \\\n",
       "0     /media/data_cifs2/apra/work/labwork/data/exter...    2669       39   \n",
       "1     /media/data_cifs2/apra/work/labwork/data/exter...    1304       39   \n",
       "2     /media/data_cifs2/apra/work/labwork/data/exter...    8990       39   \n",
       "3     /media/data_cifs2/apra/work/labwork/data/exter...     699       39   \n",
       "4     /media/data_cifs2/apra/work/labwork/data/exter...    2890       39   \n",
       "...                                                 ...     ...      ...   \n",
       "1982  /media/data_cifs2/apra/work/labwork/data/exter...    1186        5   \n",
       "1983  /media/data_cifs2/apra/work/labwork/data/exter...    2795        5   \n",
       "1984  /media/data_cifs2/apra/work/labwork/data/exter...    1123        5   \n",
       "1987  /media/data_cifs2/apra/work/labwork/data/exter...    2795        5   \n",
       "1988  /media/data_cifs2/apra/work/labwork/data/exter...    1084        5   \n",
       "\n",
       "        action  camera  channel                 id  \\\n",
       "0        salat   cam01      NaN     39_salat_cam01   \n",
       "1          tea   cam01      NaN       39_tea_cam01   \n",
       "2      pancake   cam01      NaN   39_pancake_cam01   \n",
       "3      cereals   cam01      NaN   39_cereals_cam01   \n",
       "4     friedegg   cam01      NaN  39_friedegg_cam01   \n",
       "...        ...     ...      ...                ...   \n",
       "1982   cereals   cam01      NaN    5_cereals_cam01   \n",
       "1983     juice   cam01      NaN      5_juice_cam01   \n",
       "1984    coffee   cam01      NaN     5_coffee_cam01   \n",
       "1987     juice  stereo      1.0   5_juice_stereo_1   \n",
       "1988      milk  stereo      1.0    5_milk_stereo_1   \n",
       "\n",
       "                                            path_coarse  \\\n",
       "0     /media/data_cifs2/apra/work/labwork/data/exter...   \n",
       "1     /media/data_cifs2/apra/work/labwork/data/exter...   \n",
       "2     /media/data_cifs2/apra/work/labwork/data/exter...   \n",
       "3     /media/data_cifs2/apra/work/labwork/data/exter...   \n",
       "4     /media/data_cifs2/apra/work/labwork/data/exter...   \n",
       "...                                                 ...   \n",
       "1982  /media/data_cifs2/apra/work/labwork/data/exter...   \n",
       "1983  /media/data_cifs2/apra/work/labwork/data/exter...   \n",
       "1984  /media/data_cifs2/apra/work/labwork/data/exter...   \n",
       "1987  /media/data_cifs2/apra/work/labwork/data/exter...   \n",
       "1988  /media/data_cifs2/apra/work/labwork/data/exter...   \n",
       "\n",
       "                                              path_fine  \\\n",
       "0                                                   NaN   \n",
       "1                                                   NaN   \n",
       "2                                                   NaN   \n",
       "3                                                   NaN   \n",
       "4                                                   NaN   \n",
       "...                                                 ...   \n",
       "1982                                                NaN   \n",
       "1983                                                NaN   \n",
       "1984                                                NaN   \n",
       "1987                                                NaN   \n",
       "1988  /media/data_cifs2/apra/work/labwork/data/exter...   \n",
       "\n",
       "                                          path_64dim_fv  \\\n",
       "0     /media/data_cifs2/apra/work/labwork/data/exter...   \n",
       "1     /media/data_cifs2/apra/work/labwork/data/exter...   \n",
       "2     /media/data_cifs2/apra/work/labwork/data/exter...   \n",
       "3     /media/data_cifs2/apra/work/labwork/data/exter...   \n",
       "4     /media/data_cifs2/apra/work/labwork/data/exter...   \n",
       "...                                                 ...   \n",
       "1982  /media/data_cifs2/apra/work/labwork/data/exter...   \n",
       "1983  /media/data_cifs2/apra/work/labwork/data/exter...   \n",
       "1984  /media/data_cifs2/apra/work/labwork/data/exter...   \n",
       "1987  /media/data_cifs2/apra/work/labwork/data/exter...   \n",
       "1988  /media/data_cifs2/apra/work/labwork/data/exter...   \n",
       "\n",
       "                                               path_i3d  \n",
       "0     /media/data_cifs2/apra/work/labwork/data/exter...  \n",
       "1     /media/data_cifs2/apra/work/labwork/data/exter...  \n",
       "2     /media/data_cifs2/apra/work/labwork/data/exter...  \n",
       "3     /media/data_cifs2/apra/work/labwork/data/exter...  \n",
       "4     /media/data_cifs2/apra/work/labwork/data/exter...  \n",
       "...                                                 ...  \n",
       "1982  /media/data_cifs2/apra/work/labwork/data/exter...  \n",
       "1983  /media/data_cifs2/apra/work/labwork/data/exter...  \n",
       "1984  /media/data_cifs2/apra/work/labwork/data/exter...  \n",
       "1987  /media/data_cifs2/apra/work/labwork/data/exter...  \n",
       "1988  /media/data_cifs2/apra/work/labwork/data/exter...  \n",
       "\n",
       "[1677 rows x 11 columns]"
      ]
     },
     "execution_count": 10,
     "metadata": {},
     "output_type": "execute_result"
    }
   ],
   "source": [
    "coarse_sub_df = master_df[master_df.path_coarse.notnull()]\n",
    "coarse_sub_df"
   ]
  },
  {
   "cell_type": "code",
   "execution_count": 11,
   "metadata": {},
   "outputs": [],
   "source": [
    "ids, n_coarse_segments, coarse_segment_starts = [], [], []\n",
    "\n",
    "for id, path in coarse_sub_df[['id', 'path_coarse']].values:\n",
    "    with open(str(path), 'r') as file:\n",
    "        ids.append(id)\n",
    "        coarse_segment_starts.append([int(line.split('-')[0]) for line in file][1:])\n",
    "        n_coarse_segments.append(len(coarse_segment_starts[-1]))"
   ]
  },
  {
   "cell_type": "code",
   "execution_count": 12,
   "metadata": {},
   "outputs": [
    {
     "data": {
      "text/plain": [
       "1677"
      ]
     },
     "execution_count": 12,
     "metadata": {},
     "output_type": "execute_result"
    }
   ],
   "source": [
    "len(ids)"
   ]
  },
  {
   "cell_type": "code",
   "execution_count": 13,
   "metadata": {},
   "outputs": [
    {
     "data": {
      "text/plain": [
       "['39_salat_cam01',\n",
       " '39_tea_cam01',\n",
       " '39_pancake_cam01',\n",
       " '39_cereals_cam01',\n",
       " '39_friedegg_cam01']"
      ]
     },
     "execution_count": 13,
     "metadata": {},
     "output_type": "execute_result"
    }
   ],
   "source": [
    "ids[:5]"
   ]
  },
  {
   "cell_type": "markdown",
   "metadata": {},
   "source": [
    "## Convenience DFs"
   ]
  },
  {
   "cell_type": "code",
   "execution_count": 14,
   "metadata": {},
   "outputs": [],
   "source": [
    "coarse_df = pd.DataFrame({'id' : ids})\n",
    "coarse_df['n_coarse_segments'] = n_coarse_segments\n",
    "coarse_df['coarse_segment_starts'] = coarse_segment_starts\n",
    "coarse_df = coarse_df.merge(master_df[['id', 'length']], how='left', on='id')"
   ]
  },
  {
   "cell_type": "code",
   "execution_count": 15,
   "metadata": {},
   "outputs": [],
   "source": [
    "coarse_64d_fv_df = coarse_df.merge(master_df[['id', 'path_64dim_fv']].dropna(), \n",
    "                                   how='inner', on='id')"
   ]
  },
  {
   "cell_type": "code",
   "execution_count": 16,
   "metadata": {},
   "outputs": [],
   "source": [
    "coarse_i3d_df = coarse_df.merge(master_df[['id', 'path_i3d']].dropna(), \n",
    "                                how='inner', on='id')"
   ]
  },
  {
   "cell_type": "markdown",
   "metadata": {},
   "source": [
    "## Making the List of Event Indices"
   ]
  },
  {
   "cell_type": "code",
   "execution_count": 18,
   "metadata": {},
   "outputs": [],
   "source": [
    "# Select this number of frames\n",
    "n_frames = 64\n",
    "buffer = 15 # Assume people correctly label within a second of event"
   ]
  },
  {
   "cell_type": "markdown",
   "metadata": {},
   "source": [
    "Should ignore indices that start with 2"
   ]
  },
  {
   "cell_type": "markdown",
   "metadata": {},
   "source": [
    "### 64 FV Events"
   ]
  },
  {
   "cell_type": "code",
   "execution_count": 20,
   "metadata": {},
   "outputs": [
    {
     "name": "stdout",
     "output_type": "stream",
     "text": [
      "64 15\n",
      "1474\n",
      "1474\n"
     ]
    }
   ],
   "source": [
    "np.random.seed(SEED)\n",
    "\n",
    "all_clip_ranges = []\n",
    "all_clip_diffs = []\n",
    "start_clip_idcs = []\n",
    "\n",
    "for n, starts, length in coarse_64d_fv_df[\n",
    "    ['n_coarse_segments', 'coarse_segment_starts', 'length']].values:\n",
    "    # Ignore last segment which is start of SIL\n",
    "    idcs_to_use = starts[:-1]\n",
    "    # 2 Shows up disproportionally more than others. Ignore it\n",
    "    if 2 in idcs_to_use:\n",
    "        idcs_to_use = idcs_to_use[1:]\n",
    "    \n",
    "    # Move on if there are no events left to use\n",
    "    if not idcs_to_use:\n",
    "        all_clip_ranges.append([])\n",
    "        all_clip_diffs.append(np.array([]))\n",
    "        start_clip_idcs.append([])\n",
    "        continue \n",
    "    \n",
    "    clip_starts, clip_ranges = [], []\n",
    "    \n",
    "    # Calculate differences between each of the start points\n",
    "    diffs = np.diff(idcs_to_use)\n",
    "    for i, diff in enumerate(diffs):\n",
    "        # If the value is greater than n_frames + 2*buffer,\n",
    "        if diff > n_frames + 2*buffer:\n",
    "            # Decide how many clips to create based on how many times larger\n",
    "            n_clips = (diff - 2*buffer) // n_frames\n",
    "            \n",
    "            # use that starting point + buffer\n",
    "            diff_clip_starts = [idcs_to_use[i] + 2*buffer + clip*n_frames\n",
    "                                for clip in range(n_clips)]\n",
    "            # Build the ranges\n",
    "            clip_ranges += [np.arange(start, start+n_frames)\n",
    "                            for start in diff_clip_starts]\n",
    "            clip_starts += diff_clip_starts\n",
    "    \n",
    "    # List of the full 64 frame clip indices\n",
    "    all_clip_ranges.append(clip_ranges)\n",
    "    # And the starting idx of the clip\n",
    "    start_clip_idcs.append(clip_starts)\n",
    "    # All the diffs\n",
    "    all_clip_diffs.append(diffs)\n",
    "    \n",
    "print(n_frames, buffer)\n",
    "# print(idcs_to_use)\n",
    "# print(diffs)\n",
    "# print(n_clips)\n",
    "# print(len(clip_starts))\n",
    "# print(len(clip_ranges))\n",
    "print(len(all_clip_ranges))\n",
    "print(len(start_clip_idcs))"
   ]
  },
  {
   "cell_type": "markdown",
   "metadata": {},
   "source": [
    "#### Saving the Interim Data"
   ]
  },
  {
   "cell_type": "code",
   "execution_count": 24,
   "metadata": {},
   "outputs": [],
   "source": [
    "path_interim_data = DIR_DATA_INT / 'breakfast/video_clips/nonevent_clips/'\n",
    "if not path_interim_data.exists():\n",
    "    path_interim_data.mkdir(parents=True)\n",
    "    \n",
    "path_interim_64fv = path_interim_data / '64dim_fv_clips'\n",
    "if not path_interim_64fv.exists():\n",
    "    path_interim_64fv.mkdir(parents=True)"
   ]
  },
  {
   "cell_type": "code",
   "execution_count": 27,
   "metadata": {},
   "outputs": [],
   "source": [
    "with open(str(path_interim_64fv / f'nonevent_clip_diffs_seed_{SEED}.pkl'), 'wb') as filehandle:\n",
    "    pickle.dump(all_clip_diffs, filehandle)"
   ]
  },
  {
   "cell_type": "code",
   "execution_count": 28,
   "metadata": {},
   "outputs": [],
   "source": [
    "with open(str(path_interim_64fv / f'nonevent_clip_ranges_seed_{SEED}.pkl'), 'wb') as filehandle:\n",
    "    pickle.dump(all_clip_ranges, filehandle)"
   ]
  },
  {
   "cell_type": "code",
   "execution_count": 29,
   "metadata": {},
   "outputs": [],
   "source": [
    "with open(str(path_interim_64fv / f'nonevent_clip_starts_seed_{SEED}.pkl'), 'wb') as filehandle:\n",
    "    pickle.dump(start_clip_idcs, filehandle)"
   ]
  },
  {
   "cell_type": "markdown",
   "metadata": {},
   "source": [
    "#### Creating the 64 Dim FV Clips"
   ]
  },
  {
   "cell_type": "code",
   "execution_count": 33,
   "metadata": {},
   "outputs": [],
   "source": [
    "coarse_64d_fv_df['all_clip_ranges'] = all_clip_ranges\n",
    "coarse_64d_fv_df['start_clip_idcs'] = start_clip_idcs\n",
    "coarse_64d_fv_df['all_clip_diffs'] = all_clip_diffs"
   ]
  },
  {
   "cell_type": "code",
   "execution_count": 35,
   "metadata": {},
   "outputs": [
    {
     "data": {
      "text/plain": [
       "PosixPath('/media/data_cifs2/apra/work/labwork/data/interim/breakfast/video_clips/nonevent_clips/64dim_fv_clips/clips')"
      ]
     },
     "execution_count": 35,
     "metadata": {},
     "output_type": "execute_result"
    }
   ],
   "source": [
    "path_clips = path_interim_64fv / 'clips'\n",
    "if not path_clips.exists():\n",
    "    path_clips.mkdir(parents=True)\n",
    "path_clips"
   ]
  },
  {
   "cell_type": "code",
   "execution_count": 37,
   "metadata": {},
   "outputs": [],
   "source": [
    "for id, path, clip_ranges, starts in coarse_64d_fv_df[[\n",
    "    'id',\n",
    "    'path_64dim_fv',\n",
    "    'all_clip_ranges', \n",
    "    'start_clip_idcs',\n",
    "]].values:\n",
    "    file_array = pd.read_table(str(path), index_col=0, header=0).to_numpy()\n",
    "    for clip_range, start in zip(clip_ranges, starts):\n",
    "        path_out = path_clips / f'{id}_start_{start}_seed_{SEED}.npy'\n",
    "        np.save(str(path_out), file_array[clip_range, :])"
   ]
  },
  {
   "cell_type": "markdown",
   "metadata": {},
   "source": [
    "### I3D Events"
   ]
  },
  {
   "cell_type": "code",
   "execution_count": 39,
   "metadata": {},
   "outputs": [
    {
     "name": "stderr",
     "output_type": "stream",
     "text": [
      "100%|██████████| 1576/1576 [00:00<00:00, 12069.30it/s]"
     ]
    },
    {
     "name": "stdout",
     "output_type": "stream",
     "text": [
      "64 15\n",
      "1576\n",
      "1576\n"
     ]
    },
    {
     "name": "stderr",
     "output_type": "stream",
     "text": [
      "\n"
     ]
    }
   ],
   "source": [
    "np.random.seed(SEED)\n",
    "\n",
    "all_clip_ranges = []\n",
    "all_clip_diffs = []\n",
    "start_clip_idcs = []\n",
    "\n",
    "for n, starts, length in tqdm(coarse_i3d_df[[\n",
    "    'n_coarse_segments', \n",
    "    'coarse_segment_starts', \n",
    "    'length'\n",
    "]].values):\n",
    "    # Ignore last segment which is start of SIL\n",
    "    idcs_to_use = starts[:-1]\n",
    "    # 2 Shows up disproportionally more than others. Ignore it\n",
    "    if 2 in idcs_to_use:\n",
    "        idcs_to_use = idcs_to_use[1:]\n",
    "    \n",
    "    # Move on if there are no events left to use\n",
    "    if not idcs_to_use:\n",
    "        all_clip_ranges.append([])\n",
    "        all_clip_diffs.append(np.array([]))\n",
    "        start_clip_idcs.append([])\n",
    "        continue \n",
    "    \n",
    "    clip_starts, clip_ranges = [], []\n",
    "    \n",
    "    # Calculate differences between each of the start points\n",
    "    diffs = np.diff(idcs_to_use)\n",
    "    for i, diff in enumerate(diffs):\n",
    "        # If the value is greater than n_frames + 2*buffer,\n",
    "        if diff > n_frames + 2*buffer:\n",
    "            # Decide how many clips to create based on how many times larger\n",
    "            n_clips = (diff - 2*buffer) // n_frames\n",
    "            \n",
    "            # use that starting point + buffer\n",
    "            diff_clip_starts = [idcs_to_use[i] + 2*buffer + clip*n_frames\n",
    "                                for clip in range(n_clips)]\n",
    "            # Build the ranges\n",
    "            clip_ranges += [np.arange(start, start+n_frames)\n",
    "                            for start in diff_clip_starts]\n",
    "            clip_starts += diff_clip_starts\n",
    "    \n",
    "    # List of the full 64 frame clip indices\n",
    "    all_clip_ranges.append(clip_ranges)\n",
    "    # And the starting idx of the clip\n",
    "    start_clip_idcs.append(clip_starts)\n",
    "    # All the diffs\n",
    "    all_clip_diffs.append(diffs)\n",
    "\n",
    "print(n_frames, buffer)\n",
    "# print(idcs_to_use)\n",
    "# print(diffs)\n",
    "# print(n_clips)\n",
    "# print(len(clip_starts))\n",
    "# print(len(clip_ranges))\n",
    "print(len(all_clip_ranges))\n",
    "print(len(start_clip_idcs))"
   ]
  },
  {
   "cell_type": "markdown",
   "metadata": {},
   "source": [
    "### Saving the Interim Data"
   ]
  },
  {
   "cell_type": "code",
   "execution_count": 40,
   "metadata": {},
   "outputs": [],
   "source": [
    "path_interim_data = DIR_DATA_INT / 'breakfast/video_clips/nonevent_clips/'\n",
    "if not path_interim_data.exists():\n",
    "    path_interim_data.mkdir(parents=True)\n",
    "    \n",
    "path_interim_i3d = path_interim_data / 'i3d_clips'\n",
    "if not path_interim_i3d.exists():\n",
    "    path_interim_i3d.mkdir(parents=True)"
   ]
  },
  {
   "cell_type": "code",
   "execution_count": 41,
   "metadata": {},
   "outputs": [],
   "source": [
    "with open(str(path_interim_i3d / f'nonevent_clip_diffs_seed_{SEED}.pkl'), 'wb') as filehandle:\n",
    "    pickle.dump(all_clip_diffs, filehandle)"
   ]
  },
  {
   "cell_type": "code",
   "execution_count": 42,
   "metadata": {},
   "outputs": [],
   "source": [
    "with open(str(path_interim_i3d / f'nonevent_clip_ranges_seed_{SEED}.pkl'), 'wb') as filehandle:\n",
    "    pickle.dump(all_clip_ranges, filehandle)"
   ]
  },
  {
   "cell_type": "code",
   "execution_count": 43,
   "metadata": {},
   "outputs": [],
   "source": [
    "with open(str(path_interim_i3d / f'nonevent_clip_starts_seed_{SEED}.pkl'), 'wb') as filehandle:\n",
    "    pickle.dump(start_clip_idcs, filehandle)"
   ]
  },
  {
   "cell_type": "markdown",
   "metadata": {},
   "source": [
    "### Creating the I3D Clips"
   ]
  },
  {
   "cell_type": "code",
   "execution_count": 45,
   "metadata": {},
   "outputs": [],
   "source": [
    "coarse_i3d_df['all_clip_ranges'] = all_clip_ranges\n",
    "coarse_i3d_df['start_clip_idcs'] = start_clip_idcs\n",
    "coarse_i3d_df['all_clip_diffs'] = all_clip_diffs"
   ]
  },
  {
   "cell_type": "code",
   "execution_count": 46,
   "metadata": {},
   "outputs": [
    {
     "data": {
      "text/plain": [
       "PosixPath('/media/data_cifs2/apra/work/labwork/data/interim/breakfast/video_clips/nonevent_clips/i3d_clips/clips')"
      ]
     },
     "execution_count": 46,
     "metadata": {},
     "output_type": "execute_result"
    }
   ],
   "source": [
    "path_clips = path_interim_i3d / 'clips'\n",
    "if not path_clips.exists():\n",
    "    path_clips.mkdir(parents=True)\n",
    "path_clips"
   ]
  },
  {
   "cell_type": "code",
   "execution_count": 48,
   "metadata": {},
   "outputs": [
    {
     "name": "stderr",
     "output_type": "stream",
     "text": [
      "100%|██████████| 1576/1576 [33:07<00:00,  1.26s/it] \n"
     ]
    }
   ],
   "source": [
    "for id, path, clip_ranges, starts in tqdm(coarse_i3d_df[[\n",
    "    'id',\n",
    "    'path_i3d',\n",
    "    'all_clip_ranges', \n",
    "    'start_clip_idcs', \n",
    "]].values):\n",
    "    file_array = np.load(str(path))\n",
    "    for clip_range, start in zip(clip_ranges, starts):\n",
    "        path_out = path_clips / f'{id}_start_{start}_seed_{SEED}.npy'\n",
    "        np.save(str(path_out), file_array[clip_range, :])"
   ]
  },
  {
   "cell_type": "markdown",
   "metadata": {},
   "source": [
    "### Saving the Convenience DFs"
   ]
  },
  {
   "cell_type": "code",
   "execution_count": 49,
   "metadata": {},
   "outputs": [],
   "source": [
    "coarse_64d_fv_df.to_csv(str(path_interim_64fv / 'coarse_summary.csv'), index=False)"
   ]
  },
  {
   "cell_type": "code",
   "execution_count": 50,
   "metadata": {},
   "outputs": [],
   "source": [
    "coarse_i3d_df.to_csv(str(path_interim_i3d / 'coarse_summary.csv'), index=False)"
   ]
  },
  {
   "cell_type": "markdown",
   "metadata": {},
   "source": [
    "## Creating One Dataset"
   ]
  },
  {
   "cell_type": "code",
   "execution_count": 51,
   "metadata": {},
   "outputs": [],
   "source": [
    "raw_data_path = DIR_RAW_BREAKFAST / f'{n_frames}_frame_clips'\n",
    "if not raw_data_path.exists():\n",
    "    raw_data_path.mkdir(parents=True)"
   ]
  },
  {
   "cell_type": "markdown",
   "metadata": {},
   "source": [
    "### 64 Dim FVs"
   ]
  },
  {
   "cell_type": "code",
   "execution_count": 53,
   "metadata": {},
   "outputs": [
    {
     "name": "stderr",
     "output_type": "stream",
     "text": [
      "33527it [05:59, 93.31it/s] \n"
     ]
    }
   ],
   "source": [
    "path_64dim_clips = path_interim_64fv / 'clips'\n",
    "all_clips_data = [[path, np.load(str(path))] for path in tqdm(path_64dim_clips.iterdir())]"
   ]
  },
  {
   "cell_type": "code",
   "execution_count": 54,
   "metadata": {},
   "outputs": [],
   "source": [
    "path_all_clips, all_data = zip(*all_clips_data)"
   ]
  },
  {
   "cell_type": "code",
   "execution_count": 55,
   "metadata": {},
   "outputs": [
    {
     "data": {
      "text/plain": [
       "(PosixPath('/media/data_cifs2/apra/work/labwork/data/interim/breakfast/video_clips/nonevent_clips/64dim_fv_clips/clips/36_pancake_webcam02_start_898_seed_117.npy'),\n",
       " PosixPath('/media/data_cifs2/apra/work/labwork/data/interim/breakfast/video_clips/nonevent_clips/64dim_fv_clips/clips/51_pancake_webcam02_start_877_seed_117.npy'),\n",
       " PosixPath('/media/data_cifs2/apra/work/labwork/data/interim/breakfast/video_clips/nonevent_clips/64dim_fv_clips/clips/30_scrambledegg_cam02_start_1247_seed_117.npy'),\n",
       " PosixPath('/media/data_cifs2/apra/work/labwork/data/interim/breakfast/video_clips/nonevent_clips/64dim_fv_clips/clips/41_pancake_cam02_start_2294_seed_117.npy'),\n",
       " PosixPath('/media/data_cifs2/apra/work/labwork/data/interim/breakfast/video_clips/nonevent_clips/64dim_fv_clips/clips/26_pancake_webcam02_start_6134_seed_117.npy'))"
      ]
     },
     "execution_count": 55,
     "metadata": {},
     "output_type": "execute_result"
    }
   ],
   "source": [
    "path_all_clips[:5]"
   ]
  },
  {
   "cell_type": "code",
   "execution_count": 56,
   "metadata": {},
   "outputs": [],
   "source": [
    "path_raw_64fv_data = raw_data_path / '64dim_fv'\n",
    "if not path_raw_64fv_data.exists():\n",
    "    path_raw_64fv_data.mkdir(parents=True)"
   ]
  },
  {
   "cell_type": "code",
   "execution_count": 57,
   "metadata": {},
   "outputs": [],
   "source": [
    "with open(str(path_raw_64fv_data / f'path_nonevent_data_seed_{SEED}.pkl'), 'wb') as filehandle:\n",
    "    pickle.dump(path_all_clips, filehandle)"
   ]
  },
  {
   "cell_type": "code",
   "execution_count": 58,
   "metadata": {},
   "outputs": [
    {
     "data": {
      "text/plain": [
       "(33527, 64, 64)"
      ]
     },
     "execution_count": 58,
     "metadata": {},
     "output_type": "execute_result"
    }
   ],
   "source": [
    "all_data_array = np.array(all_data)\n",
    "all_data_array.shape"
   ]
  },
  {
   "cell_type": "code",
   "execution_count": 59,
   "metadata": {},
   "outputs": [],
   "source": [
    "np.save(str(path_raw_64fv_data / f'nonevent_clips_seed_{SEED}.npy'), all_data_array)"
   ]
  },
  {
   "cell_type": "markdown",
   "metadata": {},
   "source": [
    "### I3D Dim FVs"
   ]
  },
  {
   "cell_type": "code",
   "execution_count": 60,
   "metadata": {},
   "outputs": [
    {
     "name": "stderr",
     "output_type": "stream",
     "text": [
      "35699it [35:03, 16.97it/s]\n"
     ]
    }
   ],
   "source": [
    "path_i3d_clips = path_interim_i3d / 'clips'\n",
    "all_clips_data = [[path, np.load(str(path))] for path in tqdm(path_i3d_clips.iterdir())]"
   ]
  },
  {
   "cell_type": "code",
   "execution_count": 61,
   "metadata": {},
   "outputs": [],
   "source": [
    "path_all_clips, all_data = zip(*all_clips_data)"
   ]
  },
  {
   "cell_type": "code",
   "execution_count": 62,
   "metadata": {},
   "outputs": [
    {
     "data": {
      "text/plain": [
       "(PosixPath('/media/data_cifs2/apra/work/labwork/data/interim/breakfast/video_clips/nonevent_clips/i3d_clips/clips/36_pancake_webcam02_start_898_seed_117.npy'),\n",
       " PosixPath('/media/data_cifs2/apra/work/labwork/data/interim/breakfast/video_clips/nonevent_clips/i3d_clips/clips/51_pancake_webcam02_start_877_seed_117.npy'),\n",
       " PosixPath('/media/data_cifs2/apra/work/labwork/data/interim/breakfast/video_clips/nonevent_clips/i3d_clips/clips/30_scrambledegg_cam02_start_1247_seed_117.npy'),\n",
       " PosixPath('/media/data_cifs2/apra/work/labwork/data/interim/breakfast/video_clips/nonevent_clips/i3d_clips/clips/41_pancake_cam02_start_2294_seed_117.npy'),\n",
       " PosixPath('/media/data_cifs2/apra/work/labwork/data/interim/breakfast/video_clips/nonevent_clips/i3d_clips/clips/26_pancake_webcam02_start_6134_seed_117.npy'))"
      ]
     },
     "execution_count": 62,
     "metadata": {},
     "output_type": "execute_result"
    }
   ],
   "source": [
    "path_all_clips[:5]"
   ]
  },
  {
   "cell_type": "code",
   "execution_count": 63,
   "metadata": {},
   "outputs": [],
   "source": [
    "path_raw_i3d_data = raw_data_path / 'i3d_fv'\n",
    "if not path_raw_i3d_data.exists():\n",
    "    path_raw_i3d_data.mkdir(parents=True)"
   ]
  },
  {
   "cell_type": "code",
   "execution_count": 64,
   "metadata": {},
   "outputs": [],
   "source": [
    "with open(str(path_raw_i3d_data / f'path_nonevent_data_seed_{SEED}.pkl'), 'wb') as filehandle:\n",
    "    pickle.dump(path_all_clips, filehandle)"
   ]
  },
  {
   "cell_type": "code",
   "execution_count": 66,
   "metadata": {},
   "outputs": [
    {
     "name": "stdout",
     "output_type": "stream",
     "text": [
      "44.9 s ± 5.09 s per loop (mean ± std. dev. of 7 runs, 1 loop each)\n"
     ]
    }
   ],
   "source": [
    "all_data_array = np.array(all_data)\n",
    "all_data_array.shape"
   ]
  },
  {
   "cell_type": "code",
   "execution_count": 67,
   "metadata": {},
   "outputs": [],
   "source": [
    "np.save(str(path_raw_i3d_data / f'nonevent_clips_seed_{SEED}.npy'), all_data_array)"
   ]
  }
 ],
 "metadata": {
  "anaconda-cloud": {},
  "kernelspec": {
   "display_name": "Python 3",
   "language": "python",
   "name": "python3"
  },
  "language_info": {
   "codemirror_mode": {
    "name": "ipython",
    "version": 3
   },
   "file_extension": ".py",
   "mimetype": "text/x-python",
   "name": "python",
   "nbconvert_exporter": "python",
   "pygments_lexer": "ipython3",
   "version": "3.6.10"
  }
 },
 "nbformat": 4,
 "nbformat_minor": 4
}
